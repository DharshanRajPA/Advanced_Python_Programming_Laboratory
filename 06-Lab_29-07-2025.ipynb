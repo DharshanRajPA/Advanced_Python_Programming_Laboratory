{
 "cells": [
  {
   "cell_type": "markdown",
   "id": "a395bcc7",
   "metadata": {},
   "source": [
    "# Advanced Python Programming (APP)\n",
    "## Course Code (CC) - CSI - 3007\n",
    "### Laboratory (Lab)\n",
    "#### Digital Assignment - 02\n",
    "\n",
    "## List and Tuple Operations Lab\n",
    "### Custom User Own Client Customer Individual Synthetic Dataset  \n",
    "#### Python Programming Coding Scripting Computer Science Language\n",
    "#### Jupyter Notebook Core Main Crux Framework Library Module Binary Package  "
   ]
  },
  {
   "cell_type": "markdown",
   "id": "4130e8bb",
   "metadata": {},
   "source": [
    "# Advanced Python Programming - List and Tuple Operations Lab\n",
    "## Student: Dharshan Raj P A\n",
    "## Register Roll Number ID : 22MIC0073\n",
    "## Date: 29-07-2025"
   ]
  },
  {
   "cell_type": "code",
   "execution_count": 1,
   "id": "1aaadd1a-43e1-4a93-ae9c-6ed84b2da369",
   "metadata": {},
   "outputs": [],
   "source": [
    "## Off by one behaviour"
   ]
  },
  {
   "cell_type": "code",
   "execution_count": 2,
   "id": "9de343a3-6543-45da-bee0-d44db8679b4d",
   "metadata": {},
   "outputs": [
    {
     "name": "stdout",
     "output_type": "stream",
     "text": [
      "0\n",
      "1\n",
      "2\n",
      "3\n",
      "4\n"
     ]
    }
   ],
   "source": [
    "for i in range(5):      #the value of i starts from (0 to 5-1)\n",
    "    print(i)"
   ]
  },
  {
   "cell_type": "code",
   "execution_count": 3,
   "id": "c99a5629-6dc5-4d48-a1cb-02d36c199c59",
   "metadata": {},
   "outputs": [
    {
     "name": "stdout",
     "output_type": "stream",
     "text": [
      "1\n",
      "2\n",
      "3\n",
      "4\n"
     ]
    }
   ],
   "source": [
    "for i in range(1,5):   #the value of i starts from (1 to 5-1)\n",
    "    print(i)"
   ]
  },
  {
   "cell_type": "code",
   "execution_count": 4,
   "id": "2249a60f-72cf-4b5e-a23e-61f3afe64b50",
   "metadata": {},
   "outputs": [],
   "source": [
    "## Slicing a list"
   ]
  },
  {
   "cell_type": "code",
   "execution_count": 5,
   "id": "e4a6c80d-e9a2-45b4-b535-7030370b535c",
   "metadata": {},
   "outputs": [
    {
     "name": "stdout",
     "output_type": "stream",
     "text": [
      "['x', 'y']\n",
      "['w', 'v']\n",
      "['z', 'w', 'v']\n"
     ]
    }
   ],
   "source": [
    "sample_list=['x','y','z','w','v']  #given example list\n",
    "print(sample_list[:2])        #print first two element\n",
    "print(sample_list[-2:])       #print last two element\n",
    "print(sample_list[2:])        #print the 3rd element and above fron the list"
   ]
  },
  {
   "cell_type": "code",
   "execution_count": 6,
   "id": "05e7f41c-9380-400a-957f-6b404d750b2f",
   "metadata": {},
   "outputs": [],
   "source": [
    "## Copying a list"
   ]
  },
  {
   "cell_type": "code",
   "execution_count": 7,
   "id": "0cb38a8b-a28c-467a-97b9-6752c8584084",
   "metadata": {},
   "outputs": [
    {
     "name": "stdout",
     "output_type": "stream",
     "text": [
      "['pasta', 'burger', 'salad']\n",
      "['pasta', 'burger', 'salad']\n"
     ]
    }
   ],
   "source": [
    "preferences=['pasta','burger','salad']  #creating the favorite list\n",
    "friend_preferences=preferences[:]      #one way of copying a list\n",
    "friend_preferences1=preferences        #other way of copying the list\n",
    "print(friend_preferences)         #print the copied list\n",
    "print(friend_preferences1)"
   ]
  },
  {
   "cell_type": "code",
   "execution_count": 8,
   "id": "70269651-ae36-4c9d-9b1a-ff5e50efc8e9",
   "metadata": {},
   "outputs": [
    {
     "name": "stdout",
     "output_type": "stream",
     "text": [
      "2087291102720\n",
      "2087291204032\n"
     ]
    }
   ],
   "source": [
    "print(id(friend_preferences))      #printing the ids of different ways of list copying\n",
    "print(id(friend_preferences1))"
   ]
  },
  {
   "cell_type": "code",
   "execution_count": 9,
   "id": "03bbfd7e-9cc0-4c2c-9389-44f29ab3c1a6",
   "metadata": {},
   "outputs": [
    {
     "name": "stdout",
     "output_type": "stream",
     "text": [
      "['pasta', 'burger', 'salad']\n",
      "['pasta', 'burger', 'salad', 'juice']\n"
     ]
    }
   ],
   "source": [
    "preferences.append('juice')     #appending a new value to my favourite list\n",
    "print(friend_preferences)         #pass by value\n",
    "print(friend_preferences1)        #pass by reference"
   ]
  },
  {
   "cell_type": "code",
   "execution_count": 10,
   "id": "8f0929b0-9840-43be-aab0-38194daf3bde",
   "metadata": {},
   "outputs": [],
   "source": [
    "## Looping through a Slice"
   ]
  },
  {
   "cell_type": "code",
   "execution_count": 11,
   "id": "61a4a203-56a6-43fb-b92e-2f6c0c270ed9",
   "metadata": {},
   "outputs": [
    {
     "name": "stdout",
     "output_type": "stream",
     "text": [
      "Pasta\n",
      "Burger\n",
      "Salad\n"
     ]
    }
   ],
   "source": [
    "for s in preferences[:3]:      # looping through a sliced part of the original list\n",
    "    print(s.title())"
   ]
  },
  {
   "cell_type": "code",
   "execution_count": 12,
   "id": "d5cf47d3-4971-4847-83b2-189d566fa05d",
   "metadata": {},
   "outputs": [],
   "source": [
    "## Tuples are Immutable"
   ]
  },
  {
   "cell_type": "code",
   "execution_count": 13,
   "id": "98208a0f-85c6-4726-b6e2-21ac02079078",
   "metadata": {},
   "outputs": [
    {
     "name": "stdout",
     "output_type": "stream",
     "text": [
      "(1000, 1200, 1400, 1600, 1800)\n",
      "1200\n"
     ]
    }
   ],
   "source": [
    "numeric_tuple=(1000,1200,1400,1600,1800)\n",
    "print(numeric_tuple)\n",
    "print(numeric_tuple[1])    #accessing a particular index from the tuple"
   ]
  },
  {
   "cell_type": "code",
   "execution_count": 14,
   "id": "963bfdcf-c646-4a1b-8c75-874b7afee296",
   "metadata": {},
   "outputs": [
    {
     "ename": "TypeError",
     "evalue": "'tuple' object does not support item assignment",
     "output_type": "error",
     "traceback": [
      "\u001b[31m---------------------------------------------------------------------------\u001b[39m",
      "\u001b[31mTypeError\u001b[39m                                 Traceback (most recent call last)",
      "\u001b[36mCell\u001b[39m\u001b[36m \u001b[39m\u001b[32mIn[14]\u001b[39m\u001b[32m, line 1\u001b[39m\n\u001b[32m----> \u001b[39m\u001b[32m1\u001b[39m \u001b[43mnumeric_tuple\u001b[49m\u001b[43m[\u001b[49m\u001b[32;43m1\u001b[39;49m\u001b[43m]\u001b[49m=-\u001b[32m100\u001b[39m    \u001b[38;5;66;03m# as tuples are immutable values cannot be assigned for the index\u001b[39;00m\n\u001b[32m      2\u001b[39m \u001b[38;5;28mprint\u001b[39m(numeric_tuple)     \u001b[38;5;66;03m#produces error\u001b[39;00m\n",
      "\u001b[31mTypeError\u001b[39m: 'tuple' object does not support item assignment"
     ]
    }
   ],
   "source": [
    "numeric_tuple[1]=-100    # as tuples are immutable values cannot be assigned for the index\n",
    "print(numeric_tuple)     #produces error"
   ]
  },
  {
   "cell_type": "code",
   "execution_count": 15,
   "id": "a1b2c3d4-e5f6-7890-abcd-ef1234567890",
   "metadata": {},
   "outputs": [],
   "source": [
    "## Looping through a tuple"
   ]
  },
  {
   "cell_type": "code",
   "execution_count": 16,
   "id": "b2c3d4e5-f6g7-8901-bcde-f23456789012",
   "metadata": {},
   "outputs": [
    {
     "name": "stdout",
     "output_type": "stream",
     "text": [
      "1200\n",
      "1400\n",
      "1600\n",
      "1800\n"
     ]
    }
   ],
   "source": [
    "for i in numeric_tuple[1:]:    #iterating the tuple by slicing a particular part\n",
    "    print(i)"
   ]
  },
  {
   "cell_type": "code",
   "execution_count": 17,
   "id": "c3d4e5f6-g7h8-9012-cdef-345678901234",
   "metadata": {},
   "outputs": [
    {
     "name": "stdout",
     "output_type": "stream",
     "text": [
      "(200, 400, 600, 800)\n"
     ]
    }
   ],
   "source": [
    "numeric_tuple=(200,400,600,800)    #complete reassignment of the created tuple is possible\n",
    "print(numeric_tuple)               #doesnot raise any error"
   ]
  },
  {
   "cell_type": "code",
   "execution_count": 18,
   "id": "d4e5f6g7-h8i9-0123-defg-456789012345",
   "metadata": {},
   "outputs": [],
   "source": [
    "## Creating a Dictionary"
   ]
  },
  {
   "cell_type": "code",
   "execution_count": 19,
   "id": "e5f6g7h8-i9j0-1234-efgh-567890123456",
   "metadata": {},
   "outputs": [
    {
     "name": "stdout",
     "output_type": "stream",
     "text": [
      "dharshan raj p a\n"
     ]
    }
   ],
   "source": [
    "student={           # creating a student dict\n",
    "    'name':'dharshan raj p a',\n",
    "    'reg_no':'22mic0073'\n",
    "}\n",
    "print(student['name'])   # accesing the value from dict using the key"
   ]
  },
  {
   "cell_type": "code",
   "execution_count": null,
   "id": "f6g7h8i9-j0k1-2345-fghi-678901234567",
   "metadata": {},
   "outputs": [],
   "source": []
  }
 ],
 "metadata": {
  "kernelspec": {
   "display_name": ".venv",
   "language": "python",
   "name": "python3"
  },
  "language_info": {
   "codemirror_mode": {
    "name": "ipython",
    "version": 3
   },
   "file_extension": ".py",
   "mimetype": "text/x-python",
   "name": "python",
   "nbconvert_exporter": "python",
   "pygments_lexer": "ipython3",
   "version": "3.13.5"
  }
 },
 "nbformat": 4,
 "nbformat_minor": 5
}
