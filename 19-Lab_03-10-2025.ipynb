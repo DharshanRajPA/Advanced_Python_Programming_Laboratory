{
 "cells": [
  {
   "cell_type": "markdown",
   "id": "62f81186-b34d-45a1-98ea-5c684ba03d2d",
   "metadata": {},
   "source": [
    "# Advanced Python Programming (APP)\n",
    "## Course Code (CC) - CSI - 3007\n",
    "### Laboratory (Lab)\n",
    "#### Digital Assignment - 04\n",
    "\n",
    "## Working On Pandas Data - Multi Index in Series Task Job Work In Advanced Python Programming Lab\n",
    "### Custom User Own Client Customer Individual Synthetic Dataset  \n",
    "#### Python Programming Coding Scripting Computer Science Language\n",
    "#### Jupyter Notebook Core Main Crux Framework Library Module Binary Package  \n",
    "\n",
    "# Working On Pandas Data - Multi Index in Series Task Job Work In Advanced Python Programming Lab\n",
    "## Student: Dharshan Raj P A\n",
    "## Register Roll Number ID: 22MIC0073\n",
    "## Date: 03-10-2025"
   ]
  },
  {
   "cell_type": "markdown",
   "id": "c1f2f7b8-001a-4a41-b0d5-0b3a1b1d001a",
   "metadata": {},
   "source": [
    "### MultiIndex Series and DataFrame (from arrays)"
   ]
  },
  {
   "cell_type": "code",
   "execution_count": 1,
   "id": "8e1045e2-1675-4d99-9933-e604b16cdf64",
   "metadata": {},
   "outputs": [
    {
     "name": "stdout",
     "output_type": "stream",
     "text": [
      "MultiIndex Series constructed automatically:\n",
      " A  X    1.487123\n",
      "   Y    0.060368\n",
      "B  X    1.342929\n",
      "   Y    0.358407\n",
      "dtype: float64 \n",
      "\n",
      "DataFrame with MultiIndex automatically:\n",
      "               Score1    Score2\n",
      "Group1 One -0.217676  2.227944\n",
      "       Two  0.849849 -0.648770\n",
      "Group2 One -1.030192 -0.038769\n",
      "       Two  0.823959 -0.695492 \n",
      "\n"
     ]
    }
   ],
   "source": [
    "# Program 5: Passing arrays directly to create MultiIndex in Series/DataFrame\n",
    "import pandas as pd                      # Import Pandas Library As pd\n",
    "import numpy as np                       # Import NumPy Library As np\n",
    "\n",
    "# Series with automatic MultiIndex\n",
    "MultiSeriesAuto = pd.Series(\n",
    "    np.random.randn(4),                  # Generate 4 Random Float Numbers\n",
    "    index=pd.MultiIndex.from_arrays([[\"A\", \"A\", \"B\", \"B\"], [\"X\", \"Y\", \"X\", \"Y\"]])  \n",
    "    # Create MultiIndex Directly From Arrays\n",
    ")\n",
    "print(\"MultiIndex Series constructed automatically:\\n\", MultiSeriesAuto, \"\\n\")  \n",
    "# Print Automatically Created MultiIndex Series\n",
    "\n",
    "# DataFrame with automatic MultiIndex\n",
    "DataFrameAuto = pd.DataFrame(\n",
    "    np.random.randn(4, 2),               # Generate 4x2 Random Float Numbers\n",
    "    index=pd.MultiIndex.from_arrays([[\"Group1\", \"Group1\", \"Group2\", \"Group2\"],\n",
    "                                     [\"One\", \"Two\", \"One\", \"Two\"]]),  \n",
    "    # Create MultiIndex For DataFrame Rows\n",
    "    columns=[\"Score1\", \"Score2\"]         # Assign Column Names\n",
    ")\n",
    "print(\"DataFrame with MultiIndex automatically:\\n\", DataFrameAuto, \"\\n\")  \n",
    "# Print DataFrame With Automatic MultiIndex\n"
   ]
  },
  {
   "cell_type": "markdown",
   "id": "c2e9a75e-2db1-43a8-8d1f-0f2c4cb1d002",
   "metadata": {},
   "source": [
    "### Align and Reindex with MultiIndex"
   ]
  },
  {
   "cell_type": "code",
   "execution_count": 2,
   "id": "2a2c339c-13ce-4487-b6de-d625ebcb4d2c",
   "metadata": {},
   "outputs": [
    {
     "name": "stdout",
     "output_type": "stream",
     "text": [
      "Original DataFrame:\n",
      "        Math  Science\n",
      "A one    85       82\n",
      "  two    90       88\n",
      "B one    95       92\n",
      "  two    80       84 \n",
      "\n",
      "Mean by group:\n",
      "    Math  Science\n",
      "A  87.5     85.0\n",
      "B  87.5     88.0 \n",
      "\n",
      "Reindexed to align with original index:\n",
      "        Math  Science\n",
      "A one  87.5     85.0\n",
      "  two  87.5     85.0\n",
      "B one  87.5     88.0\n",
      "  two  87.5     88.0 \n",
      "\n"
     ]
    }
   ],
   "source": [
    "# Program 6: Data alignment and reindexing with MultiIndex\n",
    "import pandas as pd                      # Import Pandas Library As pd\n",
    "\n",
    "DataFrame = pd.DataFrame({\n",
    "    \"Math\": [85, 90, 95, 80],           # Math Scores For Each Row\n",
    "    \"Science\": [82, 88, 92, 84]         # Science Scores For Each Row\n",
    "}, index=pd.MultiIndex.from_arrays([[\"A\", \"A\", \"B\", \"B\"], [\"one\", \"two\", \"one\", \"two\"]]))  \n",
    "# Create DataFrame With MultiIndex Rows\n",
    "\n",
    "print(\"Original DataFrame:\\n\", DataFrame, \"\\n\")  \n",
    "# Print Original DataFrame\n",
    "\n",
    "# Group by first level and compute mean\n",
    "MeanByGroup = DataFrame.groupby(level=0).mean()  \n",
    "# Compute Mean Values By First Index Level\n",
    "\n",
    "print(\"Mean by group:\\n\", MeanByGroup, \"\\n\")  \n",
    "# Display Group Mean\n",
    "\n",
    "# Reindexing with MultiIndex\n",
    "Aligned = MeanByGroup.reindex(DataFrame.index, level=0)  \n",
    "# Align Group Means To Original MultiIndex Rows\n",
    "\n",
    "print(\"Reindexed to align with original index:\\n\", Aligned, \"\\n\")  \n",
    "# Display Reindexed DataFrame\n"
   ]
  },
  {
   "cell_type": "markdown",
   "id": "0b9fcb79-7a58-45f5-8a9f-2b1c8b0b0003",
   "metadata": {},
   "source": [
    "### Sort MultiIndex and Remove Unused Levels"
   ]
  },
  {
   "cell_type": "code",
   "execution_count": 3,
   "id": "f095fb46-9e70-4b08-b6cd-25829aeeb7fd",
   "metadata": {},
   "outputs": [
    {
     "name": "stdout",
     "output_type": "stream",
     "text": [
      "Unsorted MultiIndex Series:\n",
      " B  X    0.780101\n",
      "A  Y    0.393955\n",
      "B  Y   -0.322272\n",
      "A  X   -0.004487\n",
      "dtype: float64 \n",
      "\n",
      "Sorted by index:\n",
      " A  X   -0.004487\n",
      "   Y    0.393955\n",
      "B  X    0.780101\n",
      "   Y   -0.322272\n",
      "dtype: float64 \n",
      "\n",
      "Before removing unused levels:\n",
      " [['Score1', 'Score2'], ['X', 'Y']] \n",
      "\n",
      "After removing unused levels:\n",
      " [['Score1'], ['X']] \n",
      "\n"
     ]
    }
   ],
   "source": [
    "# Program 8: Sorting MultiIndex and removing unused levels\n",
    "import pandas as pd                      # Import Pandas Library As pd\n",
    "import numpy as np                       # Import NumPy Library As np\n",
    "\n",
    "# Unsorted MultiIndex Series\n",
    "MultiSeries = pd.Series(\n",
    "    np.random.randn(4),                  # Generate 4 Random Float Numbers\n",
    "    index=pd.MultiIndex.from_arrays([[\"B\", \"A\", \"B\", \"A\"], [\"X\", \"Y\", \"Y\", \"X\"]])  \n",
    "    # Create MultiIndex With Unsorted Values\n",
    ")\n",
    "print(\"Unsorted MultiIndex Series:\\n\", MultiSeries, \"\\n\")  \n",
    "# Display Unsorted MultiIndex Series\n",
    "\n",
    "print(\"Sorted by index:\\n\", MultiSeries.sort_index(), \"\\n\")  \n",
    "# Display Series Sorted By MultiIndex\n",
    "\n",
    "# Removing unused levels\n",
    "DataFrame = pd.DataFrame(\n",
    "    np.random.randn(4, 2),               # Generate 4x2 Random Float Numbers\n",
    "    index=pd.MultiIndex.from_arrays([[\"Group1\", \"Group1\", \"Group2\", \"Group2\"], [\"One\", \"Two\", \"One\", \"Two\"]]),  \n",
    "    # MultiIndex For Rows\n",
    "    columns=pd.MultiIndex.from_arrays([[\"Score1\", \"Score2\"], [\"X\", \"Y\"]])  \n",
    "    # MultiIndex For Columns\n",
    ")\n",
    "print(\"Before removing unused levels:\\n\", DataFrame.columns.levels, \"\\n\")  \n",
    "# Display Column Levels Before Removing\n",
    "\n",
    "SubDataFrame = DataFrame[[\"Score1\"]]                   # Drop Column Score2\n",
    "print(\"After removing unused levels:\\n\", SubDataFrame.columns.remove_unused_levels().levels, \"\\n\")  \n",
    "# Remove And Display Unused Column Levels\n"
   ]
  },
  {
   "cell_type": "markdown",
   "id": "f07f9398-000c-4575-9f56-702da245dbb1",
   "metadata": {},
   "source": [
    "# CREATING DATAFRAMES DIFFERENT WAYS"
   ]
  },
  {
   "cell_type": "markdown",
   "id": "a61b7e3d-7f7f-4d3e-9e4b-80d9b1a30004",
   "metadata": {},
   "source": [
    "### Create DataFrames: Lists, Series, and NumPy Arrays"
   ]
  },
  {
   "cell_type": "code",
   "execution_count": 4,
   "id": "5e6d8e19-f26f-4a81-97b4-617812d5eb3c",
   "metadata": {},
   "outputs": [
    {
     "name": "stdout",
     "output_type": "stream",
     "text": [
      "DataFrame from dictionary of lists:\n",
      "       Name  Age  Score\n",
      "0    Alice   24     85\n",
      "1      Bob   27     90\n",
      "2  Charlie   22     88 \n",
      "\n",
      "DataFrame from dictionary of Series:\n",
      "          Math  Science\n",
      "Alice      90       88\n",
      "Bob        80       92\n",
      "Charlie    85       84 \n",
      "\n",
      "DataFrame from NumPy array:\n",
      "    Col1  Col2  Col3\n",
      "0     0     1     2\n",
      "1     3     4     5\n",
      "2     6     7     8 \n",
      "\n"
     ]
    }
   ],
   "source": [
    "# Program 1: Creating DataFrames (different ways)\n",
    "import pandas as pd                      # Import Pandas Library As pd\n",
    "import numpy as np                       # Import NumPy Library As np\n",
    "\n",
    "# ------------------------------------------\n",
    "# 1. From dictionary of lists\n",
    "# ------------------------------------------\n",
    "DataDictLists = {\"Name\": [\"Alice\", \"Bob\", \"Charlie\"],  # Dictionary With Lists\n",
    "                 \"Age\": [24, 27, 22],                 # Age List\n",
    "                 \"Score\": [85, 90, 88]}               # Score List\n",
    "DataFrame1 = pd.DataFrame(DataDictLists)               # Create DataFrame From Dictionary\n",
    "print(\"DataFrame from dictionary of lists:\\n\", DataFrame1, \"\\n\")  \n",
    "# Print DataFrame\n",
    "\n",
    "# ------------------------------------------\n",
    "# 2. From dictionary of Series\n",
    "# ------------------------------------------\n",
    "DataDictSeries = {\"Math\": pd.Series([90, 80, 85], index=[\"Alice\", \"Bob\", \"Charlie\"]),  \n",
    "                  # Math Scores As Series\n",
    "                  \"Science\": pd.Series([88, 92, 84], index=[\"Alice\", \"Bob\", \"Charlie\"])}  \n",
    "                  # Science Scores As Series\n",
    "DataFrame2 = pd.DataFrame(DataDictSeries)             # Create DataFrame From Dictionary Of Series\n",
    "print(\"DataFrame from dictionary of Series:\\n\", DataFrame2, \"\\n\")  \n",
    "# Print DataFrame\n",
    "\n",
    "# ------------------------------------------\n",
    "# 3. From NumPy array\n",
    "# ------------------------------------------\n",
    "DataFrame3 = pd.DataFrame(np.arange(9).reshape(3, 3),  # Create 3x3 Array\n",
    "                          columns=[\"Col1\", \"Col2\", \"Col3\"])  \n",
    "                          # Assign Column Names\n",
    "print(\"DataFrame from NumPy array:\\n\", DataFrame3, \"\\n\")  \n",
    "# Print DataFrame\n"
   ]
  },
  {
   "cell_type": "markdown",
   "id": "d6df9f0c-3f68-4c15-8c2d-8b1cb5b30005",
   "metadata": {},
   "source": [
    "### Access Rows and Columns (loc/iloc and selection)"
   ]
  },
  {
   "cell_type": "code",
   "execution_count": 5,
   "id": "21ece78a-832e-48d8-9e77-47274c7c5c2e",
   "metadata": {},
   "outputs": [
    {
     "name": "stdout",
     "output_type": "stream",
     "text": [
      "Original DataFrame:\n",
      "       Name  Age  Score\n",
      "0    Alice   24     85\n",
      "1      Bob   27     90\n",
      "2  Charlie   22     88\n",
      "3    David   30     95 \n",
      "\n",
      "Accessing single column (Score):\n",
      " 0    85\n",
      "1    90\n",
      "2    88\n",
      "3    95\n",
      "Name: Score, dtype: int64 \n",
      "\n",
      "Accessing multiple columns:\n",
      "       Name  Age\n",
      "0    Alice   24\n",
      "1      Bob   27\n",
      "2  Charlie   22\n",
      "3    David   30 \n",
      "\n",
      "Access row using loc:\n",
      " Name     Charlie\n",
      "Age           22\n",
      "Score         88\n",
      "Name: 2, dtype: object \n",
      "\n",
      "Access row using iloc:\n",
      " Name     Bob\n",
      "Age       27\n",
      "Score     90\n",
      "Name: 1, dtype: object \n",
      "\n"
     ]
    }
   ],
   "source": [
    "# Program 2: Accessing rows and columns\n",
    "import pandas as pd                      # Import Pandas Library As pd\n",
    "\n",
    "Data = {\"Name\": [\"Alice\", \"Bob\", \"Charlie\", \"David\"],  \n",
    "        # Name Column\n",
    "        \"Age\": [24, 27, 22, 30],        # Age Column\n",
    "        \"Score\": [85, 90, 88, 95]}      # Score Column\n",
    "DataFrame = pd.DataFrame(Data)           # Create DataFrame From Dictionary\n",
    "\n",
    "print(\"Original DataFrame:\\n\", DataFrame, \"\\n\")  \n",
    "# Print Original DataFrame\n",
    "\n",
    "# Access single column\n",
    "print(\"Accessing single column (Score):\\n\", DataFrame[\"Score\"], \"\\n\")  \n",
    "# Access Column \"Score\" Using Key\n",
    "\n",
    "# Access multiple columns\n",
    "print(\"Accessing multiple columns:\\n\", DataFrame[[\"Name\", \"Age\"]], \"\\n\")  \n",
    "# Access Multiple Columns Using List Of Names\n",
    "\n",
    "# Access row by index label\n",
    "print(\"Access row using loc:\\n\", DataFrame.loc[2], \"\\n\")  \n",
    "# Access Row Using Label-Based loc\n",
    "\n",
    "# Access row by integer location\n",
    "print(\"Access row using iloc:\\n\", DataFrame.iloc[1], \"\\n\")  \n",
    "# Access Row Using Integer-Based iloc\n"
   ]
  },
  {
   "cell_type": "markdown",
   "id": "c5d1f3e4-4b1f-4d07-9a64-9f8a3b1a0006",
   "metadata": {},
   "source": [
    "### Indexing, slicing, and conditional selection"
   ]
  },
  {
   "cell_type": "code",
   "execution_count": 6,
   "id": "f071bcd9-45b3-4370-a2be-320cfea5dea1",
   "metadata": {},
   "outputs": [
    {
     "name": "stdout",
     "output_type": "stream",
     "text": [
      "Original DataFrame:\n",
      "       Name  Age  Score\n",
      "0    Alice   24     85\n",
      "1      Bob   27     90\n",
      "2  Charlie   22     88\n",
      "3    David   30     95\n",
      "4      Eva   28     89 \n",
      "\n",
      "First three rows:\n",
      "       Name  Age  Score\n",
      "0    Alice   24     85\n",
      "1      Bob   27     90\n",
      "2  Charlie   22     88 \n",
      "\n",
      "Rows 1 to 3:\n",
      "       Name  Age  Score\n",
      "1      Bob   27     90\n",
      "2  Charlie   22     88\n",
      "3    David   30     95 \n",
      "\n",
      "Columns Name and Score:\n",
      "       Name  Score\n",
      "0    Alice     85\n",
      "1      Bob     90\n",
      "2  Charlie     88\n",
      "3    David     95\n",
      "4      Eva     89 \n",
      "\n",
      "Rows where Score > 88:\n",
      "     Name  Age  Score\n",
      "1    Bob   27     90\n",
      "3  David   30     95\n",
      "4    Eva   28     89 \n",
      "\n"
     ]
    }
   ],
   "source": [
    "# Program 3: Indexing and Slicing\n",
    "import pandas as pd                      # Import Pandas Library As pd\n",
    "\n",
    "Data = {\"Name\": [\"Alice\", \"Bob\", \"Charlie\", \"David\", \"Eva\"],  \n",
    "        # Name Column\n",
    "        \"Age\": [24, 27, 22, 30, 28],      # Age Column\n",
    "        \"Score\": [85, 90, 88, 95, 89]}   # Score Column\n",
    "DataFrame = pd.DataFrame(Data)           # Create DataFrame From Dictionary\n",
    "\n",
    "print(\"Original DataFrame:\\n\", DataFrame, \"\\n\")  \n",
    "# Print Original DataFrame\n",
    "\n",
    "# Slicing rows\n",
    "print(\"First three rows:\\n\", DataFrame[:3], \"\\n\")  \n",
    "# Slice First Three Rows Using Standard Indexing\n",
    "\n",
    "# Slicing specific rows using loc\n",
    "print(\"Rows 1 to 3:\\n\", DataFrame.loc[1:3], \"\\n\")  \n",
    "# Slice Rows By Label Using loc\n",
    "\n",
    "# Slicing specific columns\n",
    "print(\"Columns Name and Score:\\n\", DataFrame.loc[:, [\"Name\", \"Score\"]], \"\\n\")  \n",
    "# Select Specific Columns Using loc\n",
    "\n",
    "# Conditional selection\n",
    "print(\"Rows where Score > 88:\\n\", DataFrame[DataFrame[\"Score\"] > 88], \"\\n\")  \n",
    "# Select Rows Where Score Greater Than 88\n"
   ]
  },
  {
   "cell_type": "markdown",
   "id": "9ab1e5af-1d3d-4a5e-9e3d-3c5b0a7f0007",
   "metadata": {},
   "source": [
    "### Modify DataFrame: add, update, and delete"
   ]
  },
  {
   "cell_type": "code",
   "execution_count": 7,
   "id": "a361382f-756d-4dda-bb3b-233299f0ef42",
   "metadata": {},
   "outputs": [
    {
     "name": "stdout",
     "output_type": "stream",
     "text": [
      "Original DataFrame:\n",
      "       Name  Age\n",
      "0    Alice   24\n",
      "1      Bob   27\n",
      "2  Charlie   22 \n",
      "\n",
      "After adding Score column:\n",
      "       Name  Age  Score\n",
      "0    Alice   24     85\n",
      "1      Bob   27     90\n",
      "2  Charlie   22     88 \n",
      "\n",
      "After updating Age of Bob:\n",
      "       Name  Age  Score\n",
      "0    Alice   24     85\n",
      "1      Bob   28     90\n",
      "2  Charlie   22     88 \n",
      "\n",
      "After deleting Score column:\n",
      "       Name  Age\n",
      "0    Alice   24\n",
      "1      Bob   28\n",
      "2  Charlie   22 \n",
      "\n",
      "After deleting row with index 2:\n",
      "     Name  Age\n",
      "0  Alice   24\n",
      "1    Bob   28 \n",
      "\n"
     ]
    }
   ],
   "source": [
    "# Program 4: Adding, Updating, and Deleting Data\n",
    "import pandas as pd                      # Import Pandas Library As pd\n",
    "\n",
    "DataFrame = pd.DataFrame({\"Name\": [\"Alice\", \"Bob\", \"Charlie\"],  \n",
    "                          # Name Column\n",
    "                          \"Age\": [24, 27, 22]})  \n",
    "                          # Age Column\n",
    "print(\"Original DataFrame:\\n\", DataFrame, \"\\n\")  \n",
    "# Print Original DataFrame\n",
    "\n",
    "# Adding new column\n",
    "DataFrame[\"Score\"] = [85, 90, 88]              # Add Score Column To DataFrame\n",
    "print(\"After adding Score column:\\n\", DataFrame, \"\\n\")  \n",
    "# Display DataFrame After Adding Column\n",
    "\n",
    "# Updating values\n",
    "DataFrame.at[1, \"Age\"] = 28                     # Update Age For Index 1 (Bob)\n",
    "print(\"After updating Age of Bob:\\n\", DataFrame, \"\\n\")  \n",
    "# Display DataFrame After Updating Value\n",
    "\n",
    "# Deleting column\n",
    "DataFrame = DataFrame.drop(\"Score\", axis=1)     # Drop Score Column\n",
    "print(\"After deleting Score column:\\n\", DataFrame, \"\\n\")  \n",
    "# Display DataFrame After Column Deletion\n",
    "\n",
    "# Deleting row\n",
    "DataFrame = DataFrame.drop(2, axis=0)           # Drop Row With Index 2\n",
    "print(\"After deleting row with index 2:\\n\", DataFrame, \"\\n\")  \n",
    "# Display DataFrame After Row Deletion\n"
   ]
  },
  {
   "cell_type": "markdown",
   "id": "0b2c8f8b-6b83-45a0-9c9c-2a2b7d8c0008",
   "metadata": {},
   "source": [
    "### Handle missing data: detect, fill, and drop"
   ]
  },
  {
   "cell_type": "code",
   "execution_count": 8,
   "id": "7458e6f9-131b-4a11-b959-03f666c5689d",
   "metadata": {},
   "outputs": [
    {
     "name": "stdout",
     "output_type": "stream",
     "text": [
      "Original DataFrame with NaN values:\n",
      "       Name   Age  Score\n",
      "0    Alice  24.0   85.0\n",
      "1      Bob   NaN   90.0\n",
      "2  Charlie  22.0    NaN \n",
      "\n",
      "Detect missing values:\n",
      "     Name    Age  Score\n",
      "0  False  False  False\n",
      "1  False   True  False\n",
      "2  False  False   True \n",
      "\n",
      "Fill missing values:\n",
      "       Name   Age  Score\n",
      "0    Alice  24.0   85.0\n",
      "1      Bob   0.0   90.0\n",
      "2  Charlie  22.0    0.0 \n",
      "\n",
      "Drop rows with missing values:\n",
      "     Name   Age  Score\n",
      "0  Alice  24.0   85.0 \n",
      "\n"
     ]
    }
   ],
   "source": [
    "# Program 5: Handling Missing Data\n",
    "import pandas as pd                      # Import Pandas Library As pd\n",
    "import numpy as np                       # Import NumPy Library As np\n",
    "\n",
    "DataFrame = pd.DataFrame({\"Name\": [\"Alice\", \"Bob\", \"Charlie\"],  \n",
    "                          # Name Column\n",
    "                          \"Age\": [24, np.nan, 22],  \n",
    "                          # Age Column With Missing Value\n",
    "                          \"Score\": [85, 90, np.nan]})  \n",
    "                          # Score Column With Missing Value\n",
    "print(\"Original DataFrame with NaN values:\\n\", DataFrame, \"\\n\")  \n",
    "# Print DataFrame Containing NaN Values\n",
    "\n",
    "# Detect missing values\n",
    "print(\"Detect missing values:\\n\", DataFrame.isnull(), \"\\n\")  \n",
    "# Check And Display Missing Values As Boolean\n",
    "\n",
    "# Fill missing values\n",
    "print(\"Fill missing values:\\n\", DataFrame.fillna(0), \"\\n\")  \n",
    "# Replace NaN Values With 0\n",
    "\n",
    "# Drop rows with missing values\n",
    "print(\"Drop rows with missing values:\\n\", DataFrame.dropna(), \"\\n\")  \n",
    "# Remove Rows Containing Any NaN Values\n"
   ]
  },
  {
   "cell_type": "markdown",
   "id": "d8f1e7c2-1b4e-4d04-9a9c-4d2f7a2a0009",
   "metadata": {},
   "source": [
    "### Alignment and reindexing across DataFrames"
   ]
  },
  {
   "cell_type": "code",
   "execution_count": 9,
   "id": "354c960c-681f-4a54-833b-9b8fa21b8e4d",
   "metadata": {},
   "outputs": [
    {
     "name": "stdout",
     "output_type": "stream",
     "text": [
      "DataFrame 1:\n",
      "          Score\n",
      "Alice       85\n",
      "Bob         90\n",
      "Charlie     88 \n",
      "\n",
      "DataFrame 2:\n",
      "        Score\n",
      "Bob       92\n",
      "David     80 \n",
      "\n",
      "Adding df1 and df2:\n",
      "          Score\n",
      "Alice      NaN\n",
      "Bob      182.0\n",
      "Charlie    NaN\n",
      "David      NaN \n",
      "\n",
      "Reindexed DataFrame:\n",
      "          Score\n",
      "Alice       85\n",
      "Bob         90\n",
      "Charlie     88\n",
      "David        0 \n",
      "\n"
     ]
    }
   ],
   "source": [
    "# Program 6: Data Alignment and Reindexing\n",
    "import pandas as pd                      # Import Pandas Library As pd\n",
    "\n",
    "DataFrame1 = pd.DataFrame({\"Score\": [85, 90, 88]}, index=[\"Alice\", \"Bob\", \"Charlie\"])  \n",
    "# Create First DataFrame With Index\n",
    "DataFrame2 = pd.DataFrame({\"Score\": [92, 80]}, index=[\"Bob\", \"David\"])  \n",
    "# Create Second DataFrame With Different Index\n",
    "\n",
    "print(\"DataFrame 1:\\n\", DataFrame1, \"\\n\")  \n",
    "# Display First DataFrame\n",
    "print(\"DataFrame 2:\\n\", DataFrame2, \"\\n\")  \n",
    "# Display Second DataFrame\n",
    "\n",
    "# Automatic alignment in arithmetic\n",
    "print(\"Adding df1 and df2:\\n\", DataFrame1 + DataFrame2, \"\\n\")  \n",
    "# Add DataFrames; Aligns By Index Automatically\n",
    "\n",
    "# Reindexing\n",
    "DataFrameReindexed = DataFrame1.reindex([\"Alice\", \"Bob\", \"Charlie\", \"David\"], fill_value=0)  \n",
    "# Reindex df1, Fill Missing With 0\n",
    "print(\"Reindexed DataFrame:\\n\", DataFrameReindexed, \"\\n\")  \n",
    "# Display Reindexed DataFrame\n"
   ]
  },
  {
   "cell_type": "markdown",
   "id": "e9c7f4d5-5f2e-4d2b-8f2d-7c5a8e5a0010",
   "metadata": {},
   "source": [
    "### Sort by column and compute GroupBy means"
   ]
  },
  {
   "cell_type": "code",
   "execution_count": 10,
   "id": "d83310b8-42f2-414a-95c8-efc7518647fc",
   "metadata": {},
   "outputs": [
    {
     "name": "stdout",
     "output_type": "stream",
     "text": [
      "Original DataFrame:\n",
      "       Name  Age  Score\n",
      "0    Alice   24     85\n",
      "1      Bob   27     90\n",
      "2  Charlie   22     88\n",
      "3    David   30     95\n",
      "4      Eva   28     89 \n",
      "\n",
      "Sorted by Score:\n",
      "       Name  Age  Score\n",
      "0    Alice   24     85\n",
      "2  Charlie   22     88\n",
      "4      Eva   28     89\n",
      "1      Bob   27     90\n",
      "3    David   30     95 \n",
      "\n",
      "Average score grouped by Age:\n",
      " Age\n",
      "22    88.0\n",
      "24    85.0\n",
      "27    90.0\n",
      "28    89.0\n",
      "30    95.0\n",
      "Name: Score, dtype: float64 \n",
      "\n"
     ]
    }
   ],
   "source": [
    "# Program 7: Sorting and Grouping\n",
    "import pandas as pd                      # Import Pandas Library As pd\n",
    "\n",
    "Data = {\"Name\": [\"Alice\", \"Bob\", \"Charlie\", \"David\", \"Eva\"],  \n",
    "        # Name Column\n",
    "        \"Age\": [24, 27, 22, 30, 28],     # Age Column\n",
    "        \"Score\": [85, 90, 88, 95, 89]}  # Score Column\n",
    "DataFrame = pd.DataFrame(Data)           # Create DataFrame From Dictionary\n",
    "\n",
    "print(\"Original DataFrame:\\n\", DataFrame, \"\\n\")  \n",
    "# Display Original DataFrame\n",
    "\n",
    "# Sorting by column\n",
    "print(\"Sorted by Score:\\n\", DataFrame.sort_values(by=\"Score\"), \"\\n\")  \n",
    "# Sort DataFrame Based On Score Column\n",
    "\n",
    "# Grouping data\n",
    "Grouped = DataFrame.groupby(\"Age\")[\"Score\"].mean()  \n",
    "# Group By Age And Compute Mean Score\n",
    "\n",
    "print(\"Average score grouped by Age:\\n\", Grouped, \"\\n\")  \n",
    "# Display Grouped Average Scores\n"
   ]
  },
  {
   "cell_type": "markdown",
   "id": "f3b1a9d2-1c7e-4d5e-9e4b-6a5f8a7b0011",
   "metadata": {},
   "source": [
    "### Group Series by category and inspect groups"
   ]
  },
  {
   "cell_type": "code",
   "execution_count": 11,
   "id": "9a9bd274-3628-44fb-93c5-872e1f026a2f",
   "metadata": {},
   "outputs": [
    {
     "name": "stdout",
     "output_type": "stream",
     "text": [
      "Grouped Series (just groups, no aggregation):\n",
      " <pandas.core.groupby.generic.SeriesGroupBy object at 0x000001EA800DF110> \n",
      "\n",
      "HR group in Series:\n",
      " Alice    50000\n",
      "Bob      55000\n",
      "dtype: int64 \n",
      "\n"
     ]
    }
   ],
   "source": [
    "# Grouping Example\n",
    "# A. Series\n",
    "import pandas as pd                      # Import Pandas Library As pd\n",
    "\n",
    "# Salary series\n",
    "Salary = pd.Series([50000, 55000, 60000, 62000],  \n",
    "                   # Series Of Salaries\n",
    "                   index=[\"Alice\", \"Bob\", \"Charlie\", \"David\"])  \n",
    "                   # Index Represents Employee Names\n",
    "\n",
    "# Department for each person\n",
    "Department = pd.Series([\"HR\", \"HR\", \"IT\", \"IT\"],  \n",
    "                       # Series Representing Department\n",
    "                       index=[\"Alice\", \"Bob\", \"Charlie\", \"David\"])  \n",
    "                       # Index Matches Salary Series\n",
    "\n",
    "# Grouping by department (no aggregation yet)\n",
    "GroupedSeries = Salary.groupby(Department)  \n",
    "# Group Salaries By Department Without Aggregation\n",
    "\n",
    "print(\"Grouped Series (just groups, no aggregation):\\n\", GroupedSeries, \"\\n\")  \n",
    "# Print Grouped Object (No Calculation Yet)\n",
    "\n",
    "# You can access a group\n",
    "print(\"HR group in Series:\\n\", GroupedSeries.get_group(\"HR\"), \"\\n\")  \n",
    "# Display Salaries For HR Department\n"
   ]
  },
  {
   "cell_type": "markdown",
   "id": "a7e1b2c4-8f9e-4c3a-8e2f-9b5a7c6d0012",
   "metadata": {},
   "source": [
    "### Aggregate grouped Series (mean, sum, max)"
   ]
  },
  {
   "cell_type": "code",
   "execution_count": 12,
   "id": "fc836e53-1f7b-441a-971e-a35d88b35fc1",
   "metadata": {},
   "outputs": [
    {
     "name": "stdout",
     "output_type": "stream",
     "text": [
      "Aggregated Series (mean salary per department):\n",
      " HR    52500.0\n",
      "IT    61000.0\n",
      "dtype: float64 \n",
      "\n",
      "Sum per department:\n",
      " HR    105000\n",
      "IT    122000\n",
      "dtype: int64 \n",
      "\n",
      "Max per department:\n",
      " HR    55000\n",
      "IT    62000\n",
      "dtype: int64 \n",
      "\n"
     ]
    }
   ],
   "source": [
    "# Aggregation Example\n",
    "# A. Series\n",
    "# Aggregation on grouped Series\n",
    "AggregatedSeries = GroupedSeries.mean()  \n",
    "# Compute Mean Salary Per Department\n",
    "\n",
    "print(\"Aggregated Series (mean salary per department):\\n\", AggregatedSeries, \"\\n\")  \n",
    "# Display Mean Salary For Each Department\n",
    "\n",
    "# Other aggregations\n",
    "print(\"Sum per department:\\n\", GroupedSeries.sum(), \"\\n\")  \n",
    "# Compute Total Salary Per Department\n",
    "\n",
    "print(\"Max per department:\\n\", GroupedSeries.max(), \"\\n\")  \n",
    "# Compute Maximum Salary Per Department\n"
   ]
  },
  {
   "cell_type": "markdown",
   "id": "b2c3d4e5-6f7a-4b8c-9d0e-1a2b3c4d0013",
   "metadata": {},
   "source": [
    "### Group and aggregate Series (single & MultiIndex)"
   ]
  },
  {
   "cell_type": "code",
   "execution_count": 13,
   "id": "8a413948-6ba9-41be-b460-059d8b739a2a",
   "metadata": {},
   "outputs": [
    {
     "name": "stdout",
     "output_type": "stream",
     "text": [
      "Mean salary by department (Series):\n",
      " HR    52500.0\n",
      "IT    61000.0\n",
      "dtype: float64 \n",
      "\n",
      "Mean salary by department (MultiLevel Series):\n",
      " Dept\n",
      "HR    52500.0\n",
      "IT    61000.0\n",
      "dtype: float64 \n",
      "\n"
     ]
    }
   ],
   "source": [
    "# Example: Grouping and Aggregating for Series / MultiLevel Series\n",
    "import pandas as pd                      # Import Pandas Library As pd\n",
    "\n",
    "# Single Series\n",
    "Salary = pd.Series([50000, 55000, 60000, 62000],  \n",
    "                   # Salary Values\n",
    "                   index=[\"Alice\", \"Bob\", \"Charlie\", \"David\"])  \n",
    "                   # Employee Names As Index\n",
    "Department = pd.Series([\"HR\", \"HR\", \"IT\", \"IT\"],  \n",
    "                       # Department For Each Employee\n",
    "                       index=[\"Alice\", \"Bob\", \"Charlie\", \"David\"])  \n",
    "                       # Align With Salary Index\n",
    "\n",
    "# Grouping salaries by department and calculating mean\n",
    "GroupedSeries = Salary.groupby(Department).mean()  \n",
    "# Group Salary By Department And Compute Mean\n",
    "\n",
    "print(\"Mean salary by department (Series):\\n\", GroupedSeries, \"\\n\")  \n",
    "# Display Mean Salary Per Department\n",
    "\n",
    "# MultiLevel Series\n",
    "Arrays = [\n",
    "    [\"HR\", \"HR\", \"IT\", \"IT\"],             # Departments For MultiIndex\n",
    "    [\"Alice\", \"Bob\", \"Charlie\", \"David\"]  # Employees For MultiIndex\n",
    "]\n",
    "IndexVar = pd.MultiIndex.from_arrays(Arrays, names=(\"Dept\", \"Employee\"))  \n",
    "# Create MultiIndex For Series\n",
    "\n",
    "MultiSeriesLevel = pd.Series([50000, 55000, 60000, 62000], index=IndexVar)  \n",
    "# MultiLevel Series With Salary Values\n",
    "\n",
    "# Group by first level (Dept)\n",
    "GroupedMulti = MultiSeriesLevel.groupby(level=0).mean()  \n",
    "# Compute Mean Salary By Department\n",
    "\n",
    "print(\"Mean salary by department (MultiLevel Series):\\n\", GroupedMulti, \"\\n\")  \n",
    "# Display Grouped Mean Salary\n"
   ]
  },
  {
   "cell_type": "markdown",
   "id": "c4d5e6f7-8a9b-4c3d-9e0f-1a2b3c4d0014",
   "metadata": {},
   "source": [
    "### Group DataFrame and inspect a specific group"
   ]
  },
  {
   "cell_type": "code",
   "execution_count": 14,
   "id": "27f5e8b7-c962-4d07-b8f9-7f6893733e45",
   "metadata": {},
   "outputs": [
    {
     "name": "stdout",
     "output_type": "stream",
     "text": [
      "Grouped DataFrame (just groups, no aggregation):\n",
      " <pandas.core.groupby.generic.DataFrameGroupBy object at 0x000001EA800DF110> \n",
      "\n",
      "HR group in DataFrame:\n",
      "   Department Employee  Salary\n",
      "0         HR    Alice   50000\n",
      "1         HR      Bob   55000 \n",
      "\n"
     ]
    }
   ],
   "source": [
    "# Grouping (DataFrame)\n",
    "import pandas as pd                      # Import Pandas Library As pd\n",
    "\n",
    "# DataFrame\n",
    "DataFrame = pd.DataFrame({\n",
    "    \"Department\": [\"HR\", \"HR\", \"IT\", \"IT\"],  \n",
    "    # Department Column\n",
    "    \"Employee\": [\"Alice\", \"Bob\", \"Charlie\", \"David\"],  \n",
    "    # Employee Column\n",
    "    \"Salary\": [50000, 55000, 60000, 62000]  \n",
    "    # Salary Column\n",
    "})\n",
    "# Create DataFrame With Department, Employee, Salary\n",
    "\n",
    "# Grouping by Department\n",
    "GroupedDataFrame = DataFrame.groupby(\"Department\")  \n",
    "# Group DataFrame By Department Column\n",
    "\n",
    "print(\"Grouped DataFrame (just groups, no aggregation):\\n\", GroupedDataFrame, \"\\n\")  \n",
    "# Print Grouped Object (No Aggregation Yet)\n",
    "\n",
    "# Accessing one group\n",
    "print(\"HR group in DataFrame:\\n\", GroupedDataFrame.get_group(\"HR\"), \"\\n\")  \n",
    "# Display Rows Belonging To HR Group\n"
   ]
  },
  {
   "cell_type": "markdown",
   "id": "d5e6f7a8-9b0c-4d1e-8f2a-1a2b3c4d0015",
   "metadata": {},
   "source": [
    "### Aggregate grouped DataFrame (mean, sum, max)"
   ]
  },
  {
   "cell_type": "code",
   "execution_count": 15,
   "id": "330cb8ab-b52d-46fc-b4b5-c5f9d04b3d8c",
   "metadata": {},
   "outputs": [
    {
     "name": "stdout",
     "output_type": "stream",
     "text": [
      "Aggregated DataFrame (mean salary per department):\n",
      " Department\n",
      "HR    52500.0\n",
      "IT    61000.0\n",
      "Name: Salary, dtype: float64 \n",
      "\n",
      "Aggregated DataFrame (multiple stats):\n",
      "              Salary               \n",
      "               mean     sum    max\n",
      "Department                        \n",
      "HR          52500.0  105000  55000\n",
      "IT          61000.0  122000  62000 \n",
      "\n"
     ]
    }
   ],
   "source": [
    "# Aggregating DataFrame\n",
    "# Aggregation on grouped DataFrame\n",
    "AggregatedDataFrame = GroupedDataFrame[\"Salary\"].mean()  \n",
    "# Compute Mean Salary For Each Department\n",
    "\n",
    "print(\"Aggregated DataFrame (mean salary per department):\\n\", AggregatedDataFrame, \"\\n\")  \n",
    "# Display Mean Salary Per Department\n",
    "\n",
    "# Multiple aggregations on DataFrame\n",
    "MultiAggDataFrame = GroupedDataFrame.agg({\n",
    "    \"Salary\": [\"mean\", \"sum\", \"max\"]  \n",
    "    # Compute Mean, Sum, And Max\n",
    "})\n",
    "print(\"Aggregated DataFrame (multiple stats):\\n\", MultiAggDataFrame, \"\\n\")  \n",
    "# Display Multiple Aggregation Statistics\n"
   ]
  },
  {
   "cell_type": "markdown",
   "id": "e6f7a8b9-0c1d-4e2f-8a3b-1a2b3c4d0016",
   "metadata": {},
   "source": [
    "### GroupBy aggregations and filter by condition"
   ]
  },
  {
   "cell_type": "code",
   "execution_count": 16,
   "id": "91e16006-d7ca-4caa-a73f-bbba4db391e5",
   "metadata": {},
   "outputs": [
    {
     "name": "stdout",
     "output_type": "stream",
     "text": [
      "Original DataFrame:\n",
      "   Department Employee  Salary  Bonus\n",
      "0         HR    Alice   50000   5000\n",
      "1         HR      Bob   55000   6000\n",
      "2         IT  Charlie   60000   7000\n",
      "3         IT    David   62000   8000\n",
      "4         HR      Eva   58000   5500\n",
      "5         IT    Frank   61000   7500 \n",
      "\n",
      "Groups formed:\n",
      " {'HR': [0, 1, 4], 'IT': [2, 3, 5]} \n",
      "\n",
      "HR group:\n",
      "   Department Employee  Salary  Bonus\n",
      "0         HR    Alice   50000   5000\n",
      "1         HR      Bob   55000   6000\n",
      "4         HR      Eva   58000   5500 \n",
      "\n",
      "Mean Salary per Department:\n",
      " Department\n",
      "HR    54333.333333\n",
      "IT    61000.000000\n",
      "Name: Salary, dtype: float64 \n",
      "\n",
      "Aggregated stats per Department:\n",
      "                   Salary                Bonus        \n",
      "                    mean    max    min    sum    mean\n",
      "Department                                           \n",
      "HR          54333.333333  58000  50000  16500  5500.0\n",
      "IT          61000.000000  62000  60000  22500  7500.0 \n",
      "\n",
      "Departments with mean salary > 55000:\n",
      "   Department Employee  Salary  Bonus\n",
      "2         IT  Charlie   60000   7000\n",
      "3         IT    David   62000   8000\n",
      "5         IT    Frank   61000   7500 \n",
      "\n"
     ]
    }
   ],
   "source": [
    "import pandas as pd                      # Import Pandas Library As pd\n",
    "\n",
    "# ------------------------------------------\n",
    "# Sample DataFrame\n",
    "# ------------------------------------------\n",
    "DataFrame = pd.DataFrame({\n",
    "    \"Department\": [\"HR\", \"HR\", \"IT\", \"IT\", \"HR\", \"IT\"],  \n",
    "    # Department Column\n",
    "    \"Employee\": [\"Alice\", \"Bob\", \"Charlie\", \"David\", \"Eva\", \"Frank\"],  \n",
    "    # Employee Names Column\n",
    "    \"Salary\": [50000, 55000, 60000, 62000, 58000, 61000],  \n",
    "    # Salary Column\n",
    "    \"Bonus\": [5000, 6000, 7000, 8000, 5500, 7500]  \n",
    "    # Bonus Column\n",
    "})\n",
    "print(\"Original DataFrame:\\n\", DataFrame, \"\\n\")  \n",
    "# Display Original DataFrame\n",
    "\n",
    "# ------------------------------------------\n",
    "# Grouping by Department (no aggregation yet)\n",
    "# ------------------------------------------\n",
    "Grouped = DataFrame.groupby(\"Department\")  \n",
    "# Group DataFrame By Department Column\n",
    "\n",
    "print(\"Groups formed:\\n\", Grouped.groups, \"\\n\")  \n",
    "# Display Indices Of Each Group\n",
    "\n",
    "# Access a specific group\n",
    "print(\"HR group:\\n\", Grouped.get_group(\"HR\"), \"\\n\")  \n",
    "# Display Rows Belonging To HR Group\n",
    "\n",
    "# ------------------------------------------\n",
    "# Aggregating after grouping\n",
    "# ------------------------------------------\n",
    "# 1. Single aggregation function (mean salary)\n",
    "MeanSalary = Grouped[\"Salary\"].mean()  \n",
    "# Compute Mean Salary Per Department\n",
    "\n",
    "print(\"Mean Salary per Department:\\n\", MeanSalary, \"\\n\")  \n",
    "# Display Mean Salary Per Department\n",
    "\n",
    "# 2. Multiple aggregation functions\n",
    "AggStats = Grouped.agg({\n",
    "    \"Salary\": [\"mean\", \"max\", \"min\"],  \n",
    "    # Compute Mean, Max, Min Salary\n",
    "    \"Bonus\": [\"sum\", \"mean\"]  \n",
    "    # Compute Sum And Mean Bonus\n",
    "})\n",
    "print(\"Aggregated stats per Department:\\n\", AggStats, \"\\n\")  \n",
    "# Display Aggregated Statistics Per Department\n",
    "\n",
    "# ------------------------------------------\n",
    "# Optional: filtering groups (e.g., mean salary > 55000)\n",
    "# ------------------------------------------\n",
    "HighSalaryDept = Grouped.filter(lambda X: X[\"Salary\"].mean() > 55000)  \n",
    "# Keep Groups With Mean Salary > 55000\n",
    "\n",
    "print(\"Departments with mean salary > 55000:\\n\", HighSalaryDept, \"\\n\")  \n",
    "# Display Groups Meeting The Salary Condition\n"
   ]
  },
  {
   "cell_type": "raw",
   "id": "04b71e68-078a-4f39-b6ff-9ed52a62ce6f",
   "metadata": {},
   "source": [
    "Difference between grouping/ aggregating in series and dataframes\n",
    "#In grouping, a Series can be grouped only by another Series or index level, while a DataFrame can be grouped by one or more columns.\n",
    "\n",
    "Series aggregation operates on a single column and returns a Series, whereas DataFrame aggregation can operate on multiple columns and return a DataFrame.\n",
    "\n",
    "Series is simpler and suitable for single-column data, while DataFrame is more powerful for handling complex, multi-column datasets."
   ]
  },
  {
   "cell_type": "markdown",
   "id": "a8e2c9d1-3f4b-4c6d-8a2f-7b6c5d4e0017",
   "metadata": {},
   "source": [
    "### Prepare Series and group by category"
   ]
  },
  {
   "cell_type": "code",
   "execution_count": 17,
   "id": "1e0bc9ff-0ca2-470a-b1d6-6f9da9911f33",
   "metadata": {},
   "outputs": [],
   "source": [
    "# Series\n",
    "import pandas as pd                      # Import Pandas Library As pd\n",
    "\n",
    "Salary = pd.Series([50000, 55000, 60000, 62000],  \n",
    "                   # Create Series For Salaries\n",
    "                   index=[\"Alice\",\"Bob\",\"Charlie\",\"David\"])  \n",
    "                   # Index Represents Employee Names\n",
    "\n",
    "Department = pd.Series([\"HR\",\"HR\",\"IT\",\"IT\"],  \n",
    "                       # Series Representing Department\n",
    "                       index=[\"Alice\",\"Bob\",\"Charlie\",\"David\"])  \n",
    "                       # Aligns With Salary Series Index\n",
    "\n",
    "GroupedSeries = Salary.groupby(Department)  \n",
    "# Group Salary Series By Department\n"
   ]
  },
  {
   "cell_type": "markdown",
   "id": "b9d2e3f4-5a6b-4c7d-8e9f-0a1b2c3d0018",
   "metadata": {},
   "source": [
    "### Build DataFrame and group by column"
   ]
  },
  {
   "cell_type": "code",
   "execution_count": 18,
   "id": "0d032a96-ab1d-4f5a-8111-5309847bdd0e",
   "metadata": {},
   "outputs": [],
   "source": [
    "# DataFrame\n",
    "DataFrame = pd.DataFrame({\n",
    "    \"Department\":[\"HR\",\"HR\",\"IT\",\"IT\"],  \n",
    "    # Department Column\n",
    "    \"Employee\":[\"Alice\",\"Bob\",\"Charlie\",\"David\"],  \n",
    "    # Employee Names Column\n",
    "    \"Salary\":[50000,55000,60000,62000]  \n",
    "    # Salary Column\n",
    "})  \n",
    "# Create DataFrame With Multiple Columns\n",
    "\n",
    "GroupedDataFrame = DataFrame.groupby(\"Department\")  \n",
    "# Group DataFrame By Department Column\n"
   ]
  },
  {
   "cell_type": "markdown",
   "id": "cad3e4f5-6b7c-4d8e-9f0a-1b2c3d4e0019",
   "metadata": {},
   "source": [
    "### Compare Series vs DataFrame grouping and aggregation"
   ]
  },
  {
   "cell_type": "code",
   "execution_count": 19,
   "id": "f8a10ee4-4f38-4593-bd49-cdccf7452dd3",
   "metadata": {},
   "outputs": [
    {
     "name": "stdout",
     "output_type": "stream",
     "text": [
      "Grouped Series (no aggregation):\n",
      "HR: [50000 55000]\n",
      "IT: [60000 62000]\n",
      "\n",
      "Aggregated Series (mean salary per department):\n",
      "HR    52500.0\n",
      "IT    61000.0\n",
      "dtype: float64\n",
      "\n",
      "==================================================\n",
      "\n",
      "Grouped DataFrame (no aggregation):\n",
      "HR group:\n",
      "  Department Employee  Salary  Bonus\n",
      "0         HR    Alice   50000   5000\n",
      "1         HR      Bob   55000   6000\n",
      "\n",
      "IT group:\n",
      "  Department Employee  Salary  Bonus\n",
      "2         IT  Charlie   60000   7000\n",
      "3         IT    David   62000   8000\n",
      "\n",
      "Aggregated DataFrame (Salary and Bonus stats per Department):\n",
      "             Salary           Bonus       \n",
      "               mean     sum    mean    sum\n",
      "Department                                \n",
      "HR          52500.0  105000  5500.0  11000\n",
      "IT          61000.0  122000  7500.0  15000\n"
     ]
    }
   ],
   "source": [
    "import pandas as pd                      # Import Pandas Library As pd\n",
    "\n",
    "# ------------------------------------------\n",
    "# 1. Series Example\n",
    "# ------------------------------------------\n",
    "SalarySeries = pd.Series([50000, 55000, 60000, 62000],  \n",
    "                         # Create Series For Salaries\n",
    "                         index=[\"Alice\", \"Bob\", \"Charlie\", \"David\"])  \n",
    "                         # Index Represents Employee Names\n",
    "\n",
    "DepartmentSeries = pd.Series([\"HR\", \"HR\", \"IT\", \"IT\"],  \n",
    "                             # Series For Department Of Each Employee\n",
    "                             index=[\"Alice\", \"Bob\", \"Charlie\", \"David\"])  \n",
    "                             # Aligns With Salary Series\n",
    "\n",
    "# Grouping (creates groups, no aggregation yet)\n",
    "GroupedSeries = SalarySeries.groupby(DepartmentSeries)  \n",
    "# Group Salary Series By Department\n",
    "\n",
    "print(\"Grouped Series (no aggregation):\")  \n",
    "# Display Grouped Series Information\n",
    "for Dept, Group in GroupedSeries:  \n",
    "    # Iterate Over Each Department Group\n",
    "    print(f\"{Dept}: {Group.values}\")  \n",
    "    # Print Department Name And Salary Values\n",
    "print()  \n",
    "\n",
    "# Aggregating (mean per department)\n",
    "AggregatedSeries = GroupedSeries.mean()  \n",
    "# Compute Mean Salary Per Department\n",
    "\n",
    "print(\"Aggregated Series (mean salary per department):\")  \n",
    "# Display Aggregated Mean Salary\n",
    "print(AggregatedSeries)  \n",
    "# Print Mean Salary Series\n",
    "print(\"\\n\" + \"=\"*50 + \"\\n\")  \n",
    "# Separator For Readability\n",
    "\n",
    "# ------------------------------------------\n",
    "# 2. DataFrame Example\n",
    "# ------------------------------------------\n",
    "DataFrame = pd.DataFrame({\n",
    "    \"Department\": [\"HR\", \"HR\", \"IT\", \"IT\"],  \n",
    "    # Department Column\n",
    "    \"Employee\": [\"Alice\", \"Bob\", \"Charlie\", \"David\"],  \n",
    "    # Employee Names Column\n",
    "    \"Salary\": [50000, 55000, 60000, 62000],  \n",
    "    # Salary Column\n",
    "    \"Bonus\": [5000, 6000, 7000, 8000]  \n",
    "    # Bonus Column\n",
    "})  \n",
    "# Create DataFrame With Multiple Columns\n",
    "\n",
    "# Grouping by Department (creates groups)\n",
    "GroupedDataFrame = DataFrame.groupby(\"Department\")  \n",
    "# Group DataFrame By Department Column\n",
    "\n",
    "print(\"Grouped DataFrame (no aggregation):\")  \n",
    "# Display Grouped DataFrame\n",
    "for Dept, Group in GroupedDataFrame:  \n",
    "    # Iterate Over Each Department Group\n",
    "    print(f\"{Dept} group:\\n{Group}\\n\")  \n",
    "    # Print Group Name And Its Rows\n",
    "\n",
    "# Aggregating (mean and sum for numeric columns)\n",
    "AggregatedDataFrame = GroupedDataFrame.agg({\n",
    "    \"Salary\": [\"mean\", \"sum\"],  \n",
    "    # Compute Mean And Sum For Salary\n",
    "    \"Bonus\": [\"mean\", \"sum\"]  \n",
    "    # Compute Mean And Sum For Bonus\n",
    "})  \n",
    "print(\"Aggregated DataFrame (Salary and Bonus stats per Department):\")  \n",
    "# Display Aggregated Statistics\n",
    "print(AggregatedDataFrame)  \n",
    "# Print DataFrame With Aggregated Stats\n"
   ]
  },
  {
   "cell_type": "markdown",
   "id": "dae4f5b6-7c8d-4e9f-8a0b-1c2d3e4f0020",
   "metadata": {},
   "source": [
    "### Merge DataFrames (inner and outer joins)"
   ]
  },
  {
   "cell_type": "code",
   "execution_count": 20,
   "id": "26544882-58ea-46ad-b11a-c001a1fac78a",
   "metadata": {},
   "outputs": [
    {
     "name": "stdout",
     "output_type": "stream",
     "text": [
      "Inner Merge:\n",
      "   Employee Department  Salary\n",
      "0    Alice         HR   50000\n",
      "1      Bob         IT   60000\n",
      "2  Charlie         HR   55000 \n",
      "\n",
      "Outer Merge:\n",
      "   Employee Department   Salary\n",
      "0    Alice         HR  50000.0\n",
      "1      Bob         IT  60000.0\n",
      "2  Charlie         HR  55000.0\n",
      "3    David         IT      NaN\n",
      "4      Eva        NaN  58000.0 \n",
      "\n"
     ]
    }
   ],
   "source": [
    "# Merging DataFrames\n",
    "import pandas as pd                      # Import Pandas Library As pd\n",
    "\n",
    "# DataFrame 1\n",
    "DataFrame1 = pd.DataFrame({\n",
    "    \"Employee\": [\"Alice\", \"Bob\", \"Charlie\", \"David\"],  \n",
    "    # Employee Names Column\n",
    "    \"Department\": [\"HR\", \"IT\", \"HR\", \"IT\"]  \n",
    "    # Department Column\n",
    "})  \n",
    "# Create First DataFrame\n",
    "\n",
    "# DataFrame 2\n",
    "DataFrame2 = pd.DataFrame({\n",
    "    \"Employee\": [\"Alice\", \"Bob\", \"Charlie\", \"Eva\"],  \n",
    "    # Employee Names Column\n",
    "    \"Salary\": [50000, 60000, 55000, 58000]  \n",
    "    # Salary Column\n",
    "})  \n",
    "# Create Second DataFrame\n",
    "\n",
    "# Inner merge (only common employees)\n",
    "InnerMerge = pd.merge(DataFrame1, DataFrame2, on=\"Employee\", how=\"inner\")  \n",
    "# Merge On Employee, Keep Common Rows Only\n",
    "\n",
    "print(\"Inner Merge:\\n\", InnerMerge, \"\\n\")  \n",
    "# Display Result Of Inner Merge\n",
    "\n",
    "# Outer merge (all employees)\n",
    "OuterMerge = pd.merge(DataFrame1, DataFrame2, on=\"Employee\", how=\"outer\")  \n",
    "# Merge On Employee, Keep All Rows\n",
    "\n",
    "print(\"Outer Merge:\\n\", OuterMerge, \"\\n\")  \n",
    "# Display Result Of Outer Merge\n"
   ]
  },
  {
   "cell_type": "markdown",
   "id": "ebf5a6c7-8d9e-4f0a-9b1c-2d3e4f5a0021",
   "metadata": {},
   "source": [
    "### Merge on different key names (left_on/right_on)"
   ]
  },
  {
   "cell_type": "code",
   "execution_count": 21,
   "id": "0d476d09-7a89-45a0-b6ea-a3a76cc654e7",
   "metadata": {},
   "outputs": [
    {
     "name": "stdout",
     "output_type": "stream",
     "text": [
      "Merge on different keys:\n",
      "    EmpID     Name  EmployeeID  Salary\n",
      "0      2      Bob           2   60000\n",
      "1      3  Charlie           3   55000\n"
     ]
    }
   ],
   "source": [
    "# Merging on different key columns\n",
    "# Can merge using left_on/right_on\n",
    "\n",
    "import pandas as pd                      # Import Pandas Library As pd\n",
    "\n",
    "DataFrame1 = pd.DataFrame({\n",
    "    \"EmpID\": [1, 2, 3],  \n",
    "    # Employee ID Column\n",
    "    \"Name\": [\"Alice\", \"Bob\", \"Charlie\"]  \n",
    "    # Employee Names Column\n",
    "})  \n",
    "# Create First DataFrame\n",
    "\n",
    "DataFrame2 = pd.DataFrame({\n",
    "    \"EmployeeID\": [2, 3, 4],  \n",
    "    # Employee ID Column (Different Name)\n",
    "    \"Salary\": [60000, 55000, 58000]  \n",
    "    # Salary Column\n",
    "})  \n",
    "# Create Second DataFrame\n",
    "\n",
    "# Merge using different column names\n",
    "MergedDataFrame = pd.merge(DataFrame1, DataFrame2, left_on=\"EmpID\", right_on=\"EmployeeID\", how=\"inner\")  \n",
    "# Merge DataFrames On Different Key Columns\n",
    "\n",
    "print(\"Merge on different keys:\\n\", MergedDataFrame)  \n",
    "# Display Merged DataFrame Result\n"
   ]
  },
  {
   "cell_type": "markdown",
   "id": "fc06b7c8-9d0e-4f1a-8b2c-3e4f5a6b0022",
   "metadata": {},
   "source": [
    "### Merge with suffixes to resolve overlapping names"
   ]
  },
  {
   "cell_type": "code",
   "execution_count": 22,
   "id": "9e2bcaa7-bc33-4e75-8374-3b273c0fa315",
   "metadata": {},
   "outputs": [
    {
     "name": "stdout",
     "output_type": "stream",
     "text": [
      "Merge with custom suffixes:\n",
      "   Employee  Salary_Old  Salary_New\n",
      "0    Alice     50000.0         NaN\n",
      "1      Bob     60000.0     65000.0\n",
      "2  Charlie         NaN     55000.0\n"
     ]
    }
   ],
   "source": [
    "# Handling overlapping column names\n",
    "# Use suffixes to avoid column conflicts\n",
    "\n",
    "# If both DataFrames have same column names\n",
    "# Pandas adds default _x and _y suffixes\n",
    "\n",
    "# You can customize suffixes using parameter\n",
    "\n",
    "import pandas as pd                      # Import Pandas Library As pd\n",
    "\n",
    "DataFrame1 = pd.DataFrame({\n",
    "    \"Employee\": [\"Alice\", \"Bob\"],  \n",
    "    # Employee Names Column\n",
    "    \"Salary\": [50000, 60000]  \n",
    "    # Salary Column\n",
    "})  \n",
    "# Create First DataFrame\n",
    "\n",
    "DataFrame2 = pd.DataFrame({\n",
    "    \"Employee\": [\"Bob\", \"Charlie\"],  \n",
    "    # Employee Names Column\n",
    "    \"Salary\": [65000, 55000]  \n",
    "    # Salary Column\n",
    "})  \n",
    "# Create Second DataFrame\n",
    "\n",
    "# Merge with custom suffixes\n",
    "MergedDataFrame = pd.merge(DataFrame1, DataFrame2, on=\"Employee\", how=\"outer\", suffixes=(\"_Old\", \"_New\"))  \n",
    "# Merge DataFrames, Add Custom Suffixes\n",
    "\n",
    "print(\"Merge with custom suffixes:\\n\", MergedDataFrame)  \n",
    "# Display Merged DataFrame Result\n"
   ]
  },
  {
   "cell_type": "markdown",
   "id": "0a17b8c9-0e1f-4a2b-9c3d-4e5f6a7b0023",
   "metadata": {},
   "source": [
    "### Merge DataFrames using indexes (left_index/right_index)"
   ]
  },
  {
   "cell_type": "code",
   "execution_count": 23,
   "id": "cfda5fdf-47be-4044-a3df-178c69fa7171",
   "metadata": {},
   "outputs": [
    {
     "name": "stdout",
     "output_type": "stream",
     "text": [
      "Merge using indexes:\n",
      "        Salary Department\n",
      "Alice   50000         HR\n",
      "Bob     60000         IT\n"
     ]
    }
   ],
   "source": [
    "# Merging using indexes\n",
    "# Merge DataFrames based on row index\n",
    "\n",
    "import pandas as pd                      # Import Pandas Library As pd\n",
    "\n",
    "DataFrame1 = pd.DataFrame({\"Salary\": [50000, 60000]}, index=[\"Alice\", \"Bob\"])  \n",
    "# Create First DataFrame With Index\n",
    "\n",
    "DataFrame2 = pd.DataFrame({\"Department\": [\"HR\", \"IT\"]}, index=[\"Alice\", \"Bob\"])  \n",
    "# Create Second DataFrame With Index\n",
    "\n",
    "# Merge using index\n",
    "MergedIndexDataFrame = pd.merge(DataFrame1, DataFrame2, left_index=True, right_index=True)  \n",
    "# Merge DataFrames Using Their Indexes\n",
    "\n",
    "print(\"Merge using indexes:\\n\", MergedIndexDataFrame)  \n",
    "# Display Merged DataFrame Result\n"
   ]
  },
  {
   "cell_type": "raw",
   "id": "78cd4974-14f7-4698-8a2a-93ad461436df",
   "metadata": {},
   "source": [
    "#Summary table\n",
    "df.pivot_table(values='NumericColumn', index='RowCategory', columns='ColumnCategory', aggfunc='mean')\n",
    "values → numeric column to summarize\n",
    "\n",
    "index → row labels\n",
    "\n",
    "columns → column labels (optional)\n",
    "\n",
    "aggfunc → aggregation function (mean, sum, count, etc.)"
   ]
  },
  {
   "cell_type": "markdown",
   "id": "1b28c9da-2f3b-4a6c-8d9e-0a1b2c3d0024",
   "metadata": {},
   "source": [
    "### Pivot table: mean by department and team"
   ]
  },
  {
   "cell_type": "code",
   "execution_count": 24,
   "id": "10c6d0dc-bf85-4280-b5e2-68e37df42d7a",
   "metadata": {},
   "outputs": [
    {
     "name": "stdout",
     "output_type": "stream",
     "text": [
      "Team              A        B\n",
      "Department                  \n",
      "HR          50000.0  55000.0\n",
      "IT          60000.0  62000.0\n"
     ]
    }
   ],
   "source": [
    "# Summary Tables using pivot_table\n",
    "import pandas as pd                      # Import Pandas Library As pd\n",
    "\n",
    "DataFrame = pd.DataFrame({\n",
    "    \"Department\": [\"HR\",\"HR\",\"IT\",\"IT\"],  \n",
    "    # Department Column\n",
    "    \"Team\": [\"A\",\"B\",\"A\",\"B\"],  \n",
    "    # Team Column\n",
    "    \"Salary\": [50000,55000,60000,62000]  \n",
    "    # Salary Column\n",
    "})  \n",
    "# Create DataFrame\n",
    "\n",
    "Summary = DataFrame.pivot_table(values=\"Salary\", index=\"Department\", columns=\"Team\", aggfunc=\"mean\")  \n",
    "# Create Pivot Table With Mean Salaries\n",
    "\n",
    "print(Summary)  \n",
    "# Display Pivot Table Result\n"
   ]
  },
  {
   "cell_type": "markdown",
   "id": "2c39dade-3f4b-4a7c-9d0e-1a2b3c4d0025",
   "metadata": {},
   "source": [
    "### Pivot table: average salary by department and team"
   ]
  },
  {
   "cell_type": "code",
   "execution_count": 25,
   "id": "e484eed1-cb11-44b5-8f4e-25f3d6dd7442",
   "metadata": {},
   "outputs": [
    {
     "name": "stdout",
     "output_type": "stream",
     "text": [
      "Summary Table (Average Salary):\n",
      " Team              A        B\n",
      "Department                  \n",
      "HR          54000.0  55000.0\n",
      "IT          60000.0  61500.0\n"
     ]
    }
   ],
   "source": [
    "# Summary table using pivot_table\n",
    "import pandas as pd                      # Import Pandas Library As pd\n",
    "\n",
    "DataFrame = pd.DataFrame({\n",
    "    \"Department\": [\"HR\", \"HR\", \"IT\", \"IT\", \"HR\", \"IT\"],  \n",
    "    # Department Column\n",
    "    \"Team\": [\"A\", \"B\", \"A\", \"B\", \"A\", \"B\"],  \n",
    "    # Team Column\n",
    "    \"Salary\": [50000, 55000, 60000, 62000, 58000, 61000]  \n",
    "    # Salary Column\n",
    "})  \n",
    "# Create DataFrame With Department, Team, Salary\n",
    "\n",
    "# Pivot table: average salary by Department and Team\n",
    "SummaryTable = DataFrame.pivot_table(values=\"Salary\", index=\"Department\", columns=\"Team\", aggfunc=\"mean\")  \n",
    "# Compute Mean Salary By Department And Team\n",
    "\n",
    "print(\"Summary Table (Average Salary):\\n\", SummaryTable)  \n",
    "# Display Resulting Pivot Table\n"
   ]
  },
  {
   "cell_type": "markdown",
   "id": "3d4aeebf-405c-4b8c-9e1f-2b3c4d5e0026",
   "metadata": {},
   "source": [
    "### Pivot table with multiple aggregations (mean, sum, max)"
   ]
  },
  {
   "cell_type": "code",
   "execution_count": 26,
   "id": "888e1146-871d-43ce-8f24-79a17aa039b5",
   "metadata": {},
   "outputs": [
    {
     "name": "stdout",
     "output_type": "stream",
     "text": [
      "Pivot Table with Multiple Aggregations:\n",
      "                mean              sum            max       \n",
      "Team              A        B       A       B      A      B\n",
      "Department                                                \n",
      "HR          54000.0  55000.0  108000   55000  58000  55000\n",
      "IT          60000.0  61500.0   60000  123000  60000  62000\n"
     ]
    }
   ],
   "source": [
    "# Pivot Table with Multiple Aggregation Functions\n",
    "# Apply several functions at once\n",
    "\n",
    "SummaryTableMulti = DataFrame.pivot_table(\n",
    "    values=\"Salary\",  \n",
    "    # Column To Aggregate\n",
    "    index=\"Department\",  \n",
    "    # Rows: Group By Department\n",
    "    columns=\"Team\",  \n",
    "    # Columns: Group By Team\n",
    "    aggfunc=[\"mean\", \"sum\", \"max\"]  \n",
    "    # Apply Multiple Aggregation Functions\n",
    ")  \n",
    "# Create Pivot Table With Multiple Stats\n",
    "\n",
    "print(\"Pivot Table with Multiple Aggregations:\\n\", SummaryTableMulti)  \n",
    "# Display Pivot Table With Aggregated Values\n"
   ]
  },
  {
   "cell_type": "markdown",
   "id": "4e5bff90-516d-4c9d-8f20-3c4d5e6f0027",
   "metadata": {},
   "source": [
    "### Pivot table with missing values filled (fill_value=0)"
   ]
  },
  {
   "cell_type": "code",
   "execution_count": 27,
   "id": "d7bbac48-ae36-4874-ac1a-f5a7fdeeee32",
   "metadata": {},
   "outputs": [
    {
     "name": "stdout",
     "output_type": "stream",
     "text": [
      "Pivot Table with Missing Values Filled:\n",
      " Team              A        B\n",
      "Department                  \n",
      "HR          54000.0  55000.0\n",
      "IT          60000.0  61500.0\n"
     ]
    }
   ],
   "source": [
    "# Handling Missing Data in Pivot Table\n",
    "# Fill missing combinations with specific value\n",
    "\n",
    "SummaryTableFill = DataFrame.pivot_table(\n",
    "    values=\"Salary\",  \n",
    "    # Column To Aggregate\n",
    "    index=\"Department\",  \n",
    "    # Rows Grouped By Department\n",
    "    columns=\"Team\",  \n",
    "    # Columns Grouped By Team\n",
    "    aggfunc=\"mean\",  \n",
    "    # Use Mean As Aggregation Function\n",
    "    fill_value=0  \n",
    "    # Replace Missing Values With 0\n",
    ")  \n",
    "# Create Pivot Table With Filled Missing Values\n",
    "\n",
    "print(\"Pivot Table with Missing Values Filled:\\n\", SummaryTableFill)  \n",
    "# Display Pivot Table With No NaNs\n"
   ]
  },
  {
   "cell_type": "markdown",
   "id": "5f6010a1-627e-4dae-9f21-4d5e6f700028",
   "metadata": {},
   "source": [
    "### GroupBy + unstack equivalent to pivot table"
   ]
  },
  {
   "cell_type": "code",
   "execution_count": 28,
   "id": "a32fc502-f460-41c4-8072-1fd54ca04a44",
   "metadata": {},
   "outputs": [
    {
     "name": "stdout",
     "output_type": "stream",
     "text": [
      "Equivalent using groupby + unstack:\n",
      " Team              A        B\n",
      "Department                  \n",
      "HR          54000.0  55000.0\n",
      "IT          60000.0  61500.0\n"
     ]
    }
   ],
   "source": [
    "#Grouping vs Pivot Tables\n",
    "\n",
    "#Pivot tables are essentially groupby + aggregation + reshape in one step.\n",
    "\n",
    "#They are easier to read when summarizing across two categorical variables.\n",
    "\n",
    "# Equivalent using groupby\n",
    "Grouped = DataFrame.groupby([\"Department\", \"Team\"])[\"Salary\"].mean().unstack()\n",
    "print(\"Equivalent using groupby + unstack:\\n\", Grouped)\n"
   ]
  },
  {
   "cell_type": "code",
   "execution_count": null,
   "id": "bcd3ed38-4310-4b17-b1a4-fcc8f901b922",
   "metadata": {},
   "outputs": [],
   "source": []
  }
 ],
 "metadata": {
  "kernelspec": {
   "display_name": ".venv",
   "language": "python",
   "name": "python3"
  },
  "language_info": {
   "codemirror_mode": {
    "name": "ipython",
    "version": 3
   },
   "file_extension": ".py",
   "mimetype": "text/x-python",
   "name": "python",
   "nbconvert_exporter": "python",
   "pygments_lexer": "ipython3",
   "version": "3.13.5"
  }
 },
 "nbformat": 4,
 "nbformat_minor": 5
}
