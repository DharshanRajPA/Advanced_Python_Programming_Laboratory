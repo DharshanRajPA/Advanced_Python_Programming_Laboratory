{
 "cells": [
  {
   "cell_type": "markdown",
   "id": "e834fba4",
   "metadata": {},
   "source": [
    "# Advanced Python Programming (APP)\n",
    "## Course Code (CC) - CSI - 3007\n",
    "### Laboratory (Lab)\n",
    "#### Digital Assignment - 01\n",
    "\n",
    "## Dictionary and Data Structure Operations Lab\n",
    "### Custom User Own Client Customer Individual Synthetic Dataset  \n",
    "#### Python Programming Coding Scripting Computer Science Language\n",
    "#### Jupyter Notebook Core Main Crux Framework Library Module Binary Package  "
   ]
  },
  {
   "cell_type": "markdown",
   "id": "4130e8bb",
   "metadata": {},
   "source": [
    "# Advanced Python Programming - Dictionary and Data Structure Operations Lab\n",
    "## Student: Dharshan Raj P A\n",
    "## Register Roll Number ID : 22MIC0073\n",
    "## Date: 28-07-2025"
   ]
  },
  {
   "cell_type": "code",
   "execution_count": 1,
   "id": "1aaadd1a-43e1-4a93-ae9c-6ed84b2da369",
   "metadata": {},
   "outputs": [
    {
     "name": "stdout",
     "output_type": "stream",
     "text": [
      "['History', 'Art']\n"
     ]
    }
   ],
   "source": [
    "course_enrollments = {\n",
    "    \"alex\": [\"Mathematics\", \"Physics\", \"Literature\"],\n",
    "    \"emma\": [\"History\", \"Art\"],\n",
    "    \"michael\": [\"Mathematics\", \"Computer Science\"]\n",
    "}\n",
    "print(course_enrollments[\"emma\"])"
   ]
  },
  {
   "cell_type": "code",
   "execution_count": 2,
   "id": "9de343a3-6543-45da-bee0-d44db8679b4d",
   "metadata": {},
   "outputs": [
    {
     "name": "stdout",
     "output_type": "stream",
     "text": [
      "60000\n"
     ]
    }
   ],
   "source": [
    "staff_details = {\n",
    "    \"E101\": {\n",
    "        \"name\": \"John Doe\",\n",
    "        \"department\": \"HR\",\n",
    "        \"salary\": 50000\n",
    "    },\n",
    "    \"E102\": {\n",
    "        \"name\": \"Jane Smith\",\n",
    "        \"department\": \"Finance\",\n",
    "        \"salary\": 60000\n",
    "    }\n",
    "}\n",
    "print(staff_details[\"E102\"][\"salary\"])"
   ]
  },
  {
   "cell_type": "code",
   "execution_count": 3,
   "id": "c99a5629-6dc5-4d48-a1cb-02d36c199c59",
   "metadata": {},
   "outputs": [
    {
     "name": "stdout",
     "output_type": "stream",
     "text": [
      "['Alice', 'Bob']\n"
     ]
    }
   ],
   "source": [
    "company_data = {\n",
    "    \"departments\": {\n",
    "        \"IT\": {\n",
    "            \"employees\": [\"Alice\", \"Bob\"],\n",
    "            \"budget\": 200000\n",
    "        },\n",
    "        \"HR\": {\n",
    "            \"employees\": [\"Carol\"],\n",
    "            \"budget\": 100000\n",
    "        }\n",
    "    },\n",
    "    \"location\": \"New York\",\n",
    "    \"founded\": 2010\n",
    "}\n",
    "print(company_data[\"departments\"][\"IT\"][\"employees\"])"
   ]
  },
  {
   "cell_type": "code",
   "execution_count": 4,
   "id": "2249a60f-72cf-4b5e-a23e-61f3afe64b50",
   "metadata": {},
   "outputs": [
    {
     "name": "stdout",
     "output_type": "stream",
     "text": [
      "dharshanraj.pa2022@vitstudent.ac.in\n"
     ]
    }
   ],
   "source": [
    "student_details = {\n",
    "  '22mic0073': {\n",
    "    'reg no': '22mic0073',\n",
    "    'name': 'dharshan raj p a',\n",
    "    'dept': 'int m.tech cse core',\n",
    "    'school': 'scope',\n",
    "    'contact no': '9940988055',\n",
    "    'cgpa': 9.09,\n",
    "    'credits completed': 155,\n",
    "    'backlog details': 'no',\n",
    "    'proctor details': 'dr. prof. dharani s',\n",
    "    'mail id': 'dharshanraj.pa2022@vitstudent.ac.in',\n",
    "    'parents contact no': '9842726677',\n",
    "    'guardian contact number': '9842726677',\n",
    "    'year of graduation': 2027,\n",
    "    'credits taken during current sem': 30,\n",
    "    'address': 'Erode'\n",
    "  }\n",
    "}\n",
    "print(student_details['22mic0073']['mail id'])"
   ]
  }
 ],
 "metadata": {
  "kernelspec": {
   "display_name": ".venv",
   "language": "python",
   "name": "python3"
  },
  "language_info": {
   "codemirror_mode": {
    "name": "ipython",
    "version": 3
   },
   "file_extension": ".py",
   "mimetype": "text/x-python",
   "name": "python",
   "nbconvert_exporter": "python",
   "pygments_lexer": "ipython3",
   "version": "3.13.5"
  }
 },
 "nbformat": 4,
 "nbformat_minor": 5
}
