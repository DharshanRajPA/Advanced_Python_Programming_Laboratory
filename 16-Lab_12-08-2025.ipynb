{
 "cells": [
  {
   "cell_type": "markdown",
   "id": "828e848d",
   "metadata": {},
   "source": [
    "# Advanced Python Programming (APP)\n",
    "## Course Code (CC) - CSI - 3007\n",
    "### Laboratory (Lab)\n",
    "#### Digital Assignment - 03\n",
    "\n",
    "## Working On NumPy Arrays In Advanced Python Programming Lab\n",
    "### Custom User Own Client Customer Individual Synthetic Dataset  \n",
    "#### Python Programming Coding Scripting Computer Science Language\n",
    "#### Jupyter Notebook Core Main Crux Framework Library Module Binary Package  "
   ]
  },
  {
   "cell_type": "markdown",
   "id": "018eb548-74b5-4937-93ca-00264575ee6c",
   "metadata": {},
   "source": [
    "# WORKING ON NUMPY ARRAYS."
   ]
  },
  {
   "cell_type": "markdown",
   "id": "b271fa69-3c09-4142-9fa0-e0fa3b03b8b2",
   "metadata": {},
   "source": [
    "# ARRAY() METHOD"
   ]
  },
  {
   "cell_type": "code",
   "execution_count": null,
   "id": "e9285f39-7138-4638-98dd-7341e77784f2",
   "metadata": {},
   "outputs": [],
   "source": [
    "import numpy as np\n",
    "ArrayTwoD = np.array([[9, 8, 7], [6, 5, 4]])  # Create A 2D Array\n",
    "print(ArrayTwoD)"
   ]
  },
  {
   "cell_type": "markdown",
   "id": "ef8a6c3f-5702-4974-846e-6de80fbf03f1",
   "metadata": {},
   "source": [
    "# ARRAY ATTRIBUTES"
   ]
  },
  {
   "cell_type": "code",
   "execution_count": null,
   "id": "98b6eec6-7793-42e0-ae48-b04423fed421",
   "metadata": {},
   "outputs": [],
   "source": [
    "print(ArrayTwoD.size)  # Number Of Elements"
   ]
  },
  {
   "cell_type": "code",
   "execution_count": null,
   "id": "26070438-4bdd-4cdf-973c-a591858f3835",
   "metadata": {},
   "outputs": [],
   "source": [
    "print(ArrayTwoD.shape)  # Rows And Columns (Shape)"
   ]
  },
  {
   "cell_type": "code",
   "execution_count": null,
   "id": "dd9fc1ee-da2f-423c-85f4-7ad360b4243a",
   "metadata": {},
   "outputs": [],
   "source": [
    "print(ArrayTwoD.ndim)  # Number Of Dimensions"
   ]
  },
  {
   "cell_type": "markdown",
   "id": "6d9afbe5-284c-4518-bf62-384e2c700b77",
   "metadata": {},
   "source": [
    "# RESHAPE METHOD"
   ]
  },
  {
   "cell_type": "code",
   "execution_count": null,
   "id": "78d30dfd-712c-4f55-b4ce-164adc6d31fe",
   "metadata": {},
   "outputs": [],
   "source": [
    "LinearArray = np.array([9, 8, 7, 6, 5, 4])\n",
    "print(\"Original Array:\", LinearArray)\n",
    "print(\"Original Shape:\", LinearArray.shape)"
   ]
  },
  {
   "cell_type": "code",
   "execution_count": null,
   "id": "dedbfcf6-18e4-42b5-b01c-4f93f26faeb1",
   "metadata": {},
   "outputs": [],
   "source": [
    "# Reshape To A 2D Array (2 Rows, 3 Columns)\n",
    "ReshapedArray = LinearArray.reshape(2, 3)  # Reshape 1D Array To 2D Array\n",
    "print(ReshapedArray)\n",
    "print(\"New Shape:\", ReshapedArray.shape)"
   ]
  },
  {
   "cell_type": "markdown",
   "id": "86bbb3e9-74f7-422f-baa4-139ed0a459e0",
   "metadata": {},
   "source": [
    "# ARRANGE METHOD"
   ]
  },
  {
   "cell_type": "code",
   "execution_count": null,
   "id": "b1da45d0-706f-430c-b488-c5ab8dcf2de1",
   "metadata": {},
   "outputs": [],
   "source": [
    "def NumpySum(NumElements):\n",
    "  Squares = np.arange(NumElements) ** 2  # [0..N-1] Squared Element Wise\n",
    "  Cubes = np.arange(NumElements) ** 3\n",
    "  Total = Squares + Cubes                # Element Wise Addition (No Python Loops)\n",
    "  return Total\n",
    "\n",
    "NumpySum(10)"
   ]
  },
  {
   "cell_type": "markdown",
   "id": "d5647d61-b2ce-4dc5-9387-92220bcd90fd",
   "metadata": {},
   "source": [
    "# ARRAY CREATION FUNCTION"
   ]
  },
  {
   "cell_type": "code",
   "execution_count": null,
   "id": "ee1d0962-cc83-4252-9b8d-a76a4767545a",
   "metadata": {},
   "outputs": [],
   "source": [
    "np.arange(8)"
   ]
  },
  {
   "cell_type": "code",
   "execution_count": null,
   "id": "003ef0cf-f9ea-4e74-9eed-d5f698af43cf",
   "metadata": {},
   "outputs": [],
   "source": [
    "np.arange(2, 10, dtype=float)"
   ]
  },
  {
   "cell_type": "code",
   "execution_count": null,
   "id": "be49e715-97f3-4ab4-b4b4-6d1b7d43dfdf",
   "metadata": {},
   "outputs": [],
   "source": [
    "np.arange(2, 3, 0.05)  # Step Value Is 0.05"
   ]
  },
  {
   "cell_type": "markdown",
   "id": "52fbdd55-36e5-4d05-b1f5-8eb4c202fd63",
   "metadata": {},
   "source": [
    "# ARRAY METHOD"
   ]
  },
  {
   "cell_type": "code",
   "execution_count": null,
   "id": "a8a8c467-6444-49c2-b37f-2ff1b79e3b88",
   "metadata": {},
   "outputs": [],
   "source": [
    "ArrayA = np.array([1, 2, 3, 4, 5, 6])\n",
    "print(ArrayA)"
   ]
  },
  {
   "cell_type": "code",
   "execution_count": null,
   "id": "51c3c95f-ca0d-4ab9-9cf7-990962185e87",
   "metadata": {},
   "outputs": [],
   "source": [
    "MatrixB = np.array([[1, 2], [3, 4]])\n",
    "print(MatrixB)"
   ]
  },
  {
   "cell_type": "code",
   "execution_count": null,
   "id": "17e205a5-4d41-42f2-b24e-9c98073851d0",
   "metadata": {},
   "outputs": [],
   "source": [
    "# In NumPy, The Fundamental Array Object Is An Ndarray.\n",
    "TensorC = np.array([[[1, 2], [3, 4]], [[5, 6], [7, 8]]])\n",
    "print(TensorC)"
   ]
  },
  {
   "cell_type": "markdown",
   "id": "5aff99d3-c0e5-4c26-8ad7-fa1aa1724700",
   "metadata": {},
   "source": [
    "# DTYPE ATTRIBUTE"
   ]
  },
  {
   "cell_type": "code",
   "execution_count": null,
   "id": "26568291-62b9-41ff-aef5-154f0a0c192b",
   "metadata": {},
   "outputs": [],
   "source": [
    "np.array([127, 128, 129], dtype=np.int32)"
   ]
  },
  {
   "cell_type": "code",
   "execution_count": null,
   "id": "a3a78b6a-94a3-460e-add1-d8be175612ca",
   "metadata": {},
   "outputs": [],
   "source": [
    "# Demonstration Of Int8 Overflow Behavior When Casting Out Of Bound Values\n",
    "np.array([127, 128, 129], dtype=np.int8)"
   ]
  },
  {
   "cell_type": "markdown",
   "id": "e56efefa-2149-40fc-8fe8-f56b0742575a",
   "metadata": {},
   "source": [
    "# LINSPACE METHOD"
   ]
  },
  {
   "cell_type": "code",
   "execution_count": null,
   "id": "ab991900-77ca-4d37-aea9-a80e4c752437",
   "metadata": {},
   "outputs": [],
   "source": [
    "# The Interval Is Divided Into 5 Equal Steps (6 Points Define 5 Intervals).\n",
    "np.linspace(1.0, 4.0, 6)"
   ]
  },
  {
   "cell_type": "markdown",
   "id": "a0a7bf2c-d9dd-47b1-a249-d76d4fc4ab42",
   "metadata": {},
   "source": [
    "# EYE METHOD IN NUMPY"
   ]
  },
  {
   "cell_type": "code",
   "execution_count": null,
   "id": "805e9d34-b7aa-4189-8138-1c91361c1eaf",
   "metadata": {},
   "outputs": [],
   "source": [
    "# Identity Matrix Of Shape 4x4\n",
    "np.eye(4)"
   ]
  },
  {
   "cell_type": "code",
   "execution_count": null,
   "id": "55355083-c382-4bcb-a513-da779b38e1f4",
   "metadata": {},
   "outputs": [],
   "source": [
    "# Matrix With Ones On The Main Diagonal (Shape 4x6)\n",
    "np.eye(4, 6)"
   ]
  },
  {
   "cell_type": "code",
   "execution_count": null,
   "id": "c64b1575-c2eb-41c1-a767-ee87fca7c513",
   "metadata": {},
   "outputs": [],
   "source": [
    "# Optional K Shifts The Diagonal: Negative → Below Main Diagonal, Positive → Above\n",
    "np.eye(4, 6, k=-4)"
   ]
  },
  {
   "cell_type": "code",
   "execution_count": null,
   "id": "2964f78c-2261-46fe-9090-fdff95bc7c6e",
   "metadata": {},
   "outputs": [],
   "source": [
    "np.eye(3, 5, k=2)  # Positive K Places The Diagonal Above The Main Diagonal"
   ]
  },
  {
   "cell_type": "markdown",
   "id": "bc54ed12-094a-403a-9ce1-3be596a7d87e",
   "metadata": {},
   "source": [
    "# DIAG METHOD"
   ]
  },
  {
   "cell_type": "code",
   "execution_count": null,
   "id": "f612896c-083a-4dc5-aae2-d2951025dae6",
   "metadata": {},
   "outputs": [],
   "source": [
    "# Build A Diagonal Matrix From A 1D Array\n",
    "np.diag([1, 2, 3])"
   ]
  },
  {
   "cell_type": "code",
   "execution_count": null,
   "id": "60cd102a-9499-4c25-ad2c-e98415cca6b7",
   "metadata": {},
   "outputs": [],
   "source": [
    "# Upper Diagonal (K=1) In A Square Matrix Of Size (N + K)\n",
    "np.diag([1, 2, 3], 1)"
   ]
  },
  {
   "cell_type": "code",
   "execution_count": null,
   "id": "384061e7-e9fb-490c-aede-def5f8a71bb1",
   "metadata": {},
   "outputs": [],
   "source": [
    "MatrixA = np.array([[1, 2], [3, 4]])\n",
    "np.diag(MatrixA)"
   ]
  },
  {
   "cell_type": "markdown",
   "id": "beca53d0-6f69-48ea-8de2-16e4f3c39385",
   "metadata": {},
   "source": [
    "# VANDERMONDE MATRIX"
   ]
  },
  {
   "cell_type": "code",
   "execution_count": null,
   "id": "7f122897-0dd8-4c09-8e54-699b01525c6b",
   "metadata": {},
   "outputs": [],
   "source": [
    "# N = 2 → Two Columns: X**1, X**0\n",
    "np.vander(np.linspace(0, 2, 5), 2)"
   ]
  },
  {
   "cell_type": "code",
   "execution_count": null,
   "id": "c1db29cf-5a93-442a-8a5-a99843723d59",
   "metadata": {},
   "outputs": [],
   "source": [
    "# np.vander(X, N) Creates A Vandermonde Matrix From A 1D Input Array X.\n",
    "# [[X1**(N-1), X1**(N-2), ..., X1**0],\n",
    "#  [X2**(N-1), X2**(N-2), ..., X2**0],\n",
    "#  ...\n",
    "#  [Xn**(N-1), Xn**(N-2), ..., Xn**0]]\n",
    "# Each Row Lists Decreasing Powers Of An Element From X."
   ]
  },
  {
   "cell_type": "code",
   "execution_count": null,
   "id": "fbf40c91-0384-42a6-b5e5-faa19430dddc",
   "metadata": {},
   "outputs": [],
   "source": [
    "np.vander([1, 2, 3, 4], 2)  # Creates A 4x2 Matrix"
   ]
  },
  {
   "cell_type": "code",
   "execution_count": null,
   "id": "cd5a7fcf-aedb-48be-95a9-bda790932666",
   "metadata": {},
   "outputs": [],
   "source": [
    "np.vander((1, 2, 3, 4), 4)  # Creates A 4x4 Matrix"
   ]
  },
  {
   "cell_type": "code",
   "execution_count": null,
   "id": "0e5ef8f6-9567-431c-967d-65bd2a045791",
   "metadata": {},
   "outputs": [],
   "source": [
    "np.vander((1, 2, 3, 4), 3)  # Each Row Is [X**2, X, 1] For Each X In The Input"
   ]
  },
  {
   "cell_type": "markdown",
   "id": "45d1c639-ae59-4507-b28a-b0bab29e834c",
   "metadata": {},
   "source": [
    "# ONES METHOD"
   ]
  },
  {
   "cell_type": "code",
   "execution_count": null,
   "id": "877dc561-0fbb-43da-a768-01632873650d",
   "metadata": {},
   "outputs": [],
   "source": [
    "OnesArray1D = np.ones(5)  # Shape=5 (1D), Default Dtype=Float\n",
    "print(\"1D Array Of Ones:\", OnesArray1D)"
   ]
  },
  {
   "cell_type": "code",
   "execution_count": null,
   "id": "a816c33b-389d-49c6-b91f-941bec3cfa86",
   "metadata": {},
   "outputs": [],
   "source": [
    "OnesMatrix2D = np.ones((3, 4))  # Shape=(3, 4) → 3x4 Matrix\n",
    "print(\"\\n2D Array (3x4) Of Ones:\\n\", OnesMatrix2D)"
   ]
  },
  {
   "cell_type": "code",
   "execution_count": null,
   "id": "db9b73b2-cec0-4ac9-9067-20ca6de973a8",
   "metadata": {},
   "outputs": [],
   "source": [
    "OnesMatrixInt = np.ones((2, 3), dtype=int)  # Shape=(2, 3), Dtype=Int\n",
    "print(\"\\n2D Integer Array (2x3) Of Ones:\\n\", OnesMatrixInt)"
   ]
  },
  {
   "cell_type": "code",
   "execution_count": null,
   "id": "dfbce05c-17c8-418e-94a5-615cfa09cd21",
   "metadata": {},
   "outputs": [],
   "source": [
    "OnesArray3D = np.ones((2, 2, 3))  # Shape=(2, 2, 3) → 3D Array\n",
    "print(\"\\n3D Array Of Ones:\\n\", OnesArray3D)"
   ]
  },
  {
   "cell_type": "code",
   "execution_count": null,
   "id": "239b97ed-6278-4a28-a729-979f8c38c042",
   "metadata": {},
   "outputs": [],
   "source": [
    "OnesBooleanMatrix = np.ones((3, 3), dtype=bool)\n",
    "print(\"\\nBoolean Array (3x3) Of Ones (True Values):\\n\", OnesBooleanMatrix)"
   ]
  },
  {
   "cell_type": "markdown",
   "id": "8c8bd07f-5ecf-4f48-a2ae-d54215b1768b",
   "metadata": {},
   "source": [
    "# ZEROS METHOD"
   ]
  },
  {
   "cell_type": "code",
   "execution_count": null,
   "id": "65dc84e8-e566-48dc-bf6a-1e56d5274520",
   "metadata": {},
   "outputs": [],
   "source": [
    "ZerosArray1D = np.zeros(5)  # Shape=5 (1D), Default Dtype=Float\n",
    "print(\"1D Array Of Zeros:\", ZerosArray1D)"
   ]
  },
  {
   "cell_type": "code",
   "execution_count": null,
   "id": "5f51bdc6-84e1-4c3a-87b7-987d04b3bcd7",
   "metadata": {},
   "outputs": [],
   "source": [
    "ZerosMatrix2D = np.zeros((3, 4))  # Shape=(3, 4) → 3x4 Matrix\n",
    "print(\"\\n2D Array (3x4) Of Zeros:\\n\", ZerosMatrix2D)"
   ]
  },
  {
   "cell_type": "code",
   "execution_count": null,
   "id": "7bbc96bc-ed2d-4981-a09e-f9cb7668edae",
   "metadata": {},
   "outputs": [],
   "source": [
    "ZerosMatrixInt = np.zeros((2, 3), dtype=int)  # Shape=(2, 3), Dtype=Int\n",
    "print(\"\\n2D Integer Array (2x3) Of Zeros:\\n\", ZerosMatrixInt)"
   ]
  },
  {
   "cell_type": "code",
   "execution_count": null,
   "id": "694aa3ee-1905-415e-83fc-d38442b96f09",
   "metadata": {},
   "outputs": [],
   "source": [
    "ZerosArray3D = np.zeros((2, 2, 3))  # Shape=(2, 2, 3) → 3D Array\n",
    "print(\"\\n3D Array Of Zeros:\\n\", ZerosArray3D)"
   ]
  },
  {
   "cell_type": "markdown",
   "id": "948f17bf-1513-45ff-94e4-1aa010b027fc",
   "metadata": {},
   "source": [
    "# INDICES METHOD"
   ]
  },
  {
   "cell_type": "code",
   "execution_count": null,
   "id": "a3592063-f76d-4135-8c4b-b92a39d7f83f",
   "metadata": {},
   "outputs": [],
   "source": [
    "IndicesGrid3x3 = np.indices((3, 3))  # 3 Rows And 3 Columns\n",
    "print(\"Indices For A 3x3 Grid:\\n\", IndicesGrid3x3)"
   ]
  },
  {
   "cell_type": "code",
   "execution_count": null,
   "id": "e3116e4c-4a7e-49d5-a9f6-b4e816fc05e0",
   "metadata": {},
   "outputs": [],
   "source": [
    "print(\"\\nRow Indices (First Array):\\n\", IndicesGrid3x3[0])"
   ]
  },
  {
   "cell_type": "code",
   "execution_count": null,
   "id": "c2e933e2-aab8-4a53-87da-50ba53677a6c",
   "metadata": {},
   "outputs": [],
   "source": [
    "print(\"\\nColumn Indices (Second Array):\\n\", IndicesGrid3x3[1])"
   ]
  },
  {
   "cell_type": "code",
   "execution_count": null,
   "id": "35a1f603-ef39-47bd-aeb5-f241c19d82b0",
   "metadata": {},
   "outputs": [],
   "source": [
    "IndicesGrid2x4 = np.indices((2, 4))\n",
    "print(\"\\nIndices For A 2x4 Grid:\\n\", IndicesGrid2x4)"
   ]
  },
  {
   "cell_type": "code",
   "execution_count": null,
   "id": "83aa1c13-d5d5-4b5b-ae33-821ea33f800e",
   "metadata": {},
   "outputs": [],
   "source": [
    "print(\"\\nRow Indices:\\n\", IndicesGrid2x4[0])"
   ]
  },
  {
   "cell_type": "code",
   "execution_count": null,
   "id": "02a70bc4-193f-4c97-b8ee-9e5dc32b686e",
   "metadata": {},
   "outputs": [],
   "source": [
    "print(\"\\nColumn Indices:\\n\", IndicesGrid2x4[1])"
   ]
  },
  {
   "cell_type": "markdown",
   "id": "521d3f80-e8a3-49f8-bc03-b965f2617ec6",
   "metadata": {},
   "source": [
    "# RANDOM METHOD"
   ]
  },
  {
   "cell_type": "code",
   "execution_count": null,
   "id": "79e6641e-25e8-4903-b4f1-680b4cebd6b9",
   "metadata": {},
   "outputs": [],
   "source": [
    "RandomFloat = np.random.random()\n",
    "print(\"Random Float (0 To 1):\", RandomFloat)"
   ]
  },
  {
   "cell_type": "code",
   "execution_count": null,
   "id": "998e2cd7-3b17-4cc3-a350-c6918c95ab8a",
   "metadata": {},
   "outputs": [],
   "source": [
    "RandomArray1D = np.random.random(5)\n",
    "print(\"\\n1D Array Of Random Floats:\", RandomArray1D)"
   ]
  },
  {
   "cell_type": "code",
   "execution_count": null,
   "id": "0b7038b2-c1e5-4d17-892c-5142af6017e7",
   "metadata": {},
   "outputs": [],
   "source": [
    "RandomMatrix3x3 = np.random.random((3, 3))\n",
    "print(\"\\n2D Array (3x3) Of Random Floats:\\n\", RandomMatrix3x3)"
   ]
  },
  {
   "cell_type": "code",
   "execution_count": null,
   "id": "f67fdff0-4779-4b29-876a-5203fac4594c",
   "metadata": {},
   "outputs": [],
   "source": [
    "RandomIntegers = np.random.randint(10, 50, size=5)\n",
    "print(\"\\nRandom Integers Between 10 And 50:\", RandomIntegers)"
   ]
  },
  {
   "cell_type": "code",
   "execution_count": null,
   "id": "82d78f97-1606-493f-9699-527a4b4a83a3",
   "metadata": {},
   "outputs": [],
   "source": [
    "RandomNormal = np.random.randn(4)\n",
    "print(\"\\nRandom Numbers From Normal Distribution:\", RandomNormal)"
   ]
  },
  {
   "cell_type": "markdown",
   "id": "4f7261c0-cc07-4380-8f1c-03886c3e07de",
   "metadata": {},
   "source": [
    "# SLICING AND INDEXING IN ARRAYS"
   ]
  },
  {
   "cell_type": "code",
   "execution_count": null,
   "id": "ddacafb5-3478-4312-bb97-5eb0bd2df004",
   "metadata": {},
   "outputs": [],
   "source": [
    "Numbers1D = np.array([50, 60, 70, 80, 90, 100])\n",
    "print(\"1D Array:\", Numbers1D)"
   ]
  },
  {
   "cell_type": "code",
   "execution_count": null,
   "id": "74dc8088-f03d-4411-86e9-660424ec3771",
   "metadata": {},
   "outputs": [],
   "source": [
    "print(\"\\nIndexing On 1D Array:\")\n",
    "print(\"Element At Index 0:\", Numbers1D[0])   # First Element\n",
    "print(\"Element At Index -1:\", Numbers1D[-1]) # Last Element"
   ]
  },
  {
   "cell_type": "code",
   "execution_count": null,
   "id": "73b67c13-79ba-4427-b6ff-c3818c82686c",
   "metadata": {},
   "outputs": [],
   "source": [
    "print(\"\\nSlicing On 1D Array:\")\n",
    "print(\"Elements From Index 1 To 4:\", Numbers1D[1:5])  # From Index 1 Up To 4\n",
    "print(\"Every Second Element:\", Numbers1D[::2])        # Step Of 2\n",
    "print(\"Reverse Array:\", Numbers1D[::-1])"
   ]
  },
  {
   "cell_type": "code",
   "execution_count": null,
   "id": "7e86144e-7ec6-4bab-aadc-a0ed7ade5bba",
   "metadata": {},
   "outputs": [],
   "source": [
    "# Create A 2D Array (3x4 Matrix)\n",
    "Numbers2D = np.array([[1, 2, 3, 4],\n",
    "                      [5, 6, 7, 8],\n",
    "                      [9, 10, 11, 12]])\n",
    "print(\"\\n2D Array:\\n\", Numbers2D)"
   ]
  },
  {
   "cell_type": "code",
   "execution_count": null,
   "id": "1521aeb6-edee-46b8-826b-4db571b7b1d8",
   "metadata": {},
   "outputs": [],
   "source": [
    "print(\"\\nIndexing On 2D Array:\")\n",
    "print(\"Element At Row 1, Column 2:\", Numbers2D[1, 2])   # 7 (Row=1, Col=2)\n",
    "print(\"First Row:\", Numbers2D[0])                      # Whole First Row\n",
    "print(\"First Column:\", Numbers2D[:, 0])"
   ]
  },
  {
   "cell_type": "code",
   "execution_count": null,
   "id": "a655d449-b0bf-4c97-b9e93-0962fc896d2a",
   "metadata": {},
   "outputs": [],
   "source": []
  }
 ],
 "metadata": {
  "kernelspec": {
   "display_name": "Python [conda env:base] *",
   "language": "python",
   "name": "conda-base-py"
  },
  "language_info": {
   "codemirror_mode": {
    "name": "ipython",
    "version": 3
   },
   "file_extension": ".py",
   "mimetype": "text/x-python",
   "name": "python",
   "nbconvert_exporter": "python",
   "pygments_lexer": "ipython3",
   "version": "3.12.7"
  }
 },
 "nbformat": 4,
 "nbformat_minor": 5
}