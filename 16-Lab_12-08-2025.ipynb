{
 "cells": [
  {
   "cell_type": "markdown",
   "id": "828e848d",
   "metadata": {},
   "source": [
    "# Advanced Python Programming (APP)\n",
    "## Course Code (CC) - CSI - 3007\n",
    "### Laboratory (Lab)\n",
    "#### Digital Assignment - 03\n",
    "\n",
    "## Working On NumPy Arrays In Advanced Python Programming Lab\n",
    "### Custom User Own Client Customer Individual Synthetic Dataset  \n",
    "#### Python Programming Coding Scripting Computer Science Language\n",
    "#### Jupyter Notebook Core Main Crux Framework Library Module Binary Package  \n",
    "\n",
    "# Working On NumPy Arrays In Advanced Python Programming Lab\n",
    "## Student: Dharshan Raj P A\n",
    "## Register Roll Number ID: 22MIC0073\n",
    "## Date: 12-09-2025"
   ]
  },
  {
   "cell_type": "markdown",
   "id": "018eb548-74b5-4937-93ca-00264575ee6c",
   "metadata": {},
   "source": [
    "# WORKING ON NUMPY ARRAYS."
   ]
  },
  {
   "cell_type": "markdown",
   "id": "b271fa69-3c09-4142-9fa0-e0fa3b03b8b2",
   "metadata": {},
   "source": [
    "# ARRAY() METHOD"
   ]
  },
  {
   "cell_type": "code",
   "execution_count": 1,
   "id": "e9285f39-7138-4638-98dd-7341e77784f2",
   "metadata": {},
   "outputs": [
    {
     "name": "stdout",
     "output_type": "stream",
     "text": [
      "[[9 8 7]\n",
      " [6 5 4]]\n"
     ]
    }
   ],
   "source": [
    "import numpy as np\n",
    "ArrayTwoD = np.array([[9, 8, 7], [6, 5, 4]])  # Create A 2D Array\n",
    "print(ArrayTwoD)"
   ]
  },
  {
   "cell_type": "markdown",
   "id": "ef8a6c3f-5702-4974-846e-6de80fbf03f1",
   "metadata": {},
   "source": [
    "# ARRAY ATTRIBUTES"
   ]
  },
  {
   "cell_type": "code",
   "execution_count": 2,
   "id": "98b6eec6-7793-42e0-ae48-b04423fed421",
   "metadata": {},
   "outputs": [
    {
     "name": "stdout",
     "output_type": "stream",
     "text": [
      "6\n"
     ]
    }
   ],
   "source": [
    "print(ArrayTwoD.size)  # Number Of Elements"
   ]
  },
  {
   "cell_type": "code",
   "execution_count": 3,
   "id": "26070438-4bdd-4cdf-973c-a591858f3835",
   "metadata": {},
   "outputs": [
    {
     "name": "stdout",
     "output_type": "stream",
     "text": [
      "(2, 3)\n"
     ]
    }
   ],
   "source": [
    "print(ArrayTwoD.shape)  # Rows And Columns (Shape)"
   ]
  },
  {
   "cell_type": "code",
   "execution_count": 4,
   "id": "dd9fc1ee-da2f-423c-85f4-7ad360b4243a",
   "metadata": {},
   "outputs": [
    {
     "name": "stdout",
     "output_type": "stream",
     "text": [
      "2\n"
     ]
    }
   ],
   "source": [
    "print(ArrayTwoD.ndim)  # Number Of Dimensions"
   ]
  },
  {
   "cell_type": "markdown",
   "id": "6d9afbe5-284c-4518-bf62-384e2c700b77",
   "metadata": {},
   "source": [
    "# RESHAPE METHOD"
   ]
  },
  {
   "cell_type": "code",
   "execution_count": 5,
   "id": "78d30dfd-712c-4f55-b4ce-164adc6d31fe",
   "metadata": {},
   "outputs": [
    {
     "name": "stdout",
     "output_type": "stream",
     "text": [
      "Original Array: [9 8 7 6 5 4]\n",
      "Original Shape: (6,)\n"
     ]
    }
   ],
   "source": [
    "LinearArray = np.array([9, 8, 7, 6, 5, 4])\n",
    "print(\"Original Array:\", LinearArray)\n",
    "print(\"Original Shape:\", LinearArray.shape)"
   ]
  },
  {
   "cell_type": "code",
   "execution_count": 6,
   "id": "dedbfcf6-18e4-42b5-b01c-4f93f26faeb1",
   "metadata": {},
   "outputs": [
    {
     "name": "stdout",
     "output_type": "stream",
     "text": [
      "[[9 8 7]\n",
      " [6 5 4]]\n",
      "New Shape: (2, 3)\n"
     ]
    }
   ],
   "source": [
    "# Reshape To A 2D Array (2 Rows, 3 Columns)\n",
    "ReshapedArray = LinearArray.reshape(2, 3)  # Reshape 1D Array To 2D Array\n",
    "print(ReshapedArray)\n",
    "print(\"New Shape:\", ReshapedArray.shape)"
   ]
  },
  {
   "cell_type": "markdown",
   "id": "86bbb3e9-74f7-422f-baa4-139ed0a459e0",
   "metadata": {},
   "source": [
    "# ARRANGE METHOD"
   ]
  },
  {
   "cell_type": "code",
   "execution_count": 7,
   "id": "b1da45d0-706f-430c-b488-c5ab8dcf2de1",
   "metadata": {},
   "outputs": [
    {
     "data": {
      "text/plain": [
       "array([  0,   2,  12,  36,  80, 150, 252, 392, 576, 810])"
      ]
     },
     "execution_count": 7,
     "metadata": {},
     "output_type": "execute_result"
    }
   ],
   "source": [
    "def NumpySum(NumElements):\n",
    "  Squares = np.arange(NumElements) ** 2  # [0..N-1] Squared Element Wise\n",
    "  Cubes = np.arange(NumElements) ** 3\n",
    "  Total = Squares + Cubes                # Element Wise Addition (No Python Loops)\n",
    "  return Total\n",
    "\n",
    "NumpySum(10)"
   ]
  },
  {
   "cell_type": "markdown",
   "id": "d5647d61-b2ce-4dc5-9387-92220bcd90fd",
   "metadata": {},
   "source": [
    "# ARRAY CREATION FUNCTION"
   ]
  },
  {
   "cell_type": "code",
   "execution_count": 8,
   "id": "ee1d0962-cc83-4252-9b8d-a76a4767545a",
   "metadata": {},
   "outputs": [
    {
     "data": {
      "text/plain": [
       "array([0, 1, 2, 3, 4, 5, 6, 7])"
      ]
     },
     "execution_count": 8,
     "metadata": {},
     "output_type": "execute_result"
    }
   ],
   "source": [
    "np.arange(8)"
   ]
  },
  {
   "cell_type": "code",
   "execution_count": 9,
   "id": "003ef0cf-f9ea-4e74-9eed-d5f698af43cf",
   "metadata": {},
   "outputs": [
    {
     "data": {
      "text/plain": [
       "array([2., 3., 4., 5., 6., 7., 8., 9.])"
      ]
     },
     "execution_count": 9,
     "metadata": {},
     "output_type": "execute_result"
    }
   ],
   "source": [
    "np.arange(2, 10, dtype=float)"
   ]
  },
  {
   "cell_type": "code",
   "execution_count": 10,
   "id": "be49e715-97f3-4ab4-b4b4-6d1b7d43dfdf",
   "metadata": {},
   "outputs": [
    {
     "data": {
      "text/plain": [
       "array([2.  , 2.05, 2.1 , 2.15, 2.2 , 2.25, 2.3 , 2.35, 2.4 , 2.45, 2.5 ,\n",
       "       2.55, 2.6 , 2.65, 2.7 , 2.75, 2.8 , 2.85, 2.9 , 2.95])"
      ]
     },
     "execution_count": 10,
     "metadata": {},
     "output_type": "execute_result"
    }
   ],
   "source": [
    "np.arange(2, 3, 0.05)  # Step Value Is 0.05"
   ]
  },
  {
   "cell_type": "markdown",
   "id": "52fbdd55-36e5-4d05-b1f5-8eb4c202fd63",
   "metadata": {},
   "source": [
    "# ARRAY METHOD"
   ]
  },
  {
   "cell_type": "code",
   "execution_count": 11,
   "id": "a8a8c467-6444-49c2-b37f-2ff1b79e3b88",
   "metadata": {},
   "outputs": [
    {
     "name": "stdout",
     "output_type": "stream",
     "text": [
      "[1 2 3 4 5 6]\n"
     ]
    }
   ],
   "source": [
    "ArrayA = np.array([1, 2, 3, 4, 5, 6])\n",
    "print(ArrayA)"
   ]
  },
  {
   "cell_type": "code",
   "execution_count": 12,
   "id": "51c3c95f-ca0d-4ab9-9cf7-990962185e87",
   "metadata": {},
   "outputs": [
    {
     "name": "stdout",
     "output_type": "stream",
     "text": [
      "[[1 2]\n",
      " [3 4]]\n"
     ]
    }
   ],
   "source": [
    "MatrixB = np.array([[1, 2], [3, 4]])\n",
    "print(MatrixB)"
   ]
  },
  {
   "cell_type": "code",
   "execution_count": 13,
   "id": "17e205a5-4d41-42f2-b24e-9c98073851d0",
   "metadata": {},
   "outputs": [
    {
     "name": "stdout",
     "output_type": "stream",
     "text": [
      "[[[1 2]\n",
      "  [3 4]]\n",
      "\n",
      " [[5 6]\n",
      "  [7 8]]]\n"
     ]
    }
   ],
   "source": [
    "# In NumPy, The Fundamental Array Object Is An Ndarray.\n",
    "TensorC = np.array([[[1, 2], [3, 4]], [[5, 6], [7, 8]]])\n",
    "print(TensorC)"
   ]
  },
  {
   "cell_type": "markdown",
   "id": "5aff99d3-c0e5-4c26-8ad7-fa1aa1724700",
   "metadata": {},
   "source": [
    "# DTYPE ATTRIBUTE"
   ]
  },
  {
   "cell_type": "code",
   "execution_count": 14,
   "id": "26568291-62b9-41ff-aef5-154f0a0c192b",
   "metadata": {},
   "outputs": [
    {
     "data": {
      "text/plain": [
       "array([127, 128, 129], dtype=int32)"
      ]
     },
     "execution_count": 14,
     "metadata": {},
     "output_type": "execute_result"
    }
   ],
   "source": [
    "np.array([127, 128, 129], dtype=np.int32)"
   ]
  },
  {
   "cell_type": "code",
   "execution_count": 15,
   "id": "a3a78b6a-94a3-460e-add1-d8be175612ca",
   "metadata": {},
   "outputs": [
    {
     "ename": "OverflowError",
     "evalue": "Python integer 128 out of bounds for int8",
     "output_type": "error",
     "traceback": [
      "\u001b[31m---------------------------------------------------------------------------\u001b[39m",
      "\u001b[31mOverflowError\u001b[39m                             Traceback (most recent call last)",
      "\u001b[36mCell\u001b[39m\u001b[36m \u001b[39m\u001b[32mIn[15]\u001b[39m\u001b[32m, line 2\u001b[39m\n\u001b[32m      1\u001b[39m \u001b[38;5;66;03m# Demonstration Of Int8 Overflow Behavior When Casting Out Of Bound Values\u001b[39;00m\n\u001b[32m----> \u001b[39m\u001b[32m2\u001b[39m \u001b[43mnp\u001b[49m\u001b[43m.\u001b[49m\u001b[43marray\u001b[49m\u001b[43m(\u001b[49m\u001b[43m[\u001b[49m\u001b[32;43m127\u001b[39;49m\u001b[43m,\u001b[49m\u001b[43m \u001b[49m\u001b[32;43m128\u001b[39;49m\u001b[43m,\u001b[49m\u001b[43m \u001b[49m\u001b[32;43m129\u001b[39;49m\u001b[43m]\u001b[49m\u001b[43m,\u001b[49m\u001b[43m \u001b[49m\u001b[43mdtype\u001b[49m\u001b[43m=\u001b[49m\u001b[43mnp\u001b[49m\u001b[43m.\u001b[49m\u001b[43mint8\u001b[49m\u001b[43m)\u001b[49m\n",
      "\u001b[31mOverflowError\u001b[39m: Python integer 128 out of bounds for int8"
     ]
    }
   ],
   "source": [
    "# Demonstration Of Int8 Overflow Behavior When Casting Out Of Bound Values\n",
    "np.array([127, 128, 129], dtype=np.int8)"
   ]
  },
  {
   "cell_type": "markdown",
   "id": "e56efefa-2149-40fc-8fe8-f56b0742575a",
   "metadata": {},
   "source": [
    "# LINSPACE METHOD"
   ]
  },
  {
   "cell_type": "code",
   "execution_count": 16,
   "id": "ab991900-77ca-4d37-aea9-a80e4c752437",
   "metadata": {},
   "outputs": [
    {
     "data": {
      "text/plain": [
       "array([1. , 1.6, 2.2, 2.8, 3.4, 4. ])"
      ]
     },
     "execution_count": 16,
     "metadata": {},
     "output_type": "execute_result"
    }
   ],
   "source": [
    "# The Interval Is Divided Into 5 Equal Steps (6 Points Define 5 Intervals).\n",
    "np.linspace(1.0, 4.0, 6)"
   ]
  },
  {
   "cell_type": "markdown",
   "id": "a0a7bf2c-d9dd-47b1-a249-d76d4fc4ab42",
   "metadata": {},
   "source": [
    "# EYE METHOD IN NUMPY"
   ]
  },
  {
   "cell_type": "code",
   "execution_count": 17,
   "id": "805e9d34-b7aa-4189-8138-1c91361c1eaf",
   "metadata": {},
   "outputs": [
    {
     "data": {
      "text/plain": [
       "array([[1., 0., 0., 0.],\n",
       "       [0., 1., 0., 0.],\n",
       "       [0., 0., 1., 0.],\n",
       "       [0., 0., 0., 1.]])"
      ]
     },
     "execution_count": 17,
     "metadata": {},
     "output_type": "execute_result"
    }
   ],
   "source": [
    "# Identity Matrix Of Shape 4x4\n",
    "np.eye(4)"
   ]
  },
  {
   "cell_type": "code",
   "execution_count": 18,
   "id": "55355083-c382-4bcb-a513-da779b38e1f4",
   "metadata": {},
   "outputs": [
    {
     "data": {
      "text/plain": [
       "array([[1., 0., 0., 0., 0., 0.],\n",
       "       [0., 1., 0., 0., 0., 0.],\n",
       "       [0., 0., 1., 0., 0., 0.],\n",
       "       [0., 0., 0., 1., 0., 0.]])"
      ]
     },
     "execution_count": 18,
     "metadata": {},
     "output_type": "execute_result"
    }
   ],
   "source": [
    "# Matrix With Ones On The Main Diagonal (Shape 4x6)\n",
    "np.eye(4, 6)"
   ]
  },
  {
   "cell_type": "code",
   "execution_count": 19,
   "id": "c64b1575-c2eb-41c1-a767-ee87fca7c513",
   "metadata": {},
   "outputs": [
    {
     "data": {
      "text/plain": [
       "array([[0., 0., 0., 0., 0., 0.],\n",
       "       [0., 0., 0., 0., 0., 0.],\n",
       "       [0., 0., 0., 0., 0., 0.],\n",
       "       [0., 0., 0., 0., 0., 0.]])"
      ]
     },
     "execution_count": 19,
     "metadata": {},
     "output_type": "execute_result"
    }
   ],
   "source": [
    "# Optional K Shifts The Diagonal: Negative → Below Main Diagonal, Positive → Above\n",
    "np.eye(4, 6, k=-4)"
   ]
  },
  {
   "cell_type": "code",
   "execution_count": 20,
   "id": "2964f78c-2261-46fe-9090-fdff95bc7c6e",
   "metadata": {},
   "outputs": [
    {
     "data": {
      "text/plain": [
       "array([[0., 0., 1., 0., 0.],\n",
       "       [0., 0., 0., 1., 0.],\n",
       "       [0., 0., 0., 0., 1.]])"
      ]
     },
     "execution_count": 20,
     "metadata": {},
     "output_type": "execute_result"
    }
   ],
   "source": [
    "np.eye(3, 5, k=2)  # Positive K Places The Diagonal Above The Main Diagonal"
   ]
  },
  {
   "cell_type": "markdown",
   "id": "bc54ed12-094a-403a-9ce1-3be596a7d87e",
   "metadata": {},
   "source": [
    "# DIAG METHOD"
   ]
  },
  {
   "cell_type": "code",
   "execution_count": 21,
   "id": "f612896c-083a-4dc5-aae2-d2951025dae6",
   "metadata": {},
   "outputs": [
    {
     "data": {
      "text/plain": [
       "array([[1, 0, 0],\n",
       "       [0, 2, 0],\n",
       "       [0, 0, 3]])"
      ]
     },
     "execution_count": 21,
     "metadata": {},
     "output_type": "execute_result"
    }
   ],
   "source": [
    "# Build A Diagonal Matrix From A 1D Array\n",
    "np.diag([1, 2, 3])"
   ]
  },
  {
   "cell_type": "code",
   "execution_count": 22,
   "id": "60cd102a-9499-4c25-ad2c-e98415cca6b7",
   "metadata": {},
   "outputs": [
    {
     "data": {
      "text/plain": [
       "array([[0, 1, 0, 0],\n",
       "       [0, 0, 2, 0],\n",
       "       [0, 0, 0, 3],\n",
       "       [0, 0, 0, 0]])"
      ]
     },
     "execution_count": 22,
     "metadata": {},
     "output_type": "execute_result"
    }
   ],
   "source": [
    "# Upper Diagonal (K=1) In A Square Matrix Of Size (N + K)\n",
    "np.diag([1, 2, 3], 1)"
   ]
  },
  {
   "cell_type": "code",
   "execution_count": 23,
   "id": "384061e7-e9fb-490c-aede-def5f8a71bb1",
   "metadata": {},
   "outputs": [
    {
     "data": {
      "text/plain": [
       "array([1, 4])"
      ]
     },
     "execution_count": 23,
     "metadata": {},
     "output_type": "execute_result"
    }
   ],
   "source": [
    "MatrixA = np.array([[1, 2], [3, 4]])\n",
    "np.diag(MatrixA)"
   ]
  },
  {
   "cell_type": "markdown",
   "id": "beca53d0-6f69-48ea-8de2-16e4f3c39385",
   "metadata": {},
   "source": [
    "# VANDERMONDE MATRIX"
   ]
  },
  {
   "cell_type": "code",
   "execution_count": 24,
   "id": "7f122897-0dd8-4c09-8e54-699b01525c6b",
   "metadata": {},
   "outputs": [
    {
     "data": {
      "text/plain": [
       "array([[0. , 1. ],\n",
       "       [0.5, 1. ],\n",
       "       [1. , 1. ],\n",
       "       [1.5, 1. ],\n",
       "       [2. , 1. ]])"
      ]
     },
     "execution_count": 24,
     "metadata": {},
     "output_type": "execute_result"
    }
   ],
   "source": [
    "# N = 2 → Two Columns: X**1, X**0\n",
    "np.vander(np.linspace(0, 2, 5), 2)"
   ]
  },
  {
   "cell_type": "code",
   "execution_count": 25,
   "id": "c1db29cf-5a93-442a-8a5-a99843723d59",
   "metadata": {},
   "outputs": [],
   "source": [
    "# np.vander(X, N) Creates A Vandermonde Matrix From A 1D Input Array X.\n",
    "# [[X1**(N-1), X1**(N-2), ..., X1**0],\n",
    "#  [X2**(N-1), X2**(N-2), ..., X2**0],\n",
    "#  ...\n",
    "#  [Xn**(N-1), Xn**(N-2), ..., Xn**0]]\n",
    "# Each Row Lists Decreasing Powers Of An Element From X."
   ]
  },
  {
   "cell_type": "code",
   "execution_count": 26,
   "id": "fbf40c91-0384-42a6-b5e5-faa19430dddc",
   "metadata": {},
   "outputs": [
    {
     "data": {
      "text/plain": [
       "array([[1, 1],\n",
       "       [2, 1],\n",
       "       [3, 1],\n",
       "       [4, 1]])"
      ]
     },
     "execution_count": 26,
     "metadata": {},
     "output_type": "execute_result"
    }
   ],
   "source": [
    "np.vander([1, 2, 3, 4], 2)  # Creates A 4x2 Matrix"
   ]
  },
  {
   "cell_type": "code",
   "execution_count": 27,
   "id": "cd5a7fcf-aedb-48be-95a9-bda790932666",
   "metadata": {},
   "outputs": [
    {
     "data": {
      "text/plain": [
       "array([[ 1,  1,  1,  1],\n",
       "       [ 8,  4,  2,  1],\n",
       "       [27,  9,  3,  1],\n",
       "       [64, 16,  4,  1]])"
      ]
     },
     "execution_count": 27,
     "metadata": {},
     "output_type": "execute_result"
    }
   ],
   "source": [
    "np.vander((1, 2, 3, 4), 4)  # Creates A 4x4 Matrix"
   ]
  },
  {
   "cell_type": "code",
   "execution_count": 28,
   "id": "0e5ef8f6-9567-431c-967d-65bd2a045791",
   "metadata": {},
   "outputs": [
    {
     "data": {
      "text/plain": [
       "array([[ 1,  1,  1],\n",
       "       [ 4,  2,  1],\n",
       "       [ 9,  3,  1],\n",
       "       [16,  4,  1]])"
      ]
     },
     "execution_count": 28,
     "metadata": {},
     "output_type": "execute_result"
    }
   ],
   "source": [
    "np.vander((1, 2, 3, 4), 3)  # Each Row Is [X**2, X, 1] For Each X In The Input"
   ]
  },
  {
   "cell_type": "markdown",
   "id": "45d1c639-ae59-4507-b28a-b0bab29e834c",
   "metadata": {},
   "source": [
    "# ONES METHOD"
   ]
  },
  {
   "cell_type": "code",
   "execution_count": 29,
   "id": "877dc561-0fbb-43da-a768-01632873650d",
   "metadata": {},
   "outputs": [
    {
     "name": "stdout",
     "output_type": "stream",
     "text": [
      "1D Array Of Ones: [1. 1. 1. 1. 1.]\n"
     ]
    }
   ],
   "source": [
    "OnesArray1D = np.ones(5)  # Shape=5 (1D), Default Dtype=Float\n",
    "print(\"1D Array Of Ones:\", OnesArray1D)"
   ]
  },
  {
   "cell_type": "code",
   "execution_count": 30,
   "id": "a816c33b-389d-49c6-b91f-941bec3cfa86",
   "metadata": {},
   "outputs": [
    {
     "name": "stdout",
     "output_type": "stream",
     "text": [
      "\n",
      "2D Array (3x4) Of Ones:\n",
      " [[1. 1. 1. 1.]\n",
      " [1. 1. 1. 1.]\n",
      " [1. 1. 1. 1.]]\n"
     ]
    }
   ],
   "source": [
    "OnesMatrix2D = np.ones((3, 4))  # Shape=(3, 4) → 3x4 Matrix\n",
    "print(\"\\n2D Array (3x4) Of Ones:\\n\", OnesMatrix2D)"
   ]
  },
  {
   "cell_type": "code",
   "execution_count": 31,
   "id": "db9b73b2-cec0-4ac9-9067-20ca6de973a8",
   "metadata": {},
   "outputs": [
    {
     "name": "stdout",
     "output_type": "stream",
     "text": [
      "\n",
      "2D Integer Array (2x3) Of Ones:\n",
      " [[1 1 1]\n",
      " [1 1 1]]\n"
     ]
    }
   ],
   "source": [
    "OnesMatrixInt = np.ones((2, 3), dtype=int)  # Shape=(2, 3), Dtype=Int\n",
    "print(\"\\n2D Integer Array (2x3) Of Ones:\\n\", OnesMatrixInt)"
   ]
  },
  {
   "cell_type": "code",
   "execution_count": 32,
   "id": "dfbce05c-17c8-418e-94a5-615cfa09cd21",
   "metadata": {},
   "outputs": [
    {
     "name": "stdout",
     "output_type": "stream",
     "text": [
      "\n",
      "3D Array Of Ones:\n",
      " [[[1. 1. 1.]\n",
      "  [1. 1. 1.]]\n",
      "\n",
      " [[1. 1. 1.]\n",
      "  [1. 1. 1.]]]\n"
     ]
    }
   ],
   "source": [
    "OnesArray3D = np.ones((2, 2, 3))  # Shape=(2, 2, 3) → 3D Array\n",
    "print(\"\\n3D Array Of Ones:\\n\", OnesArray3D)"
   ]
  },
  {
   "cell_type": "code",
   "execution_count": 33,
   "id": "239b97ed-6278-4a28-a729-979f8c38c042",
   "metadata": {},
   "outputs": [
    {
     "name": "stdout",
     "output_type": "stream",
     "text": [
      "\n",
      "Boolean Array (3x3) Of Ones (True Values):\n",
      " [[ True  True  True]\n",
      " [ True  True  True]\n",
      " [ True  True  True]]\n"
     ]
    }
   ],
   "source": [
    "OnesBooleanMatrix = np.ones((3, 3), dtype=bool)\n",
    "print(\"\\nBoolean Array (3x3) Of Ones (True Values):\\n\", OnesBooleanMatrix)"
   ]
  },
  {
   "cell_type": "markdown",
   "id": "8c8bd07f-5ecf-4f48-a2ae-d54215b1768b",
   "metadata": {},
   "source": [
    "# ZEROS METHOD"
   ]
  },
  {
   "cell_type": "code",
   "execution_count": 34,
   "id": "65dc84e8-e566-48dc-bf6a-1e56d5274520",
   "metadata": {},
   "outputs": [
    {
     "name": "stdout",
     "output_type": "stream",
     "text": [
      "1D Array Of Zeros: [0. 0. 0. 0. 0.]\n"
     ]
    }
   ],
   "source": [
    "ZerosArray1D = np.zeros(5)  # Shape=5 (1D), Default Dtype=Float\n",
    "print(\"1D Array Of Zeros:\", ZerosArray1D)"
   ]
  },
  {
   "cell_type": "code",
   "execution_count": 35,
   "id": "5f51bdc6-84e1-4c3a-87b7-987d04b3bcd7",
   "metadata": {},
   "outputs": [
    {
     "name": "stdout",
     "output_type": "stream",
     "text": [
      "\n",
      "2D Array (3x4) Of Zeros:\n",
      " [[0. 0. 0. 0.]\n",
      " [0. 0. 0. 0.]\n",
      " [0. 0. 0. 0.]]\n"
     ]
    }
   ],
   "source": [
    "ZerosMatrix2D = np.zeros((3, 4))  # Shape=(3, 4) → 3x4 Matrix\n",
    "print(\"\\n2D Array (3x4) Of Zeros:\\n\", ZerosMatrix2D)"
   ]
  },
  {
   "cell_type": "code",
   "execution_count": 36,
   "id": "7bbc96bc-ed2d-4981-a09e-f9cb7668edae",
   "metadata": {},
   "outputs": [
    {
     "name": "stdout",
     "output_type": "stream",
     "text": [
      "\n",
      "2D Integer Array (2x3) Of Zeros:\n",
      " [[0 0 0]\n",
      " [0 0 0]]\n"
     ]
    }
   ],
   "source": [
    "ZerosMatrixInt = np.zeros((2, 3), dtype=int)  # Shape=(2, 3), Dtype=Int\n",
    "print(\"\\n2D Integer Array (2x3) Of Zeros:\\n\", ZerosMatrixInt)"
   ]
  },
  {
   "cell_type": "code",
   "execution_count": 37,
   "id": "694aa3ee-1905-415e-83fc-d38442b96f09",
   "metadata": {},
   "outputs": [
    {
     "name": "stdout",
     "output_type": "stream",
     "text": [
      "\n",
      "3D Array Of Zeros:\n",
      " [[[0. 0. 0.]\n",
      "  [0. 0. 0.]]\n",
      "\n",
      " [[0. 0. 0.]\n",
      "  [0. 0. 0.]]]\n"
     ]
    }
   ],
   "source": [
    "ZerosArray3D = np.zeros((2, 2, 3))  # Shape=(2, 2, 3) → 3D Array\n",
    "print(\"\\n3D Array Of Zeros:\\n\", ZerosArray3D)"
   ]
  },
  {
   "cell_type": "markdown",
   "id": "948f17bf-1513-45ff-94e4-1aa010b027fc",
   "metadata": {},
   "source": [
    "# INDICES METHOD"
   ]
  },
  {
   "cell_type": "code",
   "execution_count": 38,
   "id": "a3592063-f76d-4135-8c4b-b92a39d7f83f",
   "metadata": {},
   "outputs": [
    {
     "name": "stdout",
     "output_type": "stream",
     "text": [
      "Indices For A 3x3 Grid:\n",
      " [[[0 0 0]\n",
      "  [1 1 1]\n",
      "  [2 2 2]]\n",
      "\n",
      " [[0 1 2]\n",
      "  [0 1 2]\n",
      "  [0 1 2]]]\n"
     ]
    }
   ],
   "source": [
    "IndicesGrid3x3 = np.indices((3, 3))  # 3 Rows And 3 Columns\n",
    "print(\"Indices For A 3x3 Grid:\\n\", IndicesGrid3x3)"
   ]
  },
  {
   "cell_type": "code",
   "execution_count": 39,
   "id": "e3116e4c-4a7e-49d5-a9f6-b4e816fc05e0",
   "metadata": {},
   "outputs": [
    {
     "name": "stdout",
     "output_type": "stream",
     "text": [
      "\n",
      "Row Indices (First Array):\n",
      " [[0 0 0]\n",
      " [1 1 1]\n",
      " [2 2 2]]\n"
     ]
    }
   ],
   "source": [
    "print(\"\\nRow Indices (First Array):\\n\", IndicesGrid3x3[0])"
   ]
  },
  {
   "cell_type": "code",
   "execution_count": 40,
   "id": "c2e933e2-aab8-4a53-87da-50ba53677a6c",
   "metadata": {},
   "outputs": [
    {
     "name": "stdout",
     "output_type": "stream",
     "text": [
      "\n",
      "Column Indices (Second Array):\n",
      " [[0 1 2]\n",
      " [0 1 2]\n",
      " [0 1 2]]\n"
     ]
    }
   ],
   "source": [
    "print(\"\\nColumn Indices (Second Array):\\n\", IndicesGrid3x3[1])"
   ]
  },
  {
   "cell_type": "code",
   "execution_count": 41,
   "id": "35a1f603-ef39-47bd-aeb5-f241c19d82b0",
   "metadata": {},
   "outputs": [
    {
     "name": "stdout",
     "output_type": "stream",
     "text": [
      "\n",
      "Indices For A 2x4 Grid:\n",
      " [[[0 0 0 0]\n",
      "  [1 1 1 1]]\n",
      "\n",
      " [[0 1 2 3]\n",
      "  [0 1 2 3]]]\n"
     ]
    }
   ],
   "source": [
    "IndicesGrid2x4 = np.indices((2, 4))\n",
    "print(\"\\nIndices For A 2x4 Grid:\\n\", IndicesGrid2x4)"
   ]
  },
  {
   "cell_type": "code",
   "execution_count": 42,
   "id": "83aa1c13-d5d5-4b5b-ae33-821ea33f800e",
   "metadata": {},
   "outputs": [
    {
     "name": "stdout",
     "output_type": "stream",
     "text": [
      "\n",
      "Row Indices:\n",
      " [[0 0 0 0]\n",
      " [1 1 1 1]]\n"
     ]
    }
   ],
   "source": [
    "print(\"\\nRow Indices:\\n\", IndicesGrid2x4[0])"
   ]
  },
  {
   "cell_type": "code",
   "execution_count": 43,
   "id": "02a70bc4-193f-4c97-b8ee-9e5dc32b686e",
   "metadata": {},
   "outputs": [
    {
     "name": "stdout",
     "output_type": "stream",
     "text": [
      "\n",
      "Column Indices:\n",
      " [[0 1 2 3]\n",
      " [0 1 2 3]]\n"
     ]
    }
   ],
   "source": [
    "print(\"\\nColumn Indices:\\n\", IndicesGrid2x4[1])"
   ]
  },
  {
   "cell_type": "markdown",
   "id": "521d3f80-e8a3-49f8-bc03-b965f2617ec6",
   "metadata": {},
   "source": [
    "# RANDOM METHOD"
   ]
  },
  {
   "cell_type": "code",
   "execution_count": 44,
   "id": "79e6641e-25e8-4903-b4f1-680b4cebd6b9",
   "metadata": {},
   "outputs": [
    {
     "name": "stdout",
     "output_type": "stream",
     "text": [
      "Random Float (0 To 1): 0.7690245054618696\n"
     ]
    }
   ],
   "source": [
    "RandomFloat = np.random.random()\n",
    "print(\"Random Float (0 To 1):\", RandomFloat)"
   ]
  },
  {
   "cell_type": "code",
   "execution_count": 45,
   "id": "998e2cd7-3b17-4cc3-a350-c6918c95ab8a",
   "metadata": {},
   "outputs": [
    {
     "name": "stdout",
     "output_type": "stream",
     "text": [
      "\n",
      "1D Array Of Random Floats: [0.19135328 0.81197094 0.06953308 0.41573659 0.24266518]\n"
     ]
    }
   ],
   "source": [
    "RandomArray1D = np.random.random(5)\n",
    "print(\"\\n1D Array Of Random Floats:\", RandomArray1D)"
   ]
  },
  {
   "cell_type": "code",
   "execution_count": 46,
   "id": "0b7038b2-c1e5-4d17-892c-5142af6017e7",
   "metadata": {},
   "outputs": [
    {
     "name": "stdout",
     "output_type": "stream",
     "text": [
      "\n",
      "2D Array (3x3) Of Random Floats:\n",
      " [[0.81743391 0.01788876 0.08123118]\n",
      " [0.21453236 0.43572155 0.70042963]\n",
      " [0.13067079 0.93926787 0.28932884]]\n"
     ]
    }
   ],
   "source": [
    "RandomMatrix3x3 = np.random.random((3, 3))\n",
    "print(\"\\n2D Array (3x3) Of Random Floats:\\n\", RandomMatrix3x3)"
   ]
  },
  {
   "cell_type": "code",
   "execution_count": 47,
   "id": "f67fdff0-4779-4b29-876a-5203fac4594c",
   "metadata": {},
   "outputs": [
    {
     "name": "stdout",
     "output_type": "stream",
     "text": [
      "\n",
      "Random Integers Between 10 And 50: [22 26 16 11 35]\n"
     ]
    }
   ],
   "source": [
    "RandomIntegers = np.random.randint(10, 50, size=5)\n",
    "print(\"\\nRandom Integers Between 10 And 50:\", RandomIntegers)"
   ]
  },
  {
   "cell_type": "code",
   "execution_count": 48,
   "id": "82d78f97-1606-493f-9699-527a4b4a83a3",
   "metadata": {},
   "outputs": [
    {
     "name": "stdout",
     "output_type": "stream",
     "text": [
      "\n",
      "Random Numbers From Normal Distribution: [ 0.66183047 -0.11075168 -0.81113059 -1.35784338]\n"
     ]
    }
   ],
   "source": [
    "RandomNormal = np.random.randn(4)\n",
    "print(\"\\nRandom Numbers From Normal Distribution:\", RandomNormal)"
   ]
  },
  {
   "cell_type": "markdown",
   "id": "4f7261c0-cc07-4380-8f1c-03886c3e07de",
   "metadata": {},
   "source": [
    "# SLICING AND INDEXING IN ARRAYS"
   ]
  },
  {
   "cell_type": "code",
   "execution_count": 49,
   "id": "ddacafb5-3478-4312-bb97-5eb0bd2df004",
   "metadata": {},
   "outputs": [
    {
     "name": "stdout",
     "output_type": "stream",
     "text": [
      "1D Array: [ 50  60  70  80  90 100]\n"
     ]
    }
   ],
   "source": [
    "Numbers1D = np.array([50, 60, 70, 80, 90, 100])\n",
    "print(\"1D Array:\", Numbers1D)"
   ]
  },
  {
   "cell_type": "code",
   "execution_count": 50,
   "id": "74dc8088-f03d-4411-86e9-660424ec3771",
   "metadata": {},
   "outputs": [
    {
     "name": "stdout",
     "output_type": "stream",
     "text": [
      "\n",
      "Indexing On 1D Array:\n",
      "Element At Index 0: 50\n",
      "Element At Index -1: 100\n"
     ]
    }
   ],
   "source": [
    "print(\"\\nIndexing On 1D Array:\")\n",
    "print(\"Element At Index 0:\", Numbers1D[0])   # First Element\n",
    "print(\"Element At Index -1:\", Numbers1D[-1]) # Last Element"
   ]
  },
  {
   "cell_type": "code",
   "execution_count": 51,
   "id": "73b67c13-79ba-4427-b6ff-c3818c82686c",
   "metadata": {},
   "outputs": [
    {
     "name": "stdout",
     "output_type": "stream",
     "text": [
      "\n",
      "Slicing On 1D Array:\n",
      "Elements From Index 1 To 4: [60 70 80 90]\n",
      "Every Second Element: [50 70 90]\n",
      "Reverse Array: [100  90  80  70  60  50]\n"
     ]
    }
   ],
   "source": [
    "print(\"\\nSlicing On 1D Array:\")\n",
    "print(\"Elements From Index 1 To 4:\", Numbers1D[1:5])  # From Index 1 Up To 4\n",
    "print(\"Every Second Element:\", Numbers1D[::2])        # Step Of 2\n",
    "print(\"Reverse Array:\", Numbers1D[::-1])"
   ]
  },
  {
   "cell_type": "code",
   "execution_count": 52,
   "id": "7e86144e-7ec6-4bab-aadc-a0ed7ade5bba",
   "metadata": {},
   "outputs": [
    {
     "name": "stdout",
     "output_type": "stream",
     "text": [
      "\n",
      "2D Array:\n",
      " [[ 1  2  3  4]\n",
      " [ 5  6  7  8]\n",
      " [ 9 10 11 12]]\n"
     ]
    }
   ],
   "source": [
    "# Create A 2D Array (3x4 Matrix)\n",
    "Numbers2D = np.array([[1, 2, 3, 4],\n",
    "                      [5, 6, 7, 8],\n",
    "                      [9, 10, 11, 12]])\n",
    "print(\"\\n2D Array:\\n\", Numbers2D)"
   ]
  },
  {
   "cell_type": "code",
   "execution_count": 53,
   "id": "1521aeb6-edee-46b8-826b-4db571b7b1d8",
   "metadata": {},
   "outputs": [
    {
     "name": "stdout",
     "output_type": "stream",
     "text": [
      "\n",
      "Indexing On 2D Array:\n",
      "Element At Row 1, Column 2: 7\n",
      "First Row: [1 2 3 4]\n",
      "First Column: [1 5 9]\n"
     ]
    }
   ],
   "source": [
    "print(\"\\nIndexing On 2D Array:\")\n",
    "print(\"Element At Row 1, Column 2:\", Numbers2D[1, 2])   # 7 (Row=1, Col=2)\n",
    "print(\"First Row:\", Numbers2D[0])                      # Whole First Row\n",
    "print(\"First Column:\", Numbers2D[:, 0])"
   ]
  },
  {
   "cell_type": "code",
   "execution_count": null,
   "id": "a655d449-b0bf-4c97-b9e93-0962fc896d2a",
   "metadata": {},
   "outputs": [],
   "source": []
  }
 ],
 "metadata": {
  "kernelspec": {
   "display_name": ".venv",
   "language": "python",
   "name": "python3"
  },
  "language_info": {
   "codemirror_mode": {
    "name": "ipython",
    "version": 3
   },
   "file_extension": ".py",
   "mimetype": "text/x-python",
   "name": "python",
   "nbconvert_exporter": "python",
   "pygments_lexer": "ipython3",
   "version": "3.13.5"
  }
 },
 "nbformat": 4,
 "nbformat_minor": 5
}
