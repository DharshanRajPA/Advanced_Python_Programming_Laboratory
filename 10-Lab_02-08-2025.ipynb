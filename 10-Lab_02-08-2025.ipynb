{
 "cells": [
  {
   "cell_type": "markdown",
   "metadata": {},
   "source": [
    "# Advanced Python Programming - Functions And Methods Operations Prcoessing Lab\n",
    "## Student: Dharshan Raj P A\n",
    "## Date: 02-08-2025"
   ]
  },
  {
   "cell_type": "markdown",
   "metadata": {},
   "source": [
    "# Understanding functions in python programming"
   ]
  },
  {
   "cell_type": "markdown",
   "metadata": {},
   "source": [
    "# 1. Passing arguments -- positional arguments"
   ]
  },
  {
   "cell_type": "code",
   "execution_count": 48,
   "metadata": {},
   "outputs": [
    {
     "name": "stdout",
     "output_type": "stream",
     "text": [
      "\n",
      "I have a pet Cat.\n",
      "My Cat's name is Luna.\n"
     ]
    }
   ],
   "source": [
    "# Function to describe a pet with positional arguments\n",
    "# This demonstrates how to pass arguments in a specific order\n",
    "def describePet(animalType, petName):                    \n",
    "    print(f\"\\nI have a pet {animalType}.\")\n",
    "    print(f\"My {animalType}'s name is {petName.title()}.\")\n",
    "    \n",
    "describePet(\"Cat\",\"Luna\")                             # Function call with positional arguments"
   ]
  },
  {
   "cell_type": "markdown",
   "metadata": {},
   "source": [
    "# 2. Multiple function calls with different parameters"
   ]
  },
  {
   "cell_type": "code",
   "execution_count": 49,
   "metadata": {},
   "outputs": [
    {
     "name": "stdout",
     "output_type": "stream",
     "text": [
      "\n",
      "I have a pet Cat.\n",
      "My Cat's name is Luna.\n",
      "\n",
      "I have a pet Bird.\n",
      "My Bird's name is Rio.\n"
     ]
    }
   ],
   "source": [
    "# Demonstrating multiple calls to the same function with different arguments\n",
    "def describePet(animalType, petName):       \n",
    "    print(f\"\\nI have a pet {animalType}.\")\n",
    "    print(f\"My {animalType}'s name is {petName.title()}.\")\n",
    "\n",
    "describePet(\"Cat\",\"Luna\")         # First function call\n",
    "describePet(\"Bird\",\"Rio\")             # Second function call with different parameters"
   ]
  },
  {
   "cell_type": "markdown",
   "metadata": {},
   "source": [
    "# 3. Order matters in positional arguments"
   ]
  },
  {
   "cell_type": "code",
   "execution_count": 50,
   "metadata": {},
   "outputs": [
    {
     "name": "stdout",
     "output_type": "stream",
     "text": [
      "\n",
      "I have a pet Luna.\n",
      "My Luna's name is Cat.\n"
     ]
    }
   ],
   "source": [
    "# Demonstrating how argument order affects function behavior\n",
    "def describePet(animalType, petName):          \n",
    "    print(f\"\\nI have a pet {animalType}.\")\n",
    "    print(f\"My {animalType}'s name is {petName.title()}.\")\n",
    "\n",
    "describePet(\"Luna\",\"Cat\")          # Function call with arguments in wrong order"
   ]
  },
  {
   "cell_type": "markdown",
   "metadata": {},
   "source": [
    "# 4. Keyword arguments for clarity"
   ]
  },
  {
   "cell_type": "code",
   "execution_count": 51,
   "metadata": {},
   "outputs": [
    {
     "name": "stdout",
     "output_type": "stream",
     "text": [
      "\n",
      "I have a pet Cat.\n",
      "My Cat's name is Luna.\n"
     ]
    }
   ],
   "source": [
    "# Using keyword arguments to make function calls more readable\n",
    "def describePet(animalType, petName):                        \n",
    "    print(f\"\\nI have a pet {animalType}.\")\n",
    "    print(f\"My {animalType}'s name is {petName.title()}.\")\n",
    "\n",
    "describePet(animalType = \"Cat\",petName = \"Luna\")        # Function call with keyword arguments"
   ]
  },
  {
   "cell_type": "markdown",
   "metadata": {},
   "source": [
    "# 5. Default values for function parameters"
   ]
  },
  {
   "cell_type": "code",
   "execution_count": 52,
   "metadata": {},
   "outputs": [
    {
     "name": "stdout",
     "output_type": "stream",
     "text": [
      "\n",
      "I have a pet cat.\n",
      "My cat's name is Rio.\n"
     ]
    }
   ],
   "source": [
    "# Demonstrating default parameter values in function definition\n",
    "def describePet(petName, animalType = \"cat\"):   \n",
    "    print(f\"\\nI have a pet {animalType}.\")\n",
    "    print(f\"My {animalType}'s name is {petName.title()}.\")\n",
    "\n",
    "describePet(petName = \"Rio\")                  # Function call using default value"
   ]
  },
  {
   "cell_type": "markdown",
   "metadata": {},
   "source": [
    "# 6. Many ways to call a function with different argument styles"
   ]
  },
  {
   "cell_type": "code",
   "execution_count": 53,
   "metadata": {},
   "outputs": [
    {
     "name": "stdout",
     "output_type": "stream",
     "text": [
      "\n",
      "I have a pet cat.\n",
      "My cat's name is Rio.\n",
      "\n",
      "I have a pet cat.\n",
      "My cat's name is Rio.\n",
      "\n",
      "I have a pet Cat.\n",
      "My Cat's name is Luna.\n",
      "\n",
      "I have a pet Cat.\n",
      "My Cat's name is Luna.\n",
      "\n",
      "I have a pet Luna.\n",
      "My Luna's name is Cat.\n",
      "\n",
      "I have a pet Cat.\n",
      "My Cat's name is Luna.\n"
     ]
    }
   ],
   "source": [
    "# Demonstrating various ways to call the same function\n",
    "describePet(\"Rio\")                                    # Positional argument and default values\n",
    "describePet(petName = \"Rio\")                         # Keyword argument and default values\n",
    "describePet(animalType = \"Cat\",petName = \"Luna\") # Keyword argument (order doesn't matter)\n",
    "describePet(\"Luna\",\"Cat\")                          # Positional argument\n",
    "describePet(\"Cat\",animalType=\"Luna\")              # Positional argument and keyword argument\n",
    "describePet(petName = \"Luna\",animalType = \"Cat\") # Keyword argument"
   ]
  },
  {
   "cell_type": "markdown",
   "metadata": {},
   "source": [
    "# 7. Returning a simple value from function"
   ]
  },
  {
   "cell_type": "code",
   "execution_count": 54,
   "metadata": {},
   "outputs": [
    {
     "name": "stdout",
     "output_type": "stream",
     "text": [
      "Dharshan Raj\n"
     ]
    }
   ],
   "source": [
    "# Function that returns a formatted name string\n",
    "def getFormattedName(firstName, lastName):     \n",
    "    fullName = f\"{firstName} {lastName}\"\n",
    "    return fullName.title()\n",
    "\n",
    "musician = getFormattedName('dharshan','raj')        # Function call and storing result\n",
    "print(musician)              "
   ]
  },
  {
   "cell_type": "markdown",
   "metadata": {},
   "source": [
    "# 8. Making an argument optional with default values"
   ]
  },
  {
   "cell_type": "code",
   "execution_count": 55,
   "metadata": {},
   "outputs": [
    {
     "name": "stdout",
     "output_type": "stream",
     "text": [
      "Dharshan Raj\n",
      "Dharshan P Raj\n"
     ]
    }
   ],
   "source": [
    "# Function with optional middle name parameter\n",
    "def getFormattedName(firstName, lastName, middleName=''):  \n",
    "    if middleName:\n",
    "        fullName = f\"{firstName} {middleName} {lastName}\"\n",
    "    else:\n",
    "        fullName = f\"{firstName} {lastName}\"\n",
    "    \n",
    "    return fullName.title()  \n",
    "\n",
    "musician = getFormattedName('dharshan', 'raj')              # Function call without middle name\n",
    "print(musician)  \n",
    "\n",
    "musician = getFormattedName('dharshan', 'raj', 'p')      # Function call with middle name\n",
    "print(musician)  "
   ]
  },
  {
   "cell_type": "markdown",
   "metadata": {},
   "source": [
    "# 9. Returning a dictionary from function"
   ]
  },
  {
   "cell_type": "code",
   "execution_count": 56,
   "metadata": {},
   "outputs": [
    {
     "name": "stdout",
     "output_type": "stream",
     "text": [
      "{'firstName': 'Dharshan', 'lastName': 'Raj'}\n"
     ]
    }
   ],
   "source": [
    "# Function that returns a dictionary with formatted name information\n",
    "def getFormattedName(firstName, lastName):    \n",
    "    return {\n",
    "        'firstName': firstName.title(),\n",
    "        'lastName': lastName.title()\n",
    "    }\n",
    "\n",
    "musician = getFormattedName('dharshan','raj')       # Function call\n",
    "print(musician)"
   ]
  },
  {
   "cell_type": "markdown",
   "metadata": {},
   "source": [
    "# 10. Passing a list to function"
   ]
  },
  {
   "cell_type": "code",
   "execution_count": 57,
   "metadata": {},
   "outputs": [
    {
     "name": "stdout",
     "output_type": "stream",
     "text": [
      "Hello, dharshan\n",
      "Hello, raj\n",
      "Hello, p\n",
      "Hello, a\n"
     ]
    }
   ],
   "source": [
    "# Function to greet multiple users from a list\n",
    "def greetUser(userNames):             \n",
    "    for name in userNames:\n",
    "        message = f\"Hello, {name}\"\n",
    "        print(message)\n",
    "\n",
    "userNames = ['dharshan','raj','p','a']\n",
    "greetUser(userNames)                  # Function call with list argument"
   ]
  },
  {
   "cell_type": "markdown",
   "metadata": {},
   "source": [
    "# 11. Modifying a list inside the function"
   ]
  },
  {
   "cell_type": "code",
   "execution_count": 58,
   "metadata": {},
   "outputs": [
    {
     "name": "stdout",
     "output_type": "stream",
     "text": [
      "Hello, dharshan\n",
      "Hello, raj\n",
      "Hello, p\n",
      "Hello, a\n",
      "\n",
      "Greeted users:\n",
      "['dharshan', 'raj', 'p', 'a']\n"
     ]
    }
   ],
   "source": [
    "# Function that modifies the original list while processing\n",
    "def greetAndStore(userNames, greetedUsers):     \n",
    "    while userNames:\n",
    "        currentName = userNames.pop(0)                    # Remove from original list\n",
    "        print(f\"Hello, {currentName}\")\n",
    "        greetedUsers.append(currentName)             # Addition to greeted list\n",
    "\n",
    "userNames = ['dharshan', 'raj', 'p', 'a']           # Original list\n",
    "greetedUsers = []\n",
    "greetAndStore(userNames, greetedUsers)          # Function call\n",
    "print(\"\\nGreeted users:\")\n",
    "print(greetedUsers)"
   ]
  },
  {
   "cell_type": "markdown",
   "metadata": {},
   "source": [
    "# 12. Protecting a list from updates using copy"
   ]
  },
  {
   "cell_type": "code",
   "execution_count": 59,
   "metadata": {},
   "outputs": [
    {
     "name": "stdout",
     "output_type": "stream",
     "text": [
      "Hello, dharshan\n",
      "Hello, raj\n",
      "Hello, p\n",
      "Hello, a\n",
      "\n",
      "Original list:\n",
      "['dharshan', 'raj', 'p', 'a']\n",
      "\n",
      "Greeted users:\n",
      "['dharshan', 'raj', 'p', 'a']\n"
     ]
    }
   ],
   "source": [
    "# Demonstrating how to protect original list by passing a copy\n",
    "def greetAndStore(userNames, greetedUsers):   \n",
    "    while userNames:\n",
    "        currentName = userNames.pop(0)  \n",
    "        print(f\"Hello, {currentName}\")\n",
    "        greetedUsers.append(currentName)\n",
    "\n",
    "userNames = ['dharshan', 'raj', 'p', 'a'] \n",
    "greetedUsers = []\n",
    "greetAndStore(userNames[:], greetedUsers)     # Pass a copy of the list\n",
    "print(\"\\nOriginal list:\")\n",
    "print(userNames)\n",
    "print(\"\\nGreeted users:\")\n",
    "print(greetedUsers)  "
   ]
  },
  {
   "cell_type": "markdown",
   "metadata": {},
   "source": [
    "# 13. Passing an arbitrary number of arguments"
   ]
  },
  {
   "cell_type": "code",
   "execution_count": 60,
   "metadata": {},
   "outputs": [
    {
     "name": "stdout",
     "output_type": "stream",
     "text": [
      "('cheese',)\n",
      "('cheese', 'mushrooms', 'green pepper', 'extra cheese')\n"
     ]
    }
   ],
   "source": [
    "# Function that accepts any number of arguments using *args\n",
    "def makePizza(*toppings):        \n",
    "    print(toppings)\n",
    "    \n",
    "makePizza(\"cheese\")           # Function call with one argument\n",
    "makePizza(\"cheese\",\"mushrooms\", \"green pepper\",\"extra cheese\") # Function call with multiple arguments"
   ]
  },
  {
   "cell_type": "markdown",
   "metadata": {},
   "source": [
    "# 14. Mixing positional and arbitrary arguments"
   ]
  },
  {
   "cell_type": "code",
   "execution_count": 61,
   "metadata": {},
   "outputs": [
    {
     "name": "stdout",
     "output_type": "stream",
     "text": [
      "\n",
      " Making a 16-inch pizza with the following toppings\n",
      "('cheese',)\n",
      "\n",
      " Making a 22-inch pizza with the following toppings\n",
      "('cheese', 'mushrooms', 'green pepper', 'extra cheese')\n",
      "('cheese', 'mushrooms', 'green pepper', 'extra cheese')\n",
      "('cheese', 'mushrooms', 'green pepper', 'extra cheese')\n",
      "('cheese', 'mushrooms', 'green pepper', 'extra cheese')\n"
     ]
    }
   ],
   "source": [
    "# Function with both positional and arbitrary arguments\n",
    "def makePizza(pizzaSize, *toppings):               \n",
    "    print(f\"\\n Making a {pizzaSize}-inch pizza with the following toppings\")\n",
    "    for topping in toppings:\n",
    "        print(toppings)\n",
    "    \n",
    "makePizza(16,\"cheese\")                    # Function call\n",
    "makePizza(22,\"cheese\",\"mushrooms\", \"green pepper\",\"extra cheese\")          # Function call"
   ]
  },
  {
   "cell_type": "markdown",
   "metadata": {},
   "source": [
    "# 15. Using arbitrary keyword arguments"
   ]
  },
  {
   "cell_type": "code",
   "execution_count": 62,
   "metadata": {},
   "outputs": [
    {
     "name": "stdout",
     "output_type": "stream",
     "text": [
      "{'location': 'india', 'field': 'computer science', 'firstName': 'dharshan', 'lastName': 'raj'}\n"
     ]
    }
   ],
   "source": [
    "# Function that accepts arbitrary keyword arguments using **kwargs\n",
    "def buildProfile(first, last, **userInfo):   \n",
    "    userInfo['firstName'] = first\n",
    "    userInfo['lastName'] = last\n",
    "    return userInfo\n",
    "\n",
    "userProfile = buildProfile('dharshan','raj',location='india',field='computer science')  \n",
    "print(userProfile)"
   ]
  },
  {
   "cell_type": "markdown",
   "metadata": {},
   "source": [
    "# 16. Storing your function in modules"
   ]
  },
  {
   "cell_type": "code",
   "execution_count": 63,
   "metadata": {},
   "outputs": [],
   "source": [
    "# Installing required packages for notebook import functionality\n",
    "!pip install nbimporter"
   ]
  },
  {
   "cell_type": "code",
   "execution_count": 64,
   "metadata": {},
   "outputs": [],
   "source": [
    "# Installing ipynb package for notebook module support\n",
    "!pip install ipynb"
   ]
  },
  {
   "cell_type": "code",
   "execution_count": 65,
   "metadata": {},
   "outputs": [
    {
     "name": "stdout",
     "output_type": "stream",
     "text": [
      "Testing pizza module functions:\n",
      "\n",
      " Making a 12-inch pizza with the following toppings\n",
      "-cheese\n",
      "-pepperoni\n",
      "Pizza cost breakdown:\n",
      "Base cost (14 inches): $28\n",
      "Toppings (3 items): $4.5\n",
      "Total cost: $32.5\n",
      "\n",
      "Pizza recommendations:\n",
      "- Classic Cheese: 12\" with cheese\n",
      "- Pepperoni Supreme: 14\" with pepperoni, cheese, mushrooms\n",
      "- Vegetarian Delight: 16\" with mushrooms, bell peppers, onions, olives\n",
      "- Meat Lovers: 18\" with pepperoni, sausage, bacon, ham, cheese\n"
     ]
    }
   ],
   "source": [
    "# Pizza module for lab demonstrations\n",
    "# This module contains functions related to pizza making and customization\n",
    "\n",
    "def makePizza(pizzaSize, *toppings):\n",
    "    \"\"\"\n",
    "    Function to create a pizza with specified size and toppings\n",
    "    Args:\n",
    "        pizzaSize (int): Size of the pizza in inches\n",
    "        *toppings: Variable number of topping arguments\n",
    "    \"\"\"\n",
    "    print(f\"\\n Making a {pizzaSize}-inch pizza with the following toppings\")\n",
    "    for topping in toppings:\n",
    "        print(f\"-{topping}\")\n",
    "    \n",
    "    return {\n",
    "        'size': pizzaSize,\n",
    "        'toppings': toppings,\n",
    "        'total_toppings': len(toppings)\n",
    "    }\n",
    "\n",
    "def calculatePizzaCost(pizzaSize, *toppings):\n",
    "    \"\"\"\n",
    "    Calculate the cost of a pizza based on size and toppings\n",
    "    Args:\n",
    "        pizzaSize (int): Size of the pizza in inches\n",
    "        *toppings: Variable number of topping arguments\n",
    "    Returns:\n",
    "        float: Total cost of the pizza\n",
    "    \"\"\"\n",
    "    baseCost = pizzaSize * 2  # Base cost per inch\n",
    "    toppingCost = len(toppings) * 1.5  # Cost per topping\n",
    "    totalCost = baseCost + toppingCost\n",
    "    \n",
    "    print(f\"Pizza cost breakdown:\")\n",
    "    print(f\"Base cost ({pizzaSize} inches): ${baseCost}\")\n",
    "    print(f\"Toppings ({len(toppings)} items): ${toppingCost}\")\n",
    "    print(f\"Total cost: ${totalCost}\")\n",
    "    \n",
    "    return totalCost\n",
    "\n",
    "def getPizzaRecommendations():\n",
    "    \"\"\"\n",
    "    Returns a list of popular pizza combinations\n",
    "    Returns:\n",
    "        list: List of recommended pizza configurations\n",
    "    \"\"\"\n",
    "    recommendations = [\n",
    "        {\"name\": \"Classic Cheese\", \"size\": 12, \"toppings\": [\"cheese\"]},\n",
    "        {\"name\": \"Pepperoni Supreme\", \"size\": 14, \"toppings\": [\"pepperoni\", \"cheese\", \"mushrooms\"]},\n",
    "        {\"name\": \"Vegetarian Delight\", \"size\": 16, \"toppings\": [\"mushrooms\", \"bell peppers\", \"onions\", \"olives\"]},\n",
    "        {\"name\": \"Meat Lovers\", \"size\": 18, \"toppings\": [\"pepperoni\", \"sausage\", \"bacon\", \"ham\", \"cheese\"]}\n",
    "    ]\n",
    "    return recommendations\n",
    "\n",
    "# Example usage and testing\n",
    "if __name__ == \"__main__\":\n",
    "    print(\"Testing pizza module functions:\")\n",
    "    \n",
    "    # Test basic pizza making\n",
    "    makePizza(12, \"cheese\", \"pepperoni\")\n",
    "    \n",
    "    # Test cost calculation\n",
    "    calculatePizzaCost(14, \"cheese\", \"mushrooms\", \"pepperoni\")\n",
    "    \n",
    "    # Test recommendations\n",
    "    recommendations = getPizzaRecommendations()\n",
    "    print(\"\\nPizza recommendations:\")\n",
    "    for rec in recommendations:\n",
    "        print(f\"- {rec['name']}: {rec['size']}\\\" with {', '.join(rec['toppings'])}\")\n"
   ]
  },
  {
   "cell_type": "code",
   "execution_count": 66,
   "metadata": {},
   "outputs": [
    {
     "name": "stdout",
     "output_type": "stream",
     "text": [
      "\n",
      " Making a 16-inch pizza with the following toppings\n",
      "-cheese\n"
     ]
    },
    {
     "data": {
      "text/plain": [
       "{'size': 16, 'toppings': ('cheese',), 'total_toppings': 1}"
      ]
     },
     "execution_count": 66,
     "metadata": {},
     "output_type": "execute_result"
    }
   ],
   "source": [
    "# Importing a function from another notebook file\n",
    "from ipynb.fs.full.pizza import makePizza   \n",
    "makePizza(16,\"cheese\")          # Function call"
   ]
  },
  {
   "cell_type": "code",
   "execution_count": 67,
   "metadata": {},
   "outputs": [
    {
     "name": "stdout",
     "output_type": "stream",
     "text": [
      "\n",
      " Making a 16-inch pizza with the following toppings\n",
      "-cheese\n"
     ]
    },
    {
     "data": {
      "text/plain": [
       "{'size': 16, 'toppings': ('cheese',), 'total_toppings': 1}"
      ]
     },
     "execution_count": 67,
     "metadata": {},
     "output_type": "execute_result"
    }
   ],
   "source": [
    "# Importing a function from another notebook file\n",
    "from ipynb.fs.full.pizza import makePizza   \n",
    "makePizza(16,\"cheese\")          # Function call"
   ]
  },
  {
   "cell_type": "code",
   "execution_count": 68,
   "metadata": {},
   "outputs": [
    {
     "name": "stdout",
     "output_type": "stream",
     "text": [
      "\n",
      " Making a 16-inch pizza with the following toppings\n",
      "-cheese\n"
     ]
    },
    {
     "data": {
      "text/plain": [
       "{'size': 16, 'toppings': ('cheese',), 'total_toppings': 1}"
      ]
     },
     "execution_count": 68,
     "metadata": {},
     "output_type": "execute_result"
    }
   ],
   "source": [
    "# Importing a function from another notebook file\n",
    "from ipynb.fs.full.pizza import makePizza   \n",
    "makePizza(16,\"cheese\")          # Function call"
   ]
  },
  {
   "cell_type": "code",
   "execution_count": 69,
   "metadata": {},
   "outputs": [
    {
     "name": "stdout",
     "output_type": "stream",
     "text": [
      "\n",
      " Making a 16-inch pizza with the following toppings\n",
      "-cheese\n"
     ]
    },
    {
     "data": {
      "text/plain": [
       "{'size': 16, 'toppings': ('cheese',), 'total_toppings': 1}"
      ]
     },
     "execution_count": 69,
     "metadata": {},
     "output_type": "execute_result"
    }
   ],
   "source": [
    "# Importing a function from another notebook file\n",
    "from ipynb.fs.full.pizza import makePizza   \n",
    "makePizza(16,\"cheese\")          # Function call"
   ]
  },
  {
   "cell_type": "markdown",
   "metadata": {},
   "source": [
    "# 17. Importing specific function from module"
   ]
  },
  {
   "cell_type": "code",
   "execution_count": 70,
   "metadata": {},
   "outputs": [
    {
     "name": "stdout",
     "output_type": "stream",
     "text": [
      "\n",
      " Making a 16-inch pizza with the following toppings\n",
      "-cheese\n",
      "\n",
      " Making a 22-inch pizza with the following toppings\n",
      "-cheese\n",
      "-mushrooms\n",
      "-green pepper\n",
      "-extra cheese\n"
     ]
    },
    {
     "data": {
      "text/plain": [
       "{'size': 22,\n",
       " 'toppings': ('cheese', 'mushrooms', 'green pepper', 'extra cheese'),\n",
       " 'total_toppings': 4}"
      ]
     },
     "execution_count": 70,
     "metadata": {},
     "output_type": "execute_result"
    }
   ],
   "source": [
    "# Importing specific function from pizza module\n",
    "from ipynb.fs.full.pizza import makePizza   \n",
    "\n",
    "makePizza(16, \"cheese\")                  # Function call\n",
    "makePizza(22, \"cheese\", \"mushrooms\", \"green pepper\", \"extra cheese\")    # Function call"
   ]
  },
  {
   "cell_type": "markdown",
   "metadata": {},
   "source": [
    "# 18. Giving a function an alias using \"as\""
   ]
  },
  {
   "cell_type": "code",
   "execution_count": 71,
   "metadata": {},
   "outputs": [
    {
     "name": "stdout",
     "output_type": "stream",
     "text": [
      "\n",
      " Making a 12-inch pizza with the following toppings\n",
      "-onions\n",
      "-capsicum\n",
      "\n",
      " Making a 18-inch pizza with the following toppings\n",
      "-mushrooms\n",
      "-paneer\n",
      "-black olives\n"
     ]
    },
    {
     "data": {
      "text/plain": [
       "{'size': 18,\n",
       " 'toppings': ('mushrooms', 'paneer', 'black olives'),\n",
       " 'total_toppings': 3}"
      ]
     },
     "execution_count": 71,
     "metadata": {},
     "output_type": "execute_result"
    }
   ],
   "source": [
    "# Using alias to import function with different name\n",
    "from ipynb.fs.full.pizza import makePizza as mp       \n",
    "\n",
    "mp(12, \"onions\", \"capsicum\")                           # Function call using alias\n",
    "mp(18, \"mushrooms\", \"paneer\", \"black olives\")          # Function call using alias"
   ]
  },
  {
   "cell_type": "markdown",
   "metadata": {},
   "source": [
    "# 19. Giving a module an alias using \"as\""
   ]
  },
  {
   "cell_type": "code",
   "execution_count": 72,
   "metadata": {},
   "outputs": [
    {
     "name": "stdout",
     "output_type": "stream",
     "text": [
      "\n",
      " Making a 14-inch pizza with the following toppings\n",
      "-cheese\n",
      "\n",
      " Making a 18-inch pizza with the following toppings\n",
      "-cheese\n",
      "-mushrooms\n",
      "-capsicum\n"
     ]
    },
    {
     "data": {
      "text/plain": [
       "{'size': 18,\n",
       " 'toppings': ('cheese', 'mushrooms', 'capsicum'),\n",
       " 'total_toppings': 3}"
      ]
     },
     "execution_count": 72,
     "metadata": {},
     "output_type": "execute_result"
    }
   ],
   "source": [
    "# Importing entire module with alias\n",
    "import ipynb.fs.full.pizza as p                                  \n",
    "\n",
    "p.makePizza(14, \"cheese\")                                       # Function call using module alias\n",
    "p.makePizza(18, \"cheese\", \"mushrooms\", \"capsicum\")           # Function call using module alias"
   ]
  },
  {
   "cell_type": "markdown",
   "metadata": {},
   "source": [
    "# 20. Importing all functions in a module"
   ]
  },
  {
   "cell_type": "code",
   "execution_count": 73,
   "metadata": {},
   "outputs": [
    {
     "name": "stdout",
     "output_type": "stream",
     "text": [
      "\n",
      " Making a 12-inch pizza with the following toppings\n",
      "-sweet corn\n",
      "\n",
      " Making a 16-inch pizza with the following toppings\n",
      "-cheese\n",
      "-olives\n",
      "-cheese\n"
     ]
    },
    {
     "data": {
      "text/plain": [
       "{'size': 16, 'toppings': ('cheese', 'olives', 'cheese'), 'total_toppings': 3}"
      ]
     },
     "execution_count": 73,
     "metadata": {},
     "output_type": "execute_result"
    }
   ],
   "source": [
    "# Importing all functions from pizza module\n",
    "from ipynb.fs.full.pizza import *                    \n",
    "\n",
    "makePizza(12, \"sweet corn\")                         # Function call\n",
    "makePizza(16, \"cheese\", \"olives\", \"cheese\")      # Function call"
   ]
  },
  {
   "cell_type": "code",
   "execution_count": 75,
   "metadata": {},
   "outputs": [],
   "source": [
    "# Function definition for pizza making with size and toppings\n",
    "def makePizza(pizzaSize, *toppings):\n",
    "    print(f\"\\n Making a {pizzaSize}-inch pizza with the following toppings\")\n",
    "    for topping in toppings:\n",
    "        print(f\"-{toppings}\")"
   ]
  }
 ],
 "metadata": {
  "kernelspec": {
   "display_name": ".venv",
   "language": "python",
   "name": "python3"
  },
  "language_info": {
   "codemirror_mode": {
    "name": "ipython",
    "version": 3
   },
   "file_extension": ".py",
   "mimetype": "text/x-python",
   "name": "python",
   "nbconvert_exporter": "python",
   "pygments_lexer": "ipython3",
   "version": "3.13.5"
  }
 },
 "nbformat": 4,
 "nbformat_minor": 4
}
