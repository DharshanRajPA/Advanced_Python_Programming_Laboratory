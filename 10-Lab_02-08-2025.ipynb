{
 "cells": [
  {
   "cell_type": "markdown",
   "metadata": {},
   "source": [
    "# Advanced Python Programming - Functions And Methods Operations Prcoessing Lab\n",
    "## Student: Dharshan Raj P A\n",
    "## Date: 02-08-2025"
   ]
  },
  {
   "cell_type": "markdown",
   "metadata": {},
   "source": [
    "# Understanding functions in python programming"
   ]
  },
  {
   "cell_type": "markdown",
   "metadata": {},
   "source": [
    "# 1. Passing arguments -- positional arguments"
   ]
  },
  {
   "cell_type": "code",
   "execution_count": null,
   "metadata": {},
   "outputs": [],
   "source": [
    "# Function to describe a pet with positional arguments\n",
    "# This demonstrates how to pass arguments in a specific order\n",
    "def describePet(animalType, petName):                    \n",
    "    print(f\"\\nI have a pet {animalType}.\")\n",
    "    print(f\"My {animalType}'s name is {petName.title()}.\")\n",
    "    \n",
    "describePet(\"Cat\",\"Luna\")                             # Function call with positional arguments"
   ]
  },
  {
   "cell_type": "markdown",
   "metadata": {},
   "source": [
    "# 2. Multiple function calls with different parameters"
   ]
  },
  {
   "cell_type": "code",
   "execution_count": null,
   "metadata": {},
   "outputs": [],
   "source": [
    "# Demonstrating multiple calls to the same function with different arguments\n",
    "def describePet(animalType, petName):       \n",
    "    print(f\"\\nI have a pet {animalType}.\")\n",
    "    print(f\"My {animalType}'s name is {petName.title()}.\")\n",
    "\n",
    "describePet(\"Cat\",\"Luna\")         # First function call\n",
    "describePet(\"Bird\",\"Rio\")             # Second function call with different parameters"
   ]
  },
  {
   "cell_type": "markdown",
   "metadata": {},
   "source": [
    "# 3. Order matters in positional arguments"
   ]
  },
  {
   "cell_type": "code",
   "execution_count": null,
   "metadata": {},
   "outputs": [],
   "source": [
    "# Demonstrating how argument order affects function behavior\n",
    "def describePet(animalType, petName):          \n",
    "    print(f\"\\nI have a pet {animalType}.\")\n",
    "    print(f\"My {animalType}'s name is {petName.title()}.\")\n",
    "\n",
    "describePet(\"Luna\",\"Cat\")          # Function call with arguments in wrong order"
   ]
  },
  {
   "cell_type": "markdown",
   "metadata": {},
   "source": [
    "# 4. Keyword arguments for clarity"
   ]
  },
  {
   "cell_type": "code",
   "execution_count": null,
   "metadata": {},
   "outputs": [],
   "source": [
    "# Using keyword arguments to make function calls more readable\n",
    "def describePet(animalType, petName):                        \n",
    "    print(f\"\\nI have a pet {animalType}.\")\n",
    "    print(f\"My {animalType}'s name is {petName.title()}.\")\n",
    "\n",
    "describePet(animalType = \"Cat\",petName = \"Luna\")        # Function call with keyword arguments"
   ]
  },
  {
   "cell_type": "markdown",
   "metadata": {},
   "source": [
    "# 5. Default values for function parameters"
   ]
  },
  {
   "cell_type": "code",
   "execution_count": null,
   "metadata": {},
   "outputs": [],
   "source": [
    "# Demonstrating default parameter values in function definition\n",
    "def describePet(petName, animalType = \"cat\"):   \n",
    "    print(f\"\\nI have a pet {animalType}.\")\n",
    "    print(f\"My {animalType}'s name is {petName.title()}.\")\n",
    "\n",
    "describePet(petName = \"Rio\")                  # Function call using default value"
   ]
  },
  {
   "cell_type": "markdown",
   "metadata": {},
   "source": [
    "# 6. Many ways to call a function with different argument styles"
   ]
  },
  {
   "cell_type": "code",
   "execution_count": null,
   "metadata": {},
   "outputs": [],
   "source": [
    "# Demonstrating various ways to call the same function\n",
    "describePet(\"Rio\")                                    # Positional argument and default values\n",
    "describePet(petName = \"Rio\")                         # Keyword argument and default values\n",
    "describePet(animalType = \"Cat\",petName = \"Luna\") # Keyword argument (order doesn't matter)\n",
    "describePet(\"Luna\",\"Cat\")                          # Positional argument\n",
    "describePet(\"Cat\",animalType=\"Luna\")              # Positional argument and keyword argument\n",
    "describePet(petName = \"Luna\",animalType = \"Cat\") # Keyword argument"
   ]
  },
  {
   "cell_type": "markdown",
   "metadata": {},
   "source": [
    "# 7. Returning a simple value from function"
   ]
  },
  {
   "cell_type": "code",
   "execution_count": null,
   "metadata": {},
   "outputs": [],
   "source": [
    "# Function that returns a formatted name string\n",
    "def getFormattedName(firstName, lastName):     \n",
    "    fullName = f\"{firstName} {lastName}\"\n",
    "    return fullName.title()\n",
    "\n",
    "musician = getFormattedName('dharshan','raj')        # Function call and storing result\n",
    "print(musician)              "
   ]
  },
  {
   "cell_type": "markdown",
   "metadata": {},
   "source": [
    "# 8. Making an argument optional with default values"
   ]
  },
  {
   "cell_type": "code",
   "execution_count": null,
   "metadata": {},
   "outputs": [],
   "source": [
    "# Function with optional middle name parameter\n",
    "def getFormattedName(firstName, lastName, middleName=''):  \n",
    "    if middleName:\n",
    "        fullName = f\"{firstName} {middleName} {lastName}\"\n",
    "    else:\n",
    "        fullName = f\"{firstName} {lastName}\"\n",
    "    \n",
    "    return fullName.title()  \n",
    "\n",
    "musician = getFormattedName('dharshan', 'raj')              # Function call without middle name\n",
    "print(musician)  \n",
    "\n",
    "musician = getFormattedName('dharshan', 'raj', 'p')      # Function call with middle name\n",
    "print(musician)  "
   ]
  },
  {
   "cell_type": "markdown",
   "metadata": {},
   "source": [
    "# 9. Returning a dictionary from function"
   ]
  },
  {
   "cell_type": "code",
   "execution_count": null,
   "metadata": {},
   "outputs": [],
   "source": [
    "# Function that returns a dictionary with formatted name information\n",
    "def getFormattedName(firstName, lastName):    \n",
    "    return {\n",
    "        'firstName': firstName.title(),\n",
    "        'lastName': lastName.title()\n",
    "    }\n",
    "\n",
    "musician = getFormattedName('dharshan','raj')       # Function call\n",
    "print(musician)"
   ]
  },
  {
   "cell_type": "markdown",
   "metadata": {},
   "source": [
    "# 10. Passing a list to function"
   ]
  },
  {
   "cell_type": "code",
   "execution_count": null,
   "metadata": {},
   "outputs": [],
   "source": [
    "# Function to greet multiple users from a list\n",
    "def greetUser(userNames):             \n",
    "    for name in userNames:\n",
    "        message = f\"Hello, {name}\"\n",
    "        print(message)\n",
    "\n",
    "userNames = ['dharshan','raj','p','a']\n",
    "greetUser(userNames)                  # Function call with list argument"
   ]
  },
  {
   "cell_type": "markdown",
   "metadata": {},
   "source": [
    "# 11. Modifying a list inside the function"
   ]
  },
  {
   "cell_type": "code",
   "execution_count": null,
   "metadata": {},
   "outputs": [],
   "source": [
    "# Function that modifies the original list while processing\n",
    "def greetAndStore(userNames, greetedUsers):     \n",
    "    while userNames:\n",
    "        currentName = userNames.pop(0)                    # Remove from original list\n",
    "        print(f\"Hello, {currentName}\")\n",
    "        greetedUsers.append(currentName)             # Addition to greeted list\n",
    "\n",
    "userNames = ['dharshan', 'raj', 'p', 'a']           # Original list\n",
    "greetedUsers = []\n",
    "greetAndStore(userNames, greetedUsers)          # Function call\n",
    "print(\"\\nGreeted users:\")\n",
    "print(greetedUsers)"
   ]
  },
  {
   "cell_type": "markdown",
   "metadata": {},
   "source": [
    "# 12. Protecting a list from updates using copy"
   ]
  },
  {
   "cell_type": "code",
   "execution_count": null,
   "metadata": {},
   "outputs": [],
   "source": [
    "# Demonstrating how to protect original list by passing a copy\n",
    "def greetAndStore(userNames, greetedUsers):   \n",
    "    while userNames:\n",
    "        currentName = userNames.pop(0)  \n",
    "        print(f\"Hello, {currentName}\")\n",
    "        greetedUsers.append(currentName)\n",
    "\n",
    "userNames = ['dharshan', 'raj', 'p', 'a'] \n",
    "greetedUsers = []\n",
    "greetAndStore(userNames[:], greetedUsers)     # Pass a copy of the list\n",
    "print(\"\\nOriginal list:\")\n",
    "print(userNames)\n",
    "print(\"\\nGreeted users:\")\n",
    "print(greetedUsers)  "
   ]
  },
  {
   "cell_type": "markdown",
   "metadata": {},
   "source": [
    "# 13. Passing an arbitrary number of arguments"
   ]
  },
  {
   "cell_type": "code",
   "execution_count": null,
   "metadata": {},
   "outputs": [],
   "source": [
    "# Function that accepts any number of arguments using *args\n",
    "def makePizza(*toppings):        \n",
    "    print(toppings)\n",
    "    \n",
    "makePizza(\"cheese\")           # Function call with one argument\n",
    "makePizza(\"cheese\",\"mushrooms\", \"green pepper\",\"extra cheese\") # Function call with multiple arguments"
   ]
  },
  {
   "cell_type": "markdown",
   "metadata": {},
   "source": [
    "# 14. Mixing positional and arbitrary arguments"
   ]
  },
  {
   "cell_type": "code",
   "execution_count": null,
   "metadata": {},
   "outputs": [],
   "source": [
    "# Function with both positional and arbitrary arguments\n",
    "def makePizza(pizzaSize, *toppings):               \n",
    "    print(f\"\\n Making a {pizzaSize}-inch pizza with the following toppings\")\n",
    "    for topping in toppings:\n",
    "        print(toppings)\n",
    "    \n",
    "makePizza(16,\"cheese\")                    # Function call\n",
    "makePizza(22,\"cheese\",\"mushrooms\", \"green pepper\",\"extra cheese\")          # Function call"
   ]
  },
  {
   "cell_type": "markdown",
   "metadata": {},
   "source": [
    "# 15. Using arbitrary keyword arguments"
   ]
  },
  {
   "cell_type": "code",
   "execution_count": null,
   "metadata": {},
   "outputs": [],
   "source": [
    "# Function that accepts arbitrary keyword arguments using **kwargs\n",
    "def buildProfile(first, last, **userInfo):   \n",
    "    userInfo['firstName'] = first\n",
    "    userInfo['lastName'] = last\n",
    "    return userInfo\n",
    "\n",
    "userProfile = buildProfile('dharshan','raj',location='india',field='computer science')  \n",
    "print(userProfile)"
   ]
  },
  {
   "cell_type": "markdown",
   "metadata": {},
   "source": [
    "# 16. Storing your function in modules"
   ]
  },
  {
   "cell_type": "code",
   "execution_count": null,
   "metadata": {},
   "outputs": [],
   "source": [
    "# Installing required packages for notebook import functionality\n",
    "!pip install nbimporter"
   ]
  },
  {
   "cell_type": "code",
   "execution_count": null,
   "metadata": {},
   "outputs": [],
   "source": [
    "# Installing ipynb package for notebook module support\n",
    "!pip install ipynb"
   ]
  },
  {
   "cell_type": "code",
   "execution_count": null,
   "metadata": {},
   "outputs": [],
   "source": [
    "# Importing a function from another notebook file\n",
    "from ipynb.fs.full.pizza import makePizza   \n",
    "makePizza(16,\"cheese\")          # Function call"
   ]
  },
  {
   "cell_type": "markdown",
   "metadata": {},
   "source": [
    "# 17. Importing specific function from module"
   ]
  },
  {
   "cell_type": "code",
   "execution_count": null,
   "metadata": {},
   "outputs": [],
   "source": [
    "# Importing specific function from pizza module\n",
    "from ipynb.fs.full.pizza import makePizza   \n",
    "\n",
    "makePizza(16, \"cheese\")                  # Function call\n",
    "makePizza(22, \"cheese\", \"mushrooms\", \"green pepper\", \"extra cheese\")    # Function call"
   ]
  },
  {
   "cell_type": "markdown",
   "metadata": {},
   "source": [
    "# 18. Giving a function an alias using \"as\""
   ]
  },
  {
   "cell_type": "code",
   "execution_count": null,
   "metadata": {},
   "outputs": [],
   "source": [
    "# Using alias to import function with different name\n",
    "from ipynb.fs.full.pizza import makePizza as mp       \n",
    "\n",
    "mp(12, \"onions\", \"capsicum\")                           # Function call using alias\n",
    "mp(18, \"mushrooms\", \"paneer\", \"black olives\")          # Function call using alias"
   ]
  },
  {
   "cell_type": "markdown",
   "metadata": {},
   "source": [
    "# 19. Giving a module an alias using \"as\""
   ]
  },
  {
   "cell_type": "code",
   "execution_count": null,
   "metadata": {},
   "outputs": [],
   "source": [
    "# Importing entire module with alias\n",
    "import ipynb.fs.full.pizza as p                                  \n",
    "\n",
    "p.makePizza(14, \"cheese\")                                       # Function call using module alias\n",
    "p.makePizza(18, \"cheese\", \"mushrooms\", \"capsicum\")           # Function call using module alias"
   ]
  },
  {
   "cell_type": "markdown",
   "metadata": {},
   "source": [
    "# 20. Importing all functions in a module"
   ]
  },
  {
   "cell_type": "code",
   "execution_count": null,
   "metadata": {},
   "outputs": [],
   "source": [
    "# Importing all functions from pizza module\n",
    "from ipynb.fs.full.pizza import *                    \n",
    "\n",
    "makePizza(12, \"sweet corn\")                         # Function call\n",
    "makePizza(16, \"cheese\", \"olives\", \"cheese\")      # Function call"
   ]
  },
  {
   "cell_type": "code",
   "execution_count": null,
   "metadata": {},
   "outputs": [],
   "source": [
    "# Function definition for pizza making with size and toppings\n",
    "def makePizza(pizzaSize, *toppings):\n",
    "    print(f\"\\n Making a {pizzaSize}-inch pizza with the following toppings\")\n",
    "    for topping in toppings:\n",
    "        print(f\"-{toppings}\")```"
   ]
  }
 ],
 "metadata": {
  "kernelspec": {
   "display_name": "Python 3",
   "language": "python",
   "name": "python3"
  },
  "language_info": {
   "codemirror_mode": {
    "name": "ipython",
    "version": 3
   },
   "file_extension": ".py",
   "mimetype": "text/x-python",
   "name": "python",
   "nbconvert_exporter": "python",
   "pygments_lexer": "ipython3",
   "version": "3.8.5"
  }
 },
 "nbformat": 4,
 "nbformat_minor": 4
}
