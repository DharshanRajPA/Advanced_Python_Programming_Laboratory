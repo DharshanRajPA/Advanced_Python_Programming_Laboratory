{
 "cells": [
  {
   "cell_type": "markdown",
   "metadata": {},
   "source": [
    "# Advanced Python Programming (APP)\n",
    "## Course Code (CC) - CSI - 3007\n",
    "### Laboratory (Lab)\n",
    "#### Digital Assignment - 02\n",
    "\n",
    "## Project Group Team Activity Work Lab\n",
    "### Custom User Own Client Customer Individual Synthetic Dataset  \n",
    "#### Python Programming Coding Scripting Computer Science Language\n",
    "#### Jupyter Notebook Core Main Crux Framework Library Module Binary Package  "
   ]
  },
  {
   "cell_type": "markdown",
   "metadata": {},
   "source": [
    "# Advanced Python Programming - Project Group Team Activity Work Lab\n",
    "## Student: Dharshan Raj P A\n",
    "## Register Roll Number ID : 22MIC0073\n",
    "## Date: 01-08-2025"
   ]
  },
  {
   "cell_type": "markdown",
   "metadata": {},
   "source": [
    "# Legal sector case management system"
   ]
  },
  {
   "cell_type": "code",
   "execution_count": 1,
   "metadata": {},
   "outputs": [],
   "source": [
    "# 1. Create & initialize nested dictionary with list values for legal case management\n",
    "# This dictionary stores information about lawyers and their clients with case details\n",
    "\n",
    "legalCases = {\n",
    "    \"Attorney 1\": {\n",
    "        \"Client 1\": [\"CaseID201\", \"2025-01-15\", \"Civil\", \"Open\"],\n",
    "        \"Client 2\": [\"CaseID202\", \"2025-02-10\", \"Criminal\", \"Closed\"]\n",
    "    },\n",
    "    \"Attorney 2\": {\n",
    "        \"Client 1\": [\"CaseID203\", \"2025-03-05\", \"Corporate\", \"Open\"]\n",
    "    },\n",
    "    \"Attorney 3\": {\n",
    "        \"Client 1\": [\"CaseID204\", \"2025-04-12\", \"Family\", \"Pending\"],\n",
    "        \"Client 2\": [\"CaseID205\", \"2025-05-18\", \"Civil\", \"Open\"]\n",
    "    },\n",
    "    \"Attorney 4\": {\n",
    "        \"Client 1\": [\"CaseID206\", \"2025-06-22\", \"Criminal\", \"Closed\"]\n",
    "    },\n",
    "    \"Attorney 5\": {\n",
    "        \"Client 1\": [\"CaseID207\", \"2025-07-29\", \"Corporate\", \"Open\"]\n",
    "    }\n",
    "}"
   ]
  },
  {
   "cell_type": "code",
   "execution_count": 2,
   "metadata": {},
   "outputs": [
    {
     "name": "stdout",
     "output_type": "stream",
     "text": [
      "Specific retrieval example\n",
      "Attorney 1 - Client 1: ['CaseID201', '2025-01-15', 'Civil', 'Open']\n"
     ]
    }
   ],
   "source": [
    "# 2. Retrieve specific values for a particular attorney and client\n",
    "# This demonstrates safe dictionary access using .get() method to avoid KeyError\n",
    "\n",
    "print(\"Specific retrieval example\")\n",
    "attorneyName = \"Attorney 1\"\n",
    "clientName = \"Client 1\"\n",
    "# Using .get() method to safely access nested dictionary values\n",
    "clientData = legalCases.get(attorneyName, {}).get(clientName, \"Value not found\")\n",
    "print(f\"{attorneyName} - {clientName}: {clientData}\")"
   ]
  },
  {
   "cell_type": "code",
   "execution_count": 3,
   "metadata": {},
   "outputs": [
    {
     "name": "stdout",
     "output_type": "stream",
     "text": [
      "\n",
      "Looping through entire dataset\n",
      "\n",
      "Attorney 1:\n",
      "  Client 1: ['CaseID201', '2025-01-15', 'Civil', 'Open']\n",
      "  Client 2: ['CaseID202', '2025-02-10', 'Criminal', 'Closed']\n",
      "\n",
      "Attorney 2:\n",
      "  Client 1: ['CaseID203', '2025-03-05', 'Corporate', 'Open']\n",
      "\n",
      "Attorney 3:\n",
      "  Client 1: ['CaseID204', '2025-04-12', 'Family', 'Pending']\n",
      "  Client 2: ['CaseID205', '2025-05-18', 'Civil', 'Open']\n",
      "\n",
      "Attorney 4:\n",
      "  Client 1: ['CaseID206', '2025-06-22', 'Criminal', 'Closed']\n",
      "\n",
      "Attorney 5:\n",
      "  Client 1: ['CaseID207', '2025-07-29', 'Corporate', 'Open']\n"
     ]
    }
   ],
   "source": [
    "# 3. Loop through entire dataset to display all cases\n",
    "# This demonstrates iteration through nested dictionary structure\n",
    "print(\"\\nLooping through entire dataset\")\n",
    "for attorney, clients in legalCases.items():\n",
    "    print(f\"\\n{attorney}:\")\n",
    "    for client, details in clients.items():\n",
    "        print(f\"  {client}: {details}\")"
   ]
  },
  {
   "cell_type": "code",
   "execution_count": 4,
   "metadata": {},
   "outputs": [
    {
     "name": "stdout",
     "output_type": "stream",
     "text": [
      "\n",
      "Safe retrieval example\n",
      "Lookup for Attorney 10 - Client 3: Value not found\n"
     ]
    }
   ],
   "source": [
    "# 4. Safe retrieval example for unknown values\n",
    "# This demonstrates error handling when accessing non-existent keys\n",
    "print(\"\\nSafe retrieval example\")\n",
    "unknownAttorney = \"Attorney 10\"\n",
    "unknownClient = \"Client 3\"\n",
    "result = legalCases.get(unknownAttorney, {}).get(unknownClient, \"Value not found\")\n",
    "print(f\"Lookup for {unknownAttorney} - {unknownClient}: {result}\")"
   ]
  },
  {
   "cell_type": "code",
   "execution_count": 5,
   "metadata": {},
   "outputs": [
    {
     "name": "stdout",
     "output_type": "stream",
     "text": [
      "\n",
      "Appending new client\n",
      "Updated Attorney 2: {'Client 1': ['CaseID203', '2025-03-05', 'Corporate', 'Open'], 'Client 2': ['CaseID208', '2025-08-05', 'Family', 'Open']}\n"
     ]
    }
   ],
   "source": [
    "# 5. Append to dictionary - add new client to an existing attorney\n",
    "# This demonstrates how to add new key-value pairs to nested dictionaries\n",
    "print(\"\\nAppending new client\")\n",
    "legalCases[\"Attorney 2\"][\"Client 2\"] = [\"CaseID208\", \"2025-08-05\", \"Family\", \"Open\"]\n",
    "print(f\"Updated Attorney 2: {legalCases['Attorney 2']}\")"
   ]
  },
  {
   "cell_type": "code",
   "execution_count": 6,
   "metadata": {},
   "outputs": [
    {
     "name": "stdout",
     "output_type": "stream",
     "text": [
      "\n",
      "Sequence unpacking demonstration\n",
      "Attorney 1 handles 2 clients.\n",
      "Attorney 2 handles 2 clients.\n",
      "Attorney 3 handles 2 clients.\n",
      "Attorney 4 handles 1 clients.\n",
      "Attorney 5 handles 1 clients.\n"
     ]
    }
   ],
   "source": [
    "# 6. Sequence unpacking demonstration with keys and values\n",
    "# This shows how to unpack dictionary items during iteration\n",
    "print(\"\\nSequence unpacking demonstration\")\n",
    "for attorney, clients in legalCases.items():\n",
    "    print(f\"{attorney} handles {len(clients)} clients.\")"
   ]
  },
  {
   "cell_type": "code",
   "execution_count": 7,
   "metadata": {},
   "outputs": [
    {
     "name": "stdout",
     "output_type": "stream",
     "text": [
      "\n",
      "Merging dictionaries\n"
     ]
    }
   ],
   "source": [
    "# 7. Collection of dictionaries as one dictionary\n",
    "# This demonstrates merging multiple dictionaries into one\n",
    "print(\"\\nMerging dictionaries\")\n",
    "additionalCases = {\n",
    "    \"Attorney 6\": {\n",
    "        \"Client 1\": [\"CaseID209\", \"2025-08-10\", \"Civil\", \"Pending\"]\n",
    "    }\n",
    "}"
   ]
  },
  {
   "cell_type": "code",
   "execution_count": 8,
   "metadata": {},
   "outputs": [
    {
     "name": "stdout",
     "output_type": "stream",
     "text": [
      "After merging additional cases:\n",
      "Attorney 1\n",
      "Attorney 2\n",
      "Attorney 3\n",
      "Attorney 4\n",
      "Attorney 5\n",
      "Attorney 6\n"
     ]
    }
   ],
   "source": [
    "# Merge additional cases into main dictionary\n",
    "# This shows how to combine dictionaries using update() method\n",
    "legalCases.update(additionalCases)\n",
    "print(\"After merging additional cases:\")\n",
    "for attorney in legalCases:\n",
    "    print(attorney)"
   ]
  }
 ],
 "metadata": {
  "kernelspec": {
   "display_name": ".venv",
   "language": "python",
   "name": "python3"
  },
  "language_info": {
   "codemirror_mode": {
    "name": "ipython",
    "version": 3
   },
   "file_extension": ".py",
   "mimetype": "text/x-python",
   "name": "python",
   "nbconvert_exporter": "python",
   "pygments_lexer": "ipython3",
   "version": "3.13.5"
  }
 },
 "nbformat": 4,
 "nbformat_minor": 4
}
