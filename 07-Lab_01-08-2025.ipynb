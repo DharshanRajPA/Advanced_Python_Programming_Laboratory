{
 "cells": [
  {
   "cell_type": "markdown",
   "metadata": {},
   "source": [
    "# Advanced Python Programming (APP)\n",
    "## Course Code (CC) - CSI - 3007\n",
    "### Laboratory (Lab)\n",
    "#### Digital Assignment - 02\n",
    "\n",
    "## Sequence UnPacking in All Collections Operations Lab\n",
    "### Custom User Own Client Customer Individual Synthetic Dataset  \n",
    "#### Python Programming Coding Scripting Computer Science Language\n",
    "#### Jupyter Notebook Core Main Crux Framework Library Module Binary Package  "
   ]
  },
  {
   "cell_type": "markdown",
   "metadata": {},
   "source": [
    "# Advanced Python Programming - Sequence UnPacking in All Collections Operations Lab\n",
    "## Student: Dharshan Raj P A\n",
    "## Register Roll Number ID : 22MIC0073\n",
    "## Date: 29-07-2025"
   ]
  },
  {
   "cell_type": "markdown",
   "metadata": {},
   "source": [
    "# Sequence unpacking in python"
   ]
  },
  {
   "cell_type": "code",
   "execution_count": 1,
   "metadata": {},
   "outputs": [
    {
     "name": "stdout",
     "output_type": "stream",
     "text": [
      "1\n",
      "3\n",
      "5\n",
      "7\n"
     ]
    }
   ],
   "source": [
    "# Creating a list of odd numbers for demonstration\n",
    "oddNumbers = [1, 3, 5, 7]    \n",
    "# Unpacking the sequence into individual variables\n",
    "firstNumber, secondNumber, thirdNumber, fourthNumber = oddNumbers         \n",
    "print(firstNumber)\n",
    "print(secondNumber)\n",
    "print(thirdNumber)\n",
    "print(fourthNumber)"
   ]
  },
  {
   "cell_type": "code",
   "execution_count": 2,
   "metadata": {},
   "outputs": [
    {
     "name": "stdout",
     "output_type": "stream",
     "text": [
      "1\n",
      "3\n",
      "[5, 7]\n"
     ]
    }
   ],
   "source": [
    "# Demonstrating extended unpacking with asterisk operator\n",
    "firstValue, secondValue, *remainingValues = oddNumbers\n",
    "print(firstValue)\n",
    "print(secondValue)\n",
    "print(remainingValues)            # This will print all remaining elements after the second element as a list"
   ]
  },
  {
   "cell_type": "code",
   "execution_count": 3,
   "metadata": {},
   "outputs": [
    {
     "name": "stdout",
     "output_type": "stream",
     "text": [
      "3\n",
      "[5, 7]\n",
      "9\n"
     ]
    }
   ],
   "source": [
    "# Another example of extended unpacking with different pattern\n",
    "firstElement, *middleElements, lastElement = [3, 5, 7, 9]\n",
    "print(firstElement)\n",
    "print(middleElements)            # This will collect 2 middle elements into a list\n",
    "print(lastElement)"
   ]
  },
  {
   "cell_type": "code",
   "execution_count": 4,
   "metadata": {},
   "outputs": [
    {
     "name": "stdout",
     "output_type": "stream",
     "text": [
      "16\n"
     ]
    }
   ],
   "source": [
    "# Function to demonstrate sequence unpacking in function calls\n",
    "def calculateSum(firstValue, secondValue, thirdValue, fourthValue):\n",
    "    return(firstValue + secondValue + thirdValue + fourthValue)\n",
    "print(calculateSum(*oddNumbers))                    # Sequence unpacking and then performing addition operation"
   ]
  },
  {
   "cell_type": "code",
   "execution_count": 5,
   "metadata": {},
   "outputs": [
    {
     "name": "stdout",
     "output_type": "stream",
     "text": [
      "Hello, dharshan\n",
      "Hello, raj\n",
      "Hello, p\n",
      "Hello, a\n"
     ]
    }
   ],
   "source": [
    "# Function to demonstrate arbitrary positional arguments\n",
    "def greetUsers(*userNames):                # Print a greeting for each name using arbitrary arguments\n",
    "    for currentName in userNames:\n",
    "        print(f\"Hello, {currentName}\")  \n",
    "\n",
    "greetUsers(\"dharshan\", \"raj\", \"p\", \"a\")    # Calling the function and passing the required arguments"
   ]
  },
  {
   "cell_type": "code",
   "execution_count": 6,
   "metadata": {},
   "outputs": [
    {
     "name": "stdout",
     "output_type": "stream",
     "text": [
      "courseCode : csi3002\n",
      "courseName : python programming\n",
      "classroom : sjt317\n"
     ]
    }
   ],
   "source": [
    "# Function to demonstrate arbitrary keyword arguments\n",
    "def displayInformation(**informationDict):           # ** represents it will accept any number of key value pairs\n",
    "    for key, value in informationDict.items():     # Iterate through the key value pairs\n",
    "        print(f\"{key} : {value}\")\n",
    "\n",
    "# Dictionary with course information for dharshan raj p a\n",
    "courseInfo = { \n",
    "    'courseCode' : 'csi3002',        # Dictionary with 3 key value pairs\n",
    "    'courseName' : 'python programming',\n",
    "    'classroom' : 'sjt317'\n",
    "}\n",
    "displayInformation(**courseInfo)                 # Calling the function with unpacked dictionary"
   ]
  }
 ],
 "metadata": {
  "kernelspec": {
   "display_name": ".venv",
   "language": "python",
   "name": "python3"
  },
  "language_info": {
   "codemirror_mode": {
    "name": "ipython",
    "version": 3
   },
   "file_extension": ".py",
   "mimetype": "text/x-python",
   "name": "python",
   "nbconvert_exporter": "python",
   "pygments_lexer": "ipython3",
   "version": "3.13.5"
  }
 },
 "nbformat": 4,
 "nbformat_minor": 4
}
