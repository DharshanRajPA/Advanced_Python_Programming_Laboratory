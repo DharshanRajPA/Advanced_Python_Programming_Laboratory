{
 "cells": [
  {
   "cell_type": "markdown",
   "id": "374a3333",
   "metadata": {},
   "source": [
    "# Advanced Python Programming (APP)\n",
    "## Course Code (CC) - CSI - 3007\n",
    "### Laboratory (Lab)\n",
    "#### Digital Assignment - 03\n",
    "\n",
    "## Class variables in object-oriented programming Lab\n",
    "### Custom User Own Client Customer Individual Synthetic Dataset  \n",
    "#### Python Programming Coding Scripting Computer Science Language\n",
    "#### Jupyter Notebook Core Main Crux Framework Library Module Binary Package  "
   ]
  },
  {
   "cell_type": "markdown",
   "id": "477a7862-7432-4a46-b5b0-a814b237cb24",
   "metadata": {},
   "source": [
    "# Class Variables In Object Oriented Programming\n",
    "## Student: Dharshan Raj P A\n",
    "## Register Roll Number ID: 22MIC0073\n",
    "## Date: 12-08-2025"
   ]
  },
  {
   "cell_type": "code",
   "execution_count": null,
   "id": "a8788bb5-772c-4de6-bc5f-d0d927acc42c",
   "metadata": {},
   "outputs": [],
   "source": [
    "class EmployeeClass:\n",
    "    NumberOfEmployees = 0\n",
    "    RaiseAmount = 1.04\n",
    "\n",
    "    def __init__(self, FirstName, LastName, Salary):\n",
    "        self.FirstName = FirstName\n",
    "        self.LastName = LastName\n",
    "        self.Salary = Salary\n",
    "        EmployeeClass.NumberOfEmployees += 1\n",
    "\n",
    "    def ApplyRaise(self):\n",
    "        self.Salary = int(self.Salary * EmployeeClass.RaiseAmount)"
   ]
  },
  {
   "cell_type": "code",
   "execution_count": null,
   "id": "acf6f108-60c8-49f5-9bae-e669af2e9685",
   "metadata": {},
   "outputs": [
    {
     "name": "stdout",
     "output_type": "stream",
     "text": [
      "0\n"
     ]
    }
   ],
   "source": [
    "print(EmployeeClass.NumberOfEmployees)      # Before creating the instance"
   ]
  },
  {
   "cell_type": "code",
   "execution_count": null,
   "id": "2e4a41b7-1097-40a5-9890-c8d071a9d288",
   "metadata": {},
   "outputs": [],
   "source": [
    "Employee1 = EmployeeClass(\"Alex\",\"Smith\",\"45000\")   # Instance is created\n",
    "Employee2 = EmployeeClass(\"Sarah\",\"Johnson\",\"38000\")"
   ]
  },
  {
   "cell_type": "code",
   "execution_count": null,
   "id": "015100e3-3c36-4a72-a73e-9cd686f618c1",
   "metadata": {},
   "outputs": [
    {
     "name": "stdout",
     "output_type": "stream",
     "text": [
      "2\n"
     ]
    }
   ],
   "source": [
    "print(EmployeeClass.NumberOfEmployees)    # With instance"
   ]
  },
  {
   "cell_type": "code",
   "execution_count": null,
   "id": "500cab96-f998-4d6a-b361-a0e78c8e033e",
   "metadata": {},
   "outputs": [
    {
     "name": "stdout",
     "output_type": "stream",
     "text": [
      "{'__module__': '__main__', 'numberOfEmployees': 2, 'raiseAmount': 1.04, '__init__': <function EmployeeClass.__init__ at 0x000001EDF2349B20>, 'applyRaise': <function EmployeeClass.applyRaise at 0x000001EDF2349E40>, '__dict__': <attribute '__dict__' of 'EmployeeClass' objects>, '__weakref__': <attribute '__weakref__' of 'EmployeeClass' objects>, '__doc__': None}\n"
     ]
    }
   ],
   "source": [
    "print(EmployeeClass.__dict__)    # Class namespace"
   ]
  },
  {
   "cell_type": "code",
   "execution_count": null,
   "id": "bf06338d-0f28-4d94-ab43-ea3429313c95",
   "metadata": {},
   "outputs": [
    {
     "name": "stdout",
     "output_type": "stream",
     "text": [
      "{'firstName': 'alex', 'lastName': 'smith', 'salary': '45000'}\n"
     ]
    }
   ],
   "source": [
    "print(Employee1.__dict__)     # Instance namespace before accessing the variable"
   ]
  },
  {
   "cell_type": "code",
   "execution_count": null,
   "id": "fac5f6a1-b365-4333-af12-0b9824b64433",
   "metadata": {},
   "outputs": [],
   "source": [
    "Employee1.RaiseAmount = 1.05"
   ]
  },
  {
   "cell_type": "code",
   "execution_count": null,
   "id": "1c8e06a4-5351-422d-a470-96f32cef9ad8",
   "metadata": {},
   "outputs": [
    {
     "name": "stdout",
     "output_type": "stream",
     "text": [
      "{'firstName': 'alex', 'lastName': 'smith', 'salary': '45000', 'raiseAmount': 1.05}\n"
     ]
    }
   ],
   "source": [
    "print(Employee1.__dict__)     # Instance namespace after accessing the class variable"
   ]
  },
  {
   "cell_type": "code",
   "execution_count": null,
   "id": "b2432732-8b15-4f5f-9d2d-38cb04d09e5e",
   "metadata": {},
   "outputs": [
    {
     "name": "stdout",
     "output_type": "stream",
     "text": [
      "1.04\n"
     ]
    }
   ],
   "source": [
    "print(EmployeeClass.RaiseAmount)   # Class variable after the first instance change"
   ]
  },
  {
   "cell_type": "code",
   "execution_count": null,
   "id": "d057473a-df2e-4e54-95a1-67bf36bc922a",
   "metadata": {},
   "outputs": [
    {
     "name": "stdout",
     "output_type": "stream",
     "text": [
      "1.05\n"
     ]
    }
   ],
   "source": [
    "print(Employee1.RaiseAmount)   # Print class variable using the first instance"
   ]
  },
  {
   "cell_type": "code",
   "execution_count": null,
   "id": "01aaca3a-06d6-4655-9ee3-46b53e45c60e",
   "metadata": {},
   "outputs": [
    {
     "name": "stdout",
     "output_type": "stream",
     "text": [
      "1.04\n"
     ]
    }
   ],
   "source": [
    "print(Employee2.RaiseAmount)   # Second instance"
   ]
  },
  {
   "cell_type": "code",
   "execution_count": null,
   "id": "2ebbdf8e-8810-4197-80ec-ba4884bed4a2",
   "metadata": {},
   "outputs": [
    {
     "name": "stdout",
     "output_type": "stream",
     "text": [
      "{'firstName': 'sarah', 'lastName': 'johnson', 'salary': '38000'}\n"
     ]
    }
   ],
   "source": [
    "print(Employee2.__dict__)     # Namespace for second instance"
   ]
  },
  {
   "cell_type": "markdown",
   "id": "bfc1162c-0949-4809-8fc2-65ad11628369",
   "metadata": {},
   "source": [
    "# Counting the number of instances using class"
   ]
  },
  {
   "cell_type": "code",
   "execution_count": null,
   "id": "79c74a5c-2feb-4cf6-bd1d-78e1227b62f2",
   "metadata": {},
   "outputs": [],
   "source": [
    "class StaffMember:            # Class variable to track the total number of employees\n",
    "    NumberOfEmployees = 0\n",
    "\n",
    "    def __init__(self, FirstName, LastName, Salary):\n",
    "        self.FirstName = FirstName\n",
    "        self.LastName = LastName\n",
    "        self.Salary = Salary\n",
    "        self.Email = f\"{FirstName}.{LastName}@company.com\"\n",
    "        \n",
    "        StaffMember.NumberOfEmployees += 1  # Increment the employee count every time a new employee is created\n",
    "\n",
    "    def FullName(self):\n",
    "        return f\"{self.FirstName} {self.LastName}\""
   ]
  },
  {
   "cell_type": "code",
   "execution_count": null,
   "id": "bb014c09-1a08-4c7c-8ae2-a978e1d3d737",
   "metadata": {},
   "outputs": [
    {
     "name": "stdout",
     "output_type": "stream",
     "text": [
      "Initial employee count: 0\n"
     ]
    }
   ],
   "source": [
    "print(f\"Initial employee count: {StaffMember.NumberOfEmployees}\") "
   ]
  },
  {
   "cell_type": "code",
   "execution_count": null,
   "id": "2d71c23a-d5a6-4b99-84b8-4cbd72906666",
   "metadata": {},
   "outputs": [],
   "source": [
    "Staff1 = StaffMember('Michael', 'Brown', 52000)    # Object creation\n",
    "Staff2 = StaffMember('Emma', 'Wilson', 58000)"
   ]
  },
  {
   "cell_type": "code",
   "execution_count": null,
   "id": "e4d8a1f6-27b4-4ad6-9c9c-f5fc9e9d7b7b",
   "metadata": {},
   "outputs": [
    {
     "name": "stdout",
     "output_type": "stream",
     "text": [
      "Current employee count: 2\n"
     ]
    }
   ],
   "source": [
    "print(f\"Current employee count: {StaffMember.NumberOfEmployees}\")  # Access after object creation"
   ]
  },
  {
   "cell_type": "markdown",
   "id": "98a46def-011b-4798-8297-78ad90e0478f",
   "metadata": {},
   "source": [
    "# Inheritance concept in object-oriented programming"
   ]
  },
  {
   "cell_type": "code",
   "execution_count": null,
   "id": "6fa99572-2db2-4e76-a530-3e1e92d267bf",
   "metadata": {},
   "outputs": [],
   "source": [
    "class ParentClass:      # Parent class\n",
    "    def Greet(self):\n",
    "        print(\"Hello from parent class\")\n",
    "\n",
    "class ChildClass(ParentClass):    # Child class\n",
    "    pass"
   ]
  },
  {
   "cell_type": "code",
   "execution_count": null,
   "id": "1395af4a-c8c3-4e46-a5f4-01035ce24274",
   "metadata": {},
   "outputs": [
    {
     "name": "stdout",
     "output_type": "stream",
     "text": [
      "hello from parent class\n"
     ]
    }
   ],
   "source": [
    "Object1 = ChildClass()     # Object creation using child class\n",
    "Object1.Greet()    # Child accessing the parent"
   ]
  },
  {
   "cell_type": "markdown",
   "id": "ef5273ec-5c9-4e16-bfdd-4b32f96038b7",
   "metadata": {},
   "source": [
    "# Usage of super to call method in parent class"
   ]
  },
  {
   "cell_type": "code",
   "execution_count": null,
   "id": "ba0a9756-fc48-4b6e-a1a6-a88b3fb22b07",
   "metadata": {},
   "outputs": [],
   "source": [
    "class ParentClass:  # Parent class\n",
    "    def Greet(self):\n",
    "        print(\"Hello from parent\")\n",
    "\n",
    "\n",
    "class ChildClass(ParentClass):    # Child class inheriting from the parent\n",
    "    def Greet(self):\n",
    "        super().Greet()  # Calls parent's Greet\n",
    "        print(\"Hello from child\")"
   ]
  },
  {
   "cell_type": "code",
   "execution_count": null,
   "id": "b9d6bb79-33a7-416a-a63f-d25757f19509",
   "metadata": {},
   "outputs": [
    {
     "name": "stdout",
     "output_type": "stream",
     "text": [
      "Hello from parent\n",
      "Hello from Child\n"
     ]
    }
   ],
   "source": [
    "Object1 = ChildClass()\n",
    "Object1.Greet()   # Child class accessing method"
   ]
  },
  {
   "cell_type": "markdown",
   "id": "e9a78676-3144-4ea6-904d-732ec0527cf1",
   "metadata": {},
   "source": [
    "# Multiple inheritance demonstration"
   ]
  },
  {
   "cell_type": "code",
   "execution_count": null,
   "id": "e8248cec-d296-40a0-a2c4-a6b7bd72f5fc",
   "metadata": {},
   "outputs": [],
   "source": [
    "class CountableClass:\n",
    "    ObjectCount = 0         # Class variable to store the count\n",
    "\n",
    "    def __init__(self, *args, **kwargs):\n",
    "        CountableClass.ObjectCount += 1   # Increment the count when a new object is created\n",
    "        super().__init__(*args, **kwargs)"
   ]
  },
  {
   "cell_type": "code",
   "execution_count": null,
   "id": "9b2f9955-d0f6-45b0-a4d4-e70e92734161",
   "metadata": {},
   "outputs": [],
   "source": [
    "class PersonClass:\n",
    "    def __init__(self, Name):\n",
    "         self.Name = Name"
   ]
  },
  {
   "cell_type": "code",
   "execution_count": null,
   "id": "b510ee35-755a-4b9c-8182-28bf790ee1f4",
   "metadata": {},
   "outputs": [],
   "source": [
    "class StaffMember(CountableClass, PersonClass):        # Multiple inheritance\n",
    "    def __init__(self, Name, EmployeeId):\n",
    "         super().__init__(Name=Name)     # Call parent constructors using super()\n",
    "         self.EmployeeId = EmployeeId"
   ]
  },
  {
   "cell_type": "code",
   "execution_count": null,
   "id": "d3d103ef-a6e0-4d4c-b9ea-c9f4f654085b",
   "metadata": {},
   "outputs": [
    {
     "name": "stdout",
     "output_type": "stream",
     "text": [
      "Number of Employee objects created: 0\n"
     ]
    }
   ],
   "source": [
    "print(f\"Number of Employee objects created: {StaffMember.ObjectCount}\")   # Accessing the class variable before creating the objects"
   ]
  },
  {
   "cell_type": "code",
   "execution_count": null,
   "id": "c5549999-a5eb-42c9-8414-e67f801a449a",
   "metadata": {},
   "outputs": [],
   "source": [
    "StaffMember1 = StaffMember(\"David\", \"E001\")   # Emp objects\n",
    "StaffMember2 = StaffMember(\"Lisa\", \"E002\")\n",
    "StaffMember3 = StaffMember(\"James\", \"E003\")"
   ]
  },
  {
   "cell_type": "code",
   "execution_count": null,
   "id": "1ad27899-7d9b-411a-af98-e04392faba87",
   "metadata": {},
   "outputs": [
    {
     "name": "stdout",
     "output_type": "stream",
     "text": [
      "Number of Employee objects created: 3\n"
     ]
    }
   ],
   "source": [
    "print(f\"Number of Employee objects created: {StaffMember.ObjectCount}\")  # Access class variables to get count"
   ]
  },
  {
   "cell_type": "code",
   "execution_count": null,
   "id": "243490ba-9e73-4074-bb90-bccb9b49247b",
   "metadata": {},
   "outputs": [
    {
     "name": "stdout",
     "output_type": "stream",
     "text": [
      "Number of Employee objects created (via instance): 3\n"
     ]
    }
   ],
   "source": [
    "print(f\"Number of Employee objects created (via instance): {StaffMember1.ObjectCount}\")  # Access through instance"
   ]
  },
  {
   "cell_type": "markdown",
   "id": "19768f56-2a00-4afb-9a3e-efca483d1447",
   "metadata": {},
   "source": [
    "# Class that inherits from class EmployeeClass"
   ]
  },
  {
   "cell_type": "code",
   "execution_count": null,
   "id": "809073e2-b05f-411a-8fb5-0018dc181fae",
   "metadata": {},
   "outputs": [],
   "source": [
    "class EmployeeSubClass(EmployeeClass):\n",
    "    def __init__(self, FirstName, LastName, Salary):\n",
    "        super().__init__(FirstName, LastName, Salary)  # Call parent constructor using super()\n",
    "\n",
    "    def ApplyRaise(self):\n",
    "        super().ApplyRaise()    # Call parent class's ApplyRaise method"
   ]
  },
  {
   "cell_type": "code",
   "execution_count": null,
   "id": "227cd642-27bd-48ff-be54-ea65bfdb91c6",
   "metadata": {},
   "outputs": [],
   "source": [
    "Employee3 = EmployeeSubClass(\"DharshanRajPA\",\"M\",834570)  # Instance for child class"
   ]
  },
  {
   "cell_type": "code",
   "execution_count": null,
   "id": "70b6e696-c58c-49a2-b4fe-f346880ccecd",
   "metadata": {},
   "outputs": [],
   "source": [
    "Employee3.ApplyRaise()  # Instance accessing the inherit method"
   ]
  },
  {
   "cell_type": "code",
   "execution_count": null,
   "id": "a9447480-4625-4100-a3d4-545eb0065f2b",
   "metadata": {},
   "outputs": [
    {
     "name": "stdout",
     "output_type": "stream",
     "text": [
      "867952\n"
     ]
    }
   ],
   "source": [
    "print(Employee3.Salary) # Object accessing the instance variable"
   ]
  },
  {
   "cell_type": "code",
   "execution_count": null,
   "id": "f294530f-f1fd-4678-b583-0256827e3788",
   "metadata": {},
   "outputs": [
    {
     "name": "stdout",
     "output_type": "stream",
     "text": [
      "1.04\n"
     ]
    }
   ],
   "source": [
    "print(Employee3.RaiseAmount)  # Object accessing the class variable"
   ]
  },
  {
   "cell_type": "markdown",
   "id": "03f816da-5ce2-495d-9ee6-29dc0f6dc7a2",
   "metadata": {},
   "source": [
    "# Multiple inheritance with different classes"
   ]
  },
  {
   "cell_type": "code",
   "execution_count": null,
   "id": "620e39b8-cb9a-4c42-b31d-407b2cf77b5f",
   "metadata": {},
   "outputs": [],
   "source": [
    "class ClassA:\n",
    "    def MethodA(self):\n",
    "        print(\"Method A\")\n",
    "\n",
    "class ClassB:\n",
    "    def MethodB(self):\n",
    "        print(\"Method B\")\n",
    "\n",
    "class ClassC(ClassA, ClassB):  # Class inheriting from A and B\n",
    "    pass"
   ]
  },
  {
   "cell_type": "code",
   "execution_count": null,
   "id": "59af7f52-4664-42c1-9f14-e774c0ec042a",
   "metadata": {},
   "outputs": [
    {
     "name": "stdout",
     "output_type": "stream",
     "text": [
      "Method A\n",
      "Method B\n"
     ]
    }
   ],
   "source": [
    "Object1 = ClassC()\n",
    "Object1.MethodA()    # Child class accessing parent class methods\n",
    "Object1.MethodB()"
   ]
  },
  {
   "cell_type": "markdown",
   "id": "d3a5632a-7910-4e41-bac9-e1a0230cb8ae",
   "metadata": {},
   "source": [
    "# Multilevel inheritance demonstration"
   ]
  },
  {
   "cell_type": "code",
   "execution_count": null,
   "id": "cfe24a55-057e-465b-9700-37dcd863b470",
   "metadata": {},
   "outputs": [],
   "source": [
    "class ClassA:\n",
    "    def MethodA(self):\n",
    "        print(\"Method A\")\n",
    "\n",
    "class ClassB(ClassA):           # Class inheriting from A\n",
    "    def MethodB(self):\n",
    "        super().MethodA()\n",
    "        print(\"Method B\")\n",
    "\n",
    "class ClassC(ClassB):            # Class inheriting from B\n",
    "    def MethodC(self):\n",
    "        super().MethodB()\n",
    "        print(\"Method C\")"
   ]
  },
  {
   "cell_type": "code",
   "execution_count": null,
   "id": "77c9a2c4-22f5-4767-82a2-35ab5a966974",
   "metadata": {},
   "outputs": [
    {
     "name": "stdout",
     "output_type": "stream",
     "text": [
      "Method A\n",
      "Method B\n",
      "Method C\n"
     ]
    }
   ],
   "source": [
    "Object1 = ClassC()\n",
    "Object1.MethodC()"
   ]
  },
  {
   "cell_type": "markdown",
   "id": "453cb883-cc68-47e7-a96d-154e8289419b",
   "metadata": {},
   "source": [
    "# Inheritance is unidirectional in nature"
   ]
  },
  {
   "cell_type": "code",
   "execution_count": null,
   "id": "311cad7f-735b-45d3-9036-e08ccc582662",
   "metadata": {},
   "outputs": [],
   "source": [
    "class ContactClass:\n",
    "    AllContacts = []  # Class variable to store all contacts\n",
    "\n",
    "    def __init__(self, Name, Email):\n",
    "        self.Name = Name\n",
    "        self.Email = Email\n",
    "        ContactClass.AllContacts.append(self)"
   ]
  },
  {
   "cell_type": "code",
   "execution_count": null,
   "id": "fb1bfd2e-d745-4976-9ad6-ce3af86114a7",
   "metadata": {},
   "outputs": [],
   "source": [
    "class SupplierClass(ContactClass):\n",
    "    def Order(self, Order):\n",
    "        print(\"Send '{}' order to {}\".format(Order, self.Name))\n",
    "\n",
    "\n",
    "# Example usage\n",
    "Contact1 = ContactClass(\"DharshanRajPA\", \"dharshan@gmail.com\")\n",
    "Supplier1 = SupplierClass(\"Harish\", \"harish@example.com\")\n"
   ]
  },
  {
   "cell_type": "code",
   "execution_count": null,
   "id": "20bae9b3-3505-48a3-b159-45c5caa2ccac",
   "metadata": {},
   "outputs": [
    {
     "name": "stdout",
     "output_type": "stream",
     "text": [
      "DharshanRajPA dharshan@gmail.com HARISH Harish@gmail.com\n"
     ]
    }
   ],
   "source": [
    "print(Contact1.Name, Contact1.Email, Supplier1.Name, Supplier1.Email)"
   ]
  },
  {
   "cell_type": "code",
   "execution_count": null,
   "id": "9b4e21f9-2404-4c1c-a37c-cbe4ee51c8aa",
   "metadata": {},
   "outputs": [
    {
     "data": {
      "text/plain": [
       "[<__main__.ContactClass at 0x1edf25d96a0>, <__main__.SupplierClass at 0x1edf25da510>]"
      ]
     },
     "execution_count": 113,
     "metadata": {},
     "output_type": "execute_result"
    }
   ],
   "source": [
    "Contact1.AllContacts"
   ]
  },
  {
   "cell_type": "code",
   "execution_count": null,
   "id": "d65036f6-1b21-40fa-811d-27a0b67c1f7f",
   "metadata": {},
   "outputs": [
    {
     "ename": "AttributeError",
     "evalue": "'ContactClass' object has no attribute 'order'",
     "output_type": "error",
     "traceback": [
      "\u001b[1;31m---------------------------------------------------------------------------\u001b[0m\n",
      "\u001b[1;31mAttributeError\u001b[0m                            Traceback (most recent call last)\n",
      "\u001b[1;32mCell\u001b[1;36mIn[115], line 1\u001b[1;32m----> 1\u001b[0m contact1\u001b[38;5;241m.\u001b[39morder(\u001b[38;5;124m\"\u001b[39m\u001b[38;5;124mI need pliers\u001b[39m\u001b[38;5;124m\"\u001b[39m)\n",
      "\u001b[1;31mAttributeError\u001b[0m: 'ContactClass' object has no attribute 'order'"
     ]
    }
   ],
   "source": [
    "Contact1.Order(\"I need pliers\")   # Parent has no access to child class"
   ]
  },
  {
   "cell_type": "code",
   "execution_count": null,
   "id": "ee76683f-e010-41cc-8116-eafffef52f77",
   "metadata": {},
   "outputs": [
    {
     "name": "stdout",
     "output_type": "stream",
     "text": [
      "Send 'I need pliers' order to HARISH\n"
     ]
    }
   ],
   "source": [
    "Supplier1.Order(\"I need pliers\")  # Solve the above error"
   ]
  },
  {
   "cell_type": "markdown",
   "id": "4c4ec5fd-7ff5-4546-8ee0-fa54198761af",
   "metadata": {},
   "source": [
    "# Built-in class can be extended"
   ]
  },
  {
   "cell_type": "code",
   "execution_count": null,
   "id": "aed4c451-d27a-403b-a0a5-d7ff2906d534",
   "metadata": {},
   "outputs": [],
   "source": [
    "class ContactListClass(list):\n",
    "    def Search(self, Name):\n",
    "        MatchingContacts = []\n",
    "        for Contact in self:\n",
    "            if Name in Contact.Name:\n",
    "                MatchingContacts.append(Contact)\n",
    "        return MatchingContacts"
   ]
  },
  {
   "cell_type": "code",
   "execution_count": null,
   "id": "48d91737-6ad6-43ff-b478-7e39efd19ba8",
   "metadata": {},
   "outputs": [],
   "source": [
    "class ContactClass:\n",
    "    AllContacts = ContactListClass()      # Shared list of all contacts\n",
    "\n",
    "    def __init__(self, Name, Email):\n",
    "        self.Name = Name\n",
    "        self.Email = Email\n",
    "        ContactClass.AllContacts.append(self)"
   ]
  },
  {
   "cell_type": "code",
   "execution_count": null,
   "id": "36339e40-4eb8-459d-a773-a294a21768e5",
   "metadata": {},
   "outputs": [
    {
     "data": {
      "text/plain": [
       "['DharshanRajPA', 'DharshanRajPA', 'DharshanRajPA u', 'DharshanRajPA', 'DharshanRajPA']"
      ]
     },
     "execution_count": 131,
     "metadata": {},
     "output_type": "execute_result"
    }
   ],
   "source": [
    "Contact1 = ContactClass(\"DharshanRajPA\",\"dharshan@example.net\")\n",
    "Contact2 = ContactClass(\"DharshanRajPA\",\"dharshan@example.net\")\n",
    "Contact3 = ContactClass(\"Tam\",\"tam@example.net\")\n",
    "[c.Name for c in ContactClass.AllContacts.Search('DharshanRajPA')]"
   ]
  },
  {
   "cell_type": "code",
   "execution_count": null,
   "id": "47e9cb0e-c1f8-4786-9be3-782ae79cf352",
   "metadata": {},
   "outputs": [],
   "source": []
  }
 ],
 "metadata": {
  "kernelspec": {
   "display_name": "Python [conda env:base] *",
   "name": "conda-base-py"
  },
  "language_info": {
   "codemirror_mode": {
    "name": "ipython",
    "version": 3
   },
   "file_extension": ".py",
   "mimetype": "text/x-python",
   "name": "python",
   "nbconvert_exporter": "python",
   "pygments_lexer": "ipython3",
   "version": "3.12.7"
  }
 },
 "nbformat": 4,
 "nbformat_minor": 5
}