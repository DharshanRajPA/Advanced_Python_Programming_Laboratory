{
 "cells": [
  {
   "cell_type": "markdown",
   "id": "a99f940b-70b7-4c9d-a045-66f03cf73715",
   "metadata": {},
   "source": [
    "# Lambda function"
   ]
  },
  {
   "cell_type": "code",
   "execution_count": 1,
   "id": "a42dd736-f2bb-4da9-8cd1-11b838d4eff6",
   "metadata": {},
   "outputs": [
    {
     "data": {
      "text/plain": [
       "100"
      ]
     },
     "execution_count": 1,
     "metadata": {},
     "output_type": "execute_result"
    }
   ],
   "source": [
    "def Double(x):   # normal function creation for doubling a number\n",
    "    return x*2\n",
    "    \n",
    "Double(50)       # function call with argument 50"
   ]
  },
  {
   "cell_type": "code",
   "execution_count": 2,
   "id": "caf264a5-66fb-4adb-bf40-5991ad479c6b",
   "metadata": {},
   "outputs": [
    {
     "data": {
      "text/plain": [
       "100"
      ]
     },
     "execution_count": 2,
     "metadata": {},
     "output_type": "execute_result"
    }
   ],
   "source": [
    "LambdaVariable = lambda x:x*2  # lambda function creation for doubling\n",
    "LambdaVariable(50)             # function call with argument 50"
   ]
  },
  {
   "cell_type": "code",
   "execution_count": 3,
   "id": "943c2624-1d39-4de3-9b97-fd7b265bf204",
   "metadata": {},
   "outputs": [
    {
     "data": {
      "text/plain": [
       "100"
      ]
     },
     "execution_count": 3,
     "metadata": {},
     "output_type": "execute_result"
    }
   ],
   "source": [
    "def Add(x,y):    # normal addition function for two numbers\n",
    "    return x+y\n",
    "    \n",
    "Add(50, 50)      # function call with two arguments"
   ]
  },
  {
   "cell_type": "code",
   "execution_count": 4,
   "id": "e11307a1-9be8-4a9c-bc26-e7c892d25fd9",
   "metadata": {},
   "outputs": [
    {
     "data": {
      "text/plain": [
       "50"
      ]
     },
     "execution_count": 4,
     "metadata": {},
     "output_type": "execute_result"
    }
   ],
   "source": [
    "LambdaAdd = lambda x,y:x+y   # lambda addition function for two numbers\n",
    "LambdaAdd(20,30)             # function call with arguments 20 and 30"
   ]
  },
  {
   "cell_type": "code",
   "execution_count": 5,
   "id": "da2889df-bcf6-466c-968a-9d1d0e42cea2",
   "metadata": {},
   "outputs": [
    {
     "data": {
      "text/plain": [
       "45"
      ]
     },
     "execution_count": 5,
     "metadata": {},
     "output_type": "execute_result"
    }
   ],
   "source": [
    "def Max(x,y):         # normal max function creation to find maximum\n",
    "    if x>y:\n",
    "        return x\n",
    "    else:\n",
    "        return y\n",
    "        \n",
    "Max(35,45)           # function call to find maximum between 35 and 45"
   ]
  },
  {
   "cell_type": "code",
   "execution_count": 6,
   "id": "88a41c2c-4907-45cc-a24b-7e8bbe544c33",
   "metadata": {},
   "outputs": [
    {
     "data": {
      "text/plain": [
       "49"
      ]
     },
     "execution_count": 6,
     "metadata": {},
     "output_type": "execute_result"
    }
   ],
   "source": [
    "LambdaMax = lambda x,y:x if x>y else y    # lambda max function creation using conditional expression\n",
    "LambdaMax(22, 49)                          # function call to find maximum between 22 and 49"
   ]
  },
  {
   "cell_type": "markdown",
   "id": "c33bbeb0-6f62-4af7-92d6-adcf30bbf489",
   "metadata": {},
   "source": [
    "# Iterables"
   ]
  },
  {
   "cell_type": "code",
   "execution_count": 7,
   "id": "84d4086b-0216-40c0-a3d7-e885a5992ac2",
   "metadata": {},
   "outputs": [
    {
     "name": "stdout",
     "output_type": "stream",
     "text": [
      "1\n",
      "2\n",
      "3\n",
      "4\n",
      "5\n"
     ]
    }
   ],
   "source": [
    "NumberList = [1,2,3,4,5]        # list is iterable and can be looped through\n",
    "for CurrentNumber in NumberList:\n",
    "    print(CurrentNumber)"
   ]
  },
  {
   "cell_type": "code",
   "execution_count": 8,
   "id": "8dce79e4-4c97-428a-a03a-72ee8e984b73",
   "metadata": {},
   "outputs": [
    {
     "name": "stdout",
     "output_type": "stream",
     "text": [
      "1\n",
      "2\n",
      "3\n",
      "4\n",
      "5\n"
     ]
    }
   ],
   "source": [
    "NumberTuple = (1,2,3,4,5)      # tuple is iterable and can be looped through\n",
    "for CurrentNumber in NumberTuple:\n",
    "    print(CurrentNumber)"
   ]
  },
  {
   "cell_type": "code",
   "execution_count": 9,
   "id": "d1274ed9-c143-469b-9a43-76521a6f8e44",
   "metadata": {},
   "outputs": [
    {
     "name": "stdout",
     "output_type": "stream",
     "text": [
      "('name', 'DharshanRajPA')\n",
      "('Reg No', '22MIC0073')\n"
     ]
    }
   ],
   "source": [
    "StudentDictionary = {\"name\":\"DharshanRajPA\",\"Reg No\":\"22MIC0073\"}        # dictionary is iterable and can be looped through\n",
    "for CurrentItem in StudentDictionary.items():\n",
    "    print(CurrentItem)"
   ]
  },
  {
   "cell_type": "code",
   "execution_count": 10,
   "id": "e2160936-f706-4f0c-b41d-5567ea263b9f",
   "metadata": {},
   "outputs": [
    {
     "name": "stdout",
     "output_type": "stream",
     "text": [
      "D\n",
      "h\n",
      "a\n",
      "r\n",
      "s\n",
      "h\n",
      "a\n",
      "n\n",
      "R\n",
      "a\n",
      "j\n",
      "P\n",
      "A\n"
     ]
    }
   ],
   "source": [
    "StudentName = \"DharshanRajPA\"        # string is iterable and can be looped through character by character\n",
    "for CurrentCharacter in StudentName:\n",
    "    print(CurrentCharacter)"
   ]
  },
  {
   "cell_type": "code",
   "execution_count": 11,
   "id": "d53a8b15-bcc7-48b7-bcb1-2be119ff0d7d",
   "metadata": {},
   "outputs": [
    {
     "name": "stdout",
     "output_type": "stream",
     "text": [
      "Iterating over a bytes object:\n",
      "104\n",
      "101\n",
      "108\n",
      "108\n",
      "111\n"
     ]
    }
   ],
   "source": [
    "MyBytes = b\"hello\"           # byte object is iterable and can be looped through\n",
    "print(\"Iterating over a bytes object:\")\n",
    "for CurrentByte in MyBytes:\n",
    "    print(CurrentByte)"
   ]
  },
  {
   "cell_type": "markdown",
   "id": "535e9607-41c1-4736-96d5-b406be7f6f41",
   "metadata": {},
   "source": [
    "# Non-iterables"
   ]
  },
  {
   "cell_type": "code",
   "execution_count": 12,
   "id": "3df0fe94-180f-4080-a1f1-4730097883b5",
   "metadata": {},
   "outputs": [
    {
     "name": "stdout",
     "output_type": "stream",
     "text": [
      "1\n",
      "2\n",
      "3\n",
      "4\n",
      "5\n",
      "6\n",
      "7\n"
     ]
    }
   ],
   "source": [
    "NumberValue = 1234567\n",
    "StringValue = str(NumberValue)         # usage of type casting to make it iterable\n",
    "for CurrentDigit in StringValue:\n",
    "    print(CurrentDigit)"
   ]
  },
  {
   "cell_type": "code",
   "execution_count": 13,
   "id": "9c0e33fa-0dd2-4dd2-93e4-250a0b31d599",
   "metadata": {},
   "outputs": [
    {
     "name": "stdout",
     "output_type": "stream",
     "text": [
      "7\n",
      "6\n",
      "5\n",
      "4\n",
      "3\n",
      "2\n",
      "1\n"
     ]
    }
   ],
   "source": [
    "NumberValue = 1234567\n",
    "SumValue = 0\n",
    "while NumberValue != 0:\n",
    "    CurrentDigit = NumberValue % 10    # no type casting is done but still iterable through mathematical operations\n",
    "    print(CurrentDigit)\n",
    "    NumberValue //= 10"
   ]
  },
  {
   "cell_type": "code",
   "execution_count": 14,
   "id": "104568dc-3706-4106-b2fd-542e581b43b3",
   "metadata": {},
   "outputs": [
    {
     "name": "stdout",
     "output_type": "stream",
     "text": [
      "[4, 5, 6, 7, 8, 9]\n",
      "4\n",
      "5\n",
      "6\n",
      "7\n",
      "8\n",
      "9\n"
     ]
    }
   ],
   "source": [
    "CombinedNumber=456789\n",
    "DigitList= [int(CurrentDigit) for CurrentDigit in str(CombinedNumber)]\n",
    "print(DigitList)\n",
    "for CurrentDigit in DigitList:\n",
    "    print(CurrentDigit)"
   ]
  },
  {
   "cell_type": "markdown",
   "id": "e88b3560-65e3-4fbd-9472-c8880babf0fd",
   "metadata": {},
   "source": [
    "# Use of dir() function"
   ]
  },
  {
   "cell_type": "code",
   "execution_count": 15,
   "id": "c17a701c-0223-42bf-98fd-f34233e0bea2",
   "metadata": {},
   "outputs": [
    {
     "name": "stdout",
     "output_type": "stream",
     "text": [
      "['__add__', '__class__', '__class_getitem__', '__contains__', '__delattr__', '__delitem__', '__dir__', '__doc__', '__eq__', '__format__', '__ge__', '__getattribute__', '__getitem__', '__getstate__', '__gt__', '__hash__', '__iadd__', '__imul__', '__init__', '__init_subclass__', '__iter__', '__le__', '__len__', '__lt__', '__mul__', '__ne__', '__new__', '__reduce__', '__reduce_ex__', '__repr__', '__reversed__', '__rmul__', '__setattr__', '__setitem__', '__sizeof__', '__str__', '__subclasshook__', 'append', 'clear', 'copy', 'count', 'extend', 'index', 'insert', 'pop', 'remove', 'reverse', 'sort']\n"
     ]
    }
   ],
   "source": [
    "NameList=['dharshan', 'raj' ,'p','a']\n",
    "print(dir(NameList))          # provides the list of all possible methods and attributes"
   ]
  },
  {
   "cell_type": "code",
   "execution_count": 16,
   "id": "1b6c36cc-fcdb-4045-a82e-236b11ab1e27",
   "metadata": {},
   "outputs": [
    {
     "name": "stdout",
     "output_type": "stream",
     "text": [
      "<list_iterator object at 0x00000196F85A4460>\n",
      "<class 'list'>\n",
      "<class 'list_iterator'>\n",
      "<class 'list_iterator'>\n"
     ]
    }
   ],
   "source": [
    "NameList=['dharshan', 'raj' ,'p','a']\n",
    "IteratorObject = NameList.__iter__()       # one way of creating iterator object\n",
    "IteratorObject2= iter(NameList)            # other way of creating iterator object\n",
    "print(IteratorObject)\n",
    "print(type(NameList))         # print the type and class of created object\n",
    "print(type(IteratorObject))\n",
    "print(type(IteratorObject2))"
   ]
  },
  {
   "cell_type": "code",
   "execution_count": 17,
   "id": "e6b9c2fc-7bed-4a57-aaa2-2e3a0e191d16",
   "metadata": {},
   "outputs": [
    {
     "name": "stdout",
     "output_type": "stream",
     "text": [
      "['__add__', '__class__', '__class_getitem__', '__contains__', '__delattr__', '__delitem__', '__dir__', '__doc__', '__eq__', '__format__', '__ge__', '__getattribute__', '__getitem__', '__getstate__', '__gt__', '__hash__', '__iadd__', '__imul__', '__init__', '__init_subclass__', '__iter__', '__le__', '__len__', '__lt__', '__mul__', '__ne__', '__new__', '__reduce__', '__reduce_ex__', '__repr__', '__reversed__', '__rmul__', '__setattr__', '__setitem__', '__sizeof__', '__str__', '__subclasshook__', 'append', 'clear', 'copy', 'count', 'extend', 'index', 'insert', 'pop', 'remove', 'reverse', 'sort']\n"
     ]
    }
   ],
   "source": [
    "NumberArray=[2,5,7,8]\n",
    "print(dir(NumberArray))"
   ]
  },
  {
   "cell_type": "code",
   "execution_count": 18,
   "id": "aa37ad88-bbf4-4e03-bd13-8132c95861dd",
   "metadata": {},
   "outputs": [
    {
     "name": "stdout",
     "output_type": "stream",
     "text": [
      "dharshan\n",
      "raj\n",
      "p\n",
      "a\n"
     ]
    },
    {
     "ename": "StopIteration",
     "evalue": "",
     "output_type": "error",
     "traceback": [
      "\u001b[31m---------------------------------------------------------------------------\u001b[39m",
      "\u001b[31mStopIteration\u001b[39m                             Traceback (most recent call last)",
      "\u001b[36mCell\u001b[39m\u001b[36m \u001b[39m\u001b[32mIn[18]\u001b[39m\u001b[32m, line 5\u001b[39m\n\u001b[32m      3\u001b[39m \u001b[38;5;28mprint\u001b[39m(\u001b[38;5;28mnext\u001b[39m(IteratorObject))\n\u001b[32m      4\u001b[39m \u001b[38;5;28mprint\u001b[39m(\u001b[38;5;28mnext\u001b[39m(IteratorObject))\n\u001b[32m----> \u001b[39m\u001b[32m5\u001b[39m \u001b[38;5;28mprint\u001b[39m(\u001b[38;5;28;43mnext\u001b[39;49m\u001b[43m(\u001b[49m\u001b[43mIteratorObject\u001b[49m\u001b[43m)\u001b[49m)    \u001b[38;5;66;03m# displays error because it has reached the end of the list\u001b[39;00m\n\u001b[32m      6\u001b[39m \u001b[38;5;28mprint\u001b[39m(\u001b[38;5;28mnext\u001b[39m(IteratorObject))\n",
      "\u001b[31mStopIteration\u001b[39m: "
     ]
    }
   ],
   "source": [
    "print(next(IteratorObject))\n",
    "print(next(IteratorObject))\n",
    "print(next(IteratorObject))\n",
    "print(next(IteratorObject))\n",
    "print(next(IteratorObject))    # displays error because it has reached the end of the list\n",
    "print(next(IteratorObject))"
   ]
  },
  {
   "cell_type": "code",
   "execution_count": 19,
   "id": "424405b9-09d4-42cc-aeac-904bda65f35a",
   "metadata": {},
   "outputs": [
    {
     "name": "stdout",
     "output_type": "stream",
     "text": [
      "dharshan\n",
      "raj\n",
      "p\n",
      "a\n"
     ]
    }
   ],
   "source": [
    "NameList=['dharshan', 'raj' ,'p','a']\n",
    "LoopIterator = iter(NameList)\n",
    "while True:           # exception handling if it reaches the end of the list\n",
    "    try:\n",
    "        CurrentName=next(LoopIterator)\n",
    "        print(CurrentName)\n",
    "    except StopIteration:\n",
    "        break"
   ]
  },
  {
   "cell_type": "markdown",
   "id": "453739b8-ec68-463c-971d-2df7035cf34",
   "metadata": {},
   "source": [
    "# Map function"
   ]
  },
  {
   "cell_type": "code",
   "execution_count": 20,
   "id": "e836970a-90f6-4060-ab4d-4f8d9d7b6b36",
   "metadata": {},
   "outputs": [
    {
     "name": "stdout",
     "output_type": "stream",
     "text": [
      "[1, 4, 9, 16, 25]\n",
      "[1, 4, 9, 16, 25]\n",
      "[4, 5]\n"
     ]
    }
   ],
   "source": [
    "def Square (x):\n",
    "        return x*x\n",
    "\n",
    "NumberSequence = [1,2,3,4,5]\n",
    "print(list(map(Square,NumberSequence)))\n",
    "print(list(map(lambda x: x*x ,NumberSequence)))\n",
    "print(list(filter(lambda x: x>3,NumberSequence))) # filters the element that satisfies the conditions provided"
   ]
  },
  {
   "cell_type": "code",
   "execution_count": 22,
   "id": "95bfde6d-bcd8-418b-95dd-d0bcd8b021bd",
   "metadata": {},
   "outputs": [
    {
     "name": "stdout",
     "output_type": "stream",
     "text": [
      "['sAm', 'cam', 'taM']\n",
      "['sam', 'cam', 'tam']\n"
     ]
    }
   ],
   "source": [
    "NameArray = [\"sAm\",\"cam\",\"taM\"] # original list with mixed case\n",
    "for CurrentName in NameArray:\n",
    "    CurrentName.upper()\n",
    "print(NameArray)\n",
    "print(list(map(lambda x:x.lower(),NameArray))) # convert the list elements into lower case"
   ]
  },
  {
   "cell_type": "markdown",
   "id": "6c6e94a5-97c7-453a-a968-316086414bad",
   "metadata": {},
   "source": [
    "# Reduce function"
   ]
  },
  {
   "cell_type": "code",
   "execution_count": 21,
   "id": "03369cd1-d96b-4a6e-8ed1-150d7c82ba0a",
   "metadata": {},
   "outputs": [
    {
     "name": "stdout",
     "output_type": "stream",
     "text": [
      "15\n"
     ]
    }
   ],
   "source": [
    "from functools import reduce\n",
    "print(reduce(lambda x,y:x+y,NumberSequence))  # applies the given condition and stores the value and iterates and starts performing the condition until it reaches the end"
   ]
  },
  {
   "cell_type": "code",
   "execution_count": 23,
   "id": "451ce5bd-7e58-4f91-bf5e-380bad3fd5b5",
   "metadata": {},
   "outputs": [
    {
     "name": "stdout",
     "output_type": "stream",
     "text": [
      "money cannot buy everything\n"
     ]
    }
   ],
   "source": [
    "WordList=['money', 'cannot' ,'buy','everything']\n",
    "from functools import reduce\n",
    "print(reduce(lambda x,y:x+\" \"+y,WordList))  # way of using lambda function to join tokens"
   ]
  }
 ],
 "metadata": {
  "kernelspec": {
   "display_name": ".venv",
   "language": "python",
   "name": "python3"
  },
  "language_info": {
   "codemirror_mode": {
    "name": "ipython",
    "version": 3
   },
   "file_extension": ".py",
   "mimetype": "text/x-python",
   "name": "python",
   "nbconvert_exporter": "python",
   "pygments_lexer": "ipython3",
   "version": "3.13.5"
  }
 },
 "nbformat": 4,
 "nbformat_minor": 5
}
