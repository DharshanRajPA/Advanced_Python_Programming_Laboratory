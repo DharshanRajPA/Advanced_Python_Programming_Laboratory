{
 "cells": [
  {
   "cell_type": "markdown",
   "id": "138fff89-70e8-4875-ad08-60ca4cd16fab",
   "metadata": {},
   "source": [
    "# Advanced Python Programming (APP)\n",
    "## Course Code (CC) - CSI - 3007\n",
    "### Laboratory (Lab)\n",
    "#### Digital Assignment - 13\n",
    "\n",
    "## Digital Wellness Awareness [ A GOOGLE N-GRAM BASED ANALYSIS ]\n",
    "### Custom User Own Client Customer Individual Synthetic Dataset  \n",
    "#### Python Programming Coding Scripting Computer Science Language\n",
    "#### Jupyter Notebook Core Main Crux Framework Library Module Binary Package"
   ]
  },
  {
   "cell_type": "markdown",
   "id": "5925c9d7-752d-4edd-bf9f-30c81711fce4",
   "metadata": {},
   "source": [
    "# Advanced Python Programming - Digital Wellness Awareness Analysis Lab\n",
    "## Student: Dharshan Raj P A\n",
    "## Register Roll Number ID : 22MIC0073\n",
    "## Date: 26-07-2025\n",
    "\n",
    "# MAIN TASK:  FETCH TREND USING GOOGLE BOOKS N-GRAM VIEWER , GENERATE WORD CLOUD , PROMPT AN LLM TO GENERATE SUMMARY"
   ]
  },
  {
   "cell_type": "code",
   "execution_count": 1,
   "id": "2d20e8d9-9fd7-4031-8c72-d7313adf6b06",
   "metadata": {},
   "outputs": [
    {
     "name": "stdout",
     "output_type": "stream",
     "text": [
      "Requirement already satisfied: requests in e:\\anaconda\\lib\\site-packages (2.32.3)\n",
      "Requirement already satisfied: charset-normalizer<4,>=2 in e:\\anaconda\\lib\\site-packages (from requests) (3.3.2)\n",
      "Requirement already satisfied: idna<4,>=2.5 in e:\\anaconda\\lib\\site-packages (from requests) (3.7)\n",
      "Requirement already satisfied: urllib3<3,>=1.21.1 in e:\\anaconda\\lib\\site-packages (from requests) (2.2.3)\n",
      "Requirement already satisfied: certifi>=2017.4.17 in e:\\anaconda\\lib\\site-packages (from requests) (2024.12.14)\n"
     ]
    }
   ],
   "source": [
    "!pip install requests"
   ]
  },
  {
   "cell_type": "code",
   "execution_count": 1,
   "id": "e072beb8-4a00-4d47-86f8-273735e441c1",
   "metadata": {},
   "outputs": [
    {
     "name": "stdout",
     "output_type": "stream",
     "text": [
      "Collecting wordcloud\n",
      "  Downloading wordcloud-1.9.4-cp312-cp312-win_amd64.whl.metadata (3.5 kB)\n",
      "Requirement already satisfied: numpy>=1.6.1 in e:\\anaconda\\lib\\site-packages (from wordcloud) (1.26.4)\n",
      "Requirement already satisfied: pillow in e:\\anaconda\\lib\\site-packages (from wordcloud) (10.4.0)\n",
      "Requirement already satisfied: matplotlib in e:\\anaconda\\lib\\site-packages (from wordcloud) (3.9.2)\n",
      "Requirement already satisfied: contourpy>=1.0.1 in e:\\anaconda\\lib\\site-packages (from matplotlib->wordcloud) (1.2.0)\n",
      "Requirement already satisfied: cycler>=0.10 in e:\\anaconda\\lib\\site-packages (from matplotlib->wordcloud) (0.11.0)\n",
      "Requirement already satisfied: fonttools>=4.22.0 in e:\\anaconda\\lib\\site-packages (from matplotlib->wordcloud) (4.51.0)\n",
      "Requirement already satisfied: kiwisolver>=1.3.1 in e:\\anaconda\\lib\\site-packages (from matplotlib->wordcloud) (1.4.4)\n",
      "Requirement already satisfied: packaging>=20.0 in e:\\anaconda\\lib\\site-packages (from matplotlib->wordcloud) (24.1)\n",
      "Requirement already satisfied: pyparsing>=2.3.1 in e:\\anaconda\\lib\\site-packages (from matplotlib->wordcloud) (3.1.2)\n",
      "Requirement already satisfied: python-dateutil>=2.7 in e:\\anaconda\\lib\\site-packages (from matplotlib->wordcloud) (2.9.0.post0)\n",
      "Requirement already satisfied: six>=1.5 in e:\\anaconda\\lib\\site-packages (from python-dateutil>=2.7->matplotlib->wordcloud) (1.16.0)\n",
      "Downloading wordcloud-1.9.4-cp312-cp312-win_amd64.whl (301 kB)\n",
      "Installing collected packages: wordcloud\n",
      "Successfully installed wordcloud-1.9.4\n"
     ]
    }
   ],
   "source": [
    "!pip install wordcloud"
   ]
  },
  {
   "cell_type": "code",
   "execution_count": 3,
   "id": "ca67e9e0-9ec7-4c81-8cef-e41d7fbb2aca",
   "metadata": {},
   "outputs": [],
   "source": [
    "import requests\n",
    "import pandas as pd\n",
    "import numpy as np\n",
    "import matplotlib.pyplot as plt\n",
    "from wordcloud import WordCloud\n",
    "import json\n",
    "import sys"
   ]
  },
  {
   "cell_type": "code",
   "execution_count": 99,
   "id": "a158c9be-5e35-441e-9615-0c86d1caf123",
   "metadata": {},
   "outputs": [],
   "source": [
    "SEARCH_TERMS = [\"digital wellness\", \"screen time\", \"online safety\"]    # List of search terms (trends to analyze in Google Books Ngram Viewer)\n",
    "\n",
    "ANALYSIS_START_YEAR = 1800   # Start year of analysis\n",
    "\n",
    "ANALYSIS_END_YEAR = 2025     # End year of analysis\n",
    "\n",
    "LANGUAGE_CORPUS = 15    # Corpus: 15 = English (2019)\n",
    "\n",
    "SMOOTHING_FACTOR = 3 # Smoothing factor\n",
    "\n",
    "\n",
    "BROWSER_AGENT = \"Mozilla/5.0 (X11; Linux x86_64) AppleWebKit/537.36 (KHTML, like Gecko) Chrome/100 Safari/537.36\"       # HTTP User-Agent header\n",
    "\n",
    "\n",
    "RESULT_CSV_FILE = \"digital_wellness_ngrams_output.csv\"    # File paths\n",
    "CHART_PNG_FILE = \"digital_wellness_ngrams_plot.png\"\n",
    "WORDCLOUD_PNG_FILE = \"digital_wellness_ngrams_wordcloud.png\"\n"
   ]
  },
  {
   "cell_type": "code",
   "execution_count": 9,
   "id": "658340cf-aca3-4609-8ad6-8c2110d99ac7",
   "metadata": {},
   "outputs": [],
   "source": [
    "def fetch_ngram_json(search_terms, year_start=ANALYSIS_START_YEAR, year_end=ANALYSIS_END_YEAR, corpus=LANGUAGE_CORPUS, smoothing=SMOOTHING_FACTOR):\n",
    "    \"\"\"\n",
    "    Fetch JSON data from Google Ngram Viewer.\n",
    "    \"\"\"\n",
    "    url = \"https://books.google.com/ngrams/json\"\n",
    "    params = {\n",
    "        \"content\": \",\".join(search_terms),\n",
    "        \"year_start\": year_start,\n",
    "        \"year_end\": year_end,\n",
    "        \"corpus\": corpus,\n",
    "        \"smoothing\": smoothing,\n",
    "    }\n",
    "    headers = {\"User-Agent\": BROWSER_AGENT}\n",
    "    r = requests.get(url, params=params, headers=headers, timeout=30)\n",
    "    r.raise_for_status()\n",
    "    return r.json()\n"
   ]
  },
  {
   "cell_type": "code",
   "execution_count": 11,
   "id": "d1817d6a-70cf-4891-9fe8-c1e3b3d29e0f",
   "metadata": {},
   "outputs": [],
   "source": [
    "def json_to_dataframe(ngram_json, year_start=ANALYSIS_START_YEAR, year_end=ANALYSIS_END_YEAR):\n",
    "    years = list(range(year_start, year_end + 1))\n",
    "    rows = []\n",
    "    for series in ngram_json:\n",
    "        ngram = series.get(\"ngram\")\n",
    "        timeseries = series.get(\"timeseries\", [])\n",
    "        if len(timeseries) != len(years):\n",
    "            timeseries = (timeseries + [0] * len(years))[:len(years)]\n",
    "        for y, v in zip(years, timeseries):\n",
    "            rows.append({\"year\": y, \"ngram\": ngram, \"freq\": float(v)})\n",
    "    df = pd.DataFrame(rows)\n",
    "    return df\n"
   ]
  },
  {
   "cell_type": "code",
   "execution_count": 13,
   "id": "0f1acbc9-0352-424f-93ca-005840394378",
   "metadata": {},
   "outputs": [],
   "source": [
    "def pivot_timeseries(df):\n",
    "    return df.pivot(index=\"year\", columns=\"ngram\", values=\"freq\").fillna(0)\n"
   ]
  },
  {
   "cell_type": "code",
   "execution_count": 15,
   "id": "d8501678-de43-4203-95e6-20348769f43f",
   "metadata": {},
   "outputs": [],
   "source": [
    "def save_csv(pivot_df, filename=RESULT_CSV_FILE):\n",
    "    pivot_df.to_csv(filename, index=True)\n",
    "    print(f\"[+] Saved CSV to {filename}\")\n"
   ]
  },
  {
   "cell_type": "code",
   "execution_count": 17,
   "id": "2b9503b5-7cea-4d27-8888-e9c1ebb0cbfa",
   "metadata": {},
   "outputs": [],
   "source": [
    "def plot_timeseries(pivot_df, filename=CHART_PNG_FILE):\n",
    "    plt.figure(figsize=(12,6))\n",
    "    ax = plt.gca()\n",
    "    pivot_df.plot(ax=ax, linewidth=2)\n",
    "    ax.set_xlabel(\"Year\")\n",
    "    ax.set_ylabel(\"Relative frequency (%)\")\n",
    "    ax.set_title(\"Google Books Ngram: Digital Wellness Awareness (1800–2025)\")\n",
    "    ax.grid(axis=\"y\", alpha=0.3)\n",
    "    plt.legend(title=\"ngram\", loc=\"upper right\")\n",
    "    plt.tight_layout()\n",
    "    plt.savefig(filename, dpi=150)\n",
    "    plt.close()\n",
    "    print(f\"[+] Saved time-series plot to {filename}\")\n"
   ]
  },
  {
   "cell_type": "code",
   "execution_count": 19,
   "id": "0f203d8b-8495-435b-91dd-a8bbe84fc74c",
   "metadata": {},
   "outputs": [],
   "source": [
    "def generate_wordcloud(pivot_df, filename=WORDCLOUD_PNG_FILE):\n",
    "    means = pivot_df.mean(axis=0).to_dict()\n",
    "    wc = WordCloud(width=800, height=400, background_color=\"white\")\n",
    "    wc.generate_from_frequencies(means)\n",
    "    wc.to_file(filename)\n",
    "    print(f\"[+] Saved word cloud to {filename}\")\n"
   ]
  },
  {
   "cell_type": "code",
   "execution_count": 21,
   "id": "ef8342db-7723-441d-abcd-f91b8ec880ed",
   "metadata": {},
   "outputs": [],
   "source": [
    "def compute_summary_stats(pivot_df):\n",
    "    \"\"\"Return a dict of helpful summary statistics for each ngram.\"\"\"\n",
    "    stats = {}\n",
    "    for col in pivot_df.columns:\n",
    "        series = pivot_df[col]\n",
    "        stats[col] = {\n",
    "            \"mean\": float(np.mean(series)),\n",
    "            \"median\": float(np.median(series)),\n",
    "            \"std\": float(np.std(series, ddof=0)),\n",
    "            \"max_value\": float(series.max()),\n",
    "            \"max_year\": int(series.idxmax()),\n",
    "            \"min_year\": int(series.idxmin())\n",
    "        }\n",
    "    return stats\n"
   ]
  },
  {
   "cell_type": "code",
   "execution_count": null,
   "id": "0a14d4b6-fe50-40d2-ac60-36c85ab4b1dc",
   "metadata": {},
   "outputs": [],
   "source": [
    "def prepare_llm_prompt(summary_stats, pivot_df, top_n_years=5):\n",
    "    \"\"\"\n",
    "    Prepare a textual prompt to send to an LLM along with the CSV or summary.\n",
    "    The prompt asks the LLM for an interpretive summary and recommended\n",
    "    human-readable labels for the produced word cloud.\n",
    "    \"\"\"\n",
    "    short_table = pivot_df.mean(axis=0).sort_values(ascending=False).head(top_n_years).to_dict()\n",
    "    prompt = {\n",
    "        \"instruction\": \"You are given frequency time-series data (Google Ngram) for several terms \"\n",
    "                       \"about digital wellness (digital wellness, screen time, online safety). \"\n",
    "                       \"Please produce a concise (3-6 sentence) summary about the trends, \"\n",
    "                       \"mentioning which term rose or fell and notable years, and suggest 10 short keywords \"\n",
    "                       \"suitable for a word cloud. Use the summary statistics and CSV data below.\",\n",
    "        \"summary_stats\": summary_stats,\n",
    "        \"top_mean_terms\": short_table,\n",
    "        \"note\": f\"CSV file attached separately ({RESULT_CSV_FILE}). Provide the textual summary and a 10-word list for the cloud.\"\n",
    "    }\n",
    "    return json.dumps(prompt, indent=2)\n"
   ]
  },
  {
   "cell_type": "code",
   "execution_count": 25,
   "id": "b81697a5-a287-45f1-981b-468f1e8a283b",
   "metadata": {},
   "outputs": [
    {
     "name": "stdout",
     "output_type": "stream",
     "text": [
      "[*] Fetching Ngram JSON for: ['forgetting hygiene', 'neglecting hygiene', 'poor hygiene']\n",
      "[+] Successfully fetched Ngram data for 3 terms.\n"
     ]
    }
   ],
   "source": [
    "# Inform the user which terms are being fetched\n",
    "print(\"[*] Fetching Ngram JSON for:\", SEARCH_TERMS)\n",
    "\n",
    "try:\n",
    "    ngram_json = fetch_ngram_json(SEARCH_TERMS)\n",
    "    print(f\"[+] Successfully fetched Ngram data for {len(SEARCH_TERMS)} terms.\")\n",
    "except Exception as e:\n",
    "    print(\"[!] Error fetching Ngram JSON:\", e)\n",
    "    sys.exit(1)\n"
   ]
  },
  {
   "cell_type": "code",
   "execution_count": 27,
   "id": "f1e861ef-ac9c-4c39-a124-803bc1123c80",
   "metadata": {},
   "outputs": [],
   "source": [
    "df_long = json_to_dataframe(ngram_json)\n"
   ]
  },
  {
   "cell_type": "code",
   "execution_count": 29,
   "id": "e7e92e3e-eb98-4167-a939-4c4c821e03af",
   "metadata": {},
   "outputs": [],
   "source": [
    "pivot_df = pivot_timeseries(df_long)\n"
   ]
  },
  {
   "cell_type": "code",
   "execution_count": 31,
   "id": "55a759f6-0edf-479d-9361-2654fe09fb3c",
   "metadata": {},
   "outputs": [
    {
     "name": "stdout",
     "output_type": "stream",
     "text": [
      "[+] Saved CSV to hygiene_ngrams_output.csv\n"
     ]
    }
   ],
   "source": [
    "save_csv(pivot_df)\n"
   ]
  },
  {
   "cell_type": "code",
   "execution_count": 33,
   "id": "d8fb8b80-f4c6-4779-b454-a6e230eeaea7",
   "metadata": {},
   "outputs": [
    {
     "name": "stdout",
     "output_type": "stream",
     "text": [
      "[+] Saved time-series plot to hygiene_ngrams_plot.png\n"
     ]
    }
   ],
   "source": [
    "plot_timeseries(pivot_df)\n"
   ]
  },
  {
   "cell_type": "code",
   "execution_count": 35,
   "id": "7c3bd7a6-823c-45cd-9947-7f24c6a9d131",
   "metadata": {},
   "outputs": [
    {
     "name": "stdout",
     "output_type": "stream",
     "text": [
      "[+] Saved word cloud to hygiene_ngrams_wordcloud.png\n"
     ]
    }
   ],
   "source": [
    "generate_wordcloud(pivot_df)\n"
   ]
  },
  {
   "cell_type": "code",
   "execution_count": 37,
   "id": "accae522-24fa-4b68-a1b0-d0da0d99b2fa",
   "metadata": {},
   "outputs": [],
   "source": [
    "stats = compute_summary_stats(pivot_df)\n"
   ]
  },
  {
   "cell_type": "code",
   "execution_count": 39,
   "id": "a1419964-077f-41b2-aed4-5c1ef4160036",
   "metadata": {},
   "outputs": [
    {
     "name": "stdout",
     "output_type": "stream",
     "text": [
      "\n",
      "[Summary statistics (per-term)]:\n",
      "{\n",
      "  \"neglecting hygiene\": {\n",
      "    \"mean\": 4.439097605357557e-11,\n",
      "    \"median\": 0.0,\n",
      "    \"std\": 1.1796623569098477e-10,\n",
      "    \"max_value\": 6.362792197884509e-10,\n",
      "    \"max_year\": 1906,\n",
      "    \"min_year\": 1800\n",
      "  },\n",
      "  \"poor hygiene\": {\n",
      "    \"mean\": 1.750949608754431e-08,\n",
      "    \"median\": 3.143641093471063e-09,\n",
      "    \"std\": 2.6863673113216723e-08,\n",
      "    \"max_value\": 9.835280272747176e-08,\n",
      "    \"max_year\": 2002,\n",
      "    \"min_year\": 1800\n",
      "  }\n",
      "}\n"
     ]
    }
   ],
   "source": [
    "print(\"\\n[Summary statistics (per-term)]:\")\n",
    "print(json.dumps(stats, indent=2))\n"
   ]
  },
  {
   "cell_type": "code",
   "execution_count": 41,
   "id": "a328e1da-a19f-4906-846f-8dd78b365b14",
   "metadata": {},
   "outputs": [],
   "source": [
    "prompt = prepare_llm_prompt(stats, pivot_df)\n"
   ]
  },
  {
   "cell_type": "code",
   "execution_count": 43,
   "id": "3308c80d-7552-41b2-a976-f128b93798da",
   "metadata": {},
   "outputs": [
    {
     "name": "stdout",
     "output_type": "stream",
     "text": [
      "\n",
      "[LLM prompt you can send (JSON):]\n",
      "\n",
      "{\n",
      "  \"instruction\": \"You are given frequency time-series data (Google Ngram) for several terms about hygiene (forgetting hygiene, neglecting hygiene, poor hygiene). Please produce a concise (3-6 sentence) summary about the trends, mentioning which term rose or fell and notable years, and suggest 10 short keywords suitable for a word cloud. Use the summary statistics and CSV data below.\",\n",
      "  \"summary_stats\": {\n",
      "    \"neglecting hygiene\": {\n",
      "      \"mean\": 4.439097605357557e-11,\n",
      "      \"median\": 0.0,\n",
      "      \"std\": 1.1796623569098477e-10,\n",
      "      \"max_value\": 6.362792197884509e-10,\n",
      "      \"max_year\": 1906,\n",
      "      \"min_year\": 1800\n",
      "    },\n",
      "    \"poor hygiene\": {\n",
      "      \"mean\": 1.750949608754431e-08,\n",
      "      \"median\": 3.143641093471063e-09,\n",
      "      \"std\": 2.6863673113216723e-08,\n",
      "      \"max_value\": 9.835280272747176e-08,\n",
      "      \"max_year\": 2002,\n",
      "      \"min_year\": 1800\n",
      "    }\n",
      "  },\n",
      "  \"top_mean_terms\": {\n",
      "    \"poor hygiene\": 1.750949608754431e-08,\n",
      "    \"neglecting hygiene\": 4.439097605357557e-11\n",
      "  },\n",
      "  \"note\": \"CSV file attached separately (hygiene_ngrams_output.csv). Provide the textual summary and a 10-word list for the cloud.\"\n",
      "}\n"
     ]
    }
   ],
   "source": [
    "print(\"\\n[LLM prompt you can send (JSON):]\\n\")\n",
    "print(prompt)\n"
   ]
  },
  {
   "cell_type": "code",
   "execution_count": 45,
   "id": "e2fb5cc5-ea9d-48e5-add9-8747bb2db8d4",
   "metadata": {},
   "outputs": [
    {
     "name": "stdout",
     "output_type": "stream",
     "text": [
      "\n",
      "[Done] Files:  digital_wellness_ngrams_output.csv digital_wellness_ngrams_plot.png digital_wellness_ngrams_wordcloud.png\n"
     ]
    }
   ],
   "source": [
    "print(\"\\n[Done] Files: \", RESULT_CSV_FILE, CHART_PNG_FILE, WORDCLOUD_PNG_FILE)\n"
   ]
  },
  {
   "cell_type": "code",
   "execution_count": null,
   "id": "772976e8-93bd-4c1e-a3eb-fcf55b428281",
   "metadata": {},
   "outputs": [
    {
     "data": {
      "image/png": "[encoded data removed]",
      "text/plain": [
       "<Figure size 1200x600 with 1 Axes>"
      ]
     },
     "metadata": {},
     "output_type": "display_data"
    }
   ],
   "source": [
    "plt.figure(figsize=(12,6))\n",
    "ax = plt.gca()\n",
    "pivot_df.plot(ax=ax, linewidth=2)\n",
    "ax.set_xlabel(\"Year\")\n",
    "ax.set_ylabel(\"Relative frequency (%)\")\n",
    "ax.set_title(\"Google Books Ngram: Digital Wellness Awareness (1800–2025)\")\n",
    "ax.grid(axis=\"y\", alpha=0.3)\n",
    "plt.legend(title=\"ngram\", loc=\"upper right\")\n",
    "plt.tight_layout()\n"
   ]
  },
  {
   "cell_type": "code",
   "execution_count": null,
   "id": "320ce06c-f516-4e28-b3cd-2f6b7c8fc79c",
   "metadata": {},
   "outputs": [
    {
     "data": {
      "image/png": "[encoded data removed]",
      "text/plain": [
       "<Figure size 1000x500 with 1 Axes>"
      ]
     },
     "metadata": {},
     "output_type": "display_data"
    }
   ],
   "source": [
    "means = pivot_df.mean(axis=0).to_dict()\n",
    "wc = WordCloud(width=800, height=400, background_color=\"white\")\n",
    "wc.generate_from_frequencies(means)\n",
    "plt.figure(figsize=(10,5))\n",
    "plt.imshow(wc, interpolation=\"bilinear\")\n",
    "plt.axis(\"off\")\n",
    "plt.title(\"Word Cloud (Digital Wellness Terms)\")\n",
    "plt.show()\n"
   ]
  },
  {
   "cell_type": "code",
   "execution_count": null,
   "id": "03d9a130-7270-49bd-aa68-ea69a287f4ae",
   "metadata": {},
   "outputs": [],
   "source": [
    "df = pd.read_csv(RESULT_CSV_FILE)\n",
    "# Expecting columns like: [\"year\", \"digital wellness\", \"screen time\", \"online safety\"]\n"
   ]
  },
  {
   "cell_type": "code",
   "execution_count": 53,
   "id": "1c550e35-75c1-486d-b9f0-505b7722cd30",
   "metadata": {},
   "outputs": [
    {
     "name": "stdout",
     "output_type": "stream",
     "text": [
      "     year  neglecting hygiene  poor hygiene\n",
      "0    1800                 0.0           0.0\n",
      "1    1801                 0.0           0.0\n",
      "2    1802                 0.0           0.0\n",
      "3    1803                 0.0           0.0\n",
      "4    1804                 0.0           0.0\n",
      "..    ...                 ...           ...\n",
      "221  2021                 0.0           0.0\n",
      "222  2022                 0.0           0.0\n",
      "223  2023                 0.0           0.0\n",
      "224  2024                 0.0           0.0\n",
      "225  2025                 0.0           0.0\n",
      "\n",
      "[226 rows x 3 columns]\n"
     ]
    }
   ],
   "source": [
    "print(df)\n"
   ]
  },
  {
   "cell_type": "code",
   "execution_count": 55,
   "id": "2160003d-097d-4ffa-9ac3-5f8675c9ae59",
   "metadata": {},
   "outputs": [],
   "source": [
    "summary_stats = {}\n",
    "for col in df.columns[1:]:  # skip 'year'\n",
    "    values = df[col].dropna()\n",
    "    summary_stats[col] = {\n",
    "        \"mean\": float(np.mean(values)),\n",
    "        \"median\": float(np.median(values)),\n",
    "        \"std\": float(np.std(values)),\n",
    "        \"max_value\": float(np.max(values)),\n",
    "        \"max_year\": int(df.loc[values.idxmax(), \"year\"]),\n",
    "        \"min_year\": int(df.loc[values.idxmin(), \"year\"])\n",
    "    }\n"
   ]
  },
  {
   "cell_type": "code",
   "execution_count": 57,
   "id": "a05cb9f7-195f-4a4d-af3b-fb8d35d4ad83",
   "metadata": {},
   "outputs": [],
   "source": [
    "top_mean_terms = {col: summary_stats[col][\"mean\"] for col in df.columns[1:]}\n",
    "top_mean_terms = dict(sorted(top_mean_terms.items(), key=lambda x: x[1], reverse=True))\n"
   ]
  },
  {
   "cell_type": "code",
   "execution_count": null,
   "id": "044486b7-8136-49cd-81f2-01d56a0f4f6f",
   "metadata": {},
   "outputs": [],
   "source": [
    "prompt_payload = {\n",
    "    \"instruction\": (\n",
    "        \"You are given frequency time-series data (Google Ngram) for several hygiene-related terms. \"\n",
    "        \"Please produce a concise (3-6 sentence) summary about the trends, mentioning \"\n",
    "        \"which term rose or fell and notable years, and suggest 10 short keywords \"\n",
    "        \"suitable for a word cloud. Use the summary statistics and CSV data below.\"\n",
    "    ),\n",
    "    \"summary_stats\": summary_stats,\n",
    "    \"top_mean_terms\": top_mean_terms,\n",
    "    \"note\": f\"CSV file attached separately ({RESULT_CSV_FILE}). Provide the textual summary and a 10-word list for the cloud.\"\n",
    "}\n"
   ]
  },
  {
   "cell_type": "code",
   "execution_count": 63,
   "id": "8e58c5cd-87a9-497e-b8ab-0544c2aa5987",
   "metadata": {},
   "outputs": [],
   "source": [
    "data = {\n",
    "    \"model\": \"gpt-4o-mini\",\n",
    "    \"messages\": [\n",
    "        {\"role\": \"system\", \"content\": \"You are a data analysis assistant.\"},\n",
    "        {\"role\": \"user\", \"content\": json.dumps(prompt_payload)}\n",
    "    ],\n",
    "    \"temperature\": 0.3\n",
    "}\n"
   ]
  },
  {
   "cell_type": "code",
   "execution_count": 65,
   "id": "480afdf3-8f75-4e9e-851e-1153b3dc792f",
   "metadata": {},
   "outputs": [],
   "source": [
    "response = requests.post(API_URL, headers=headers, json=data)\n"
   ]
  },
  {
   "cell_type": "code",
   "execution_count": 69,
   "id": "9aa2b45d-bc98-4b8d-ad78-74db9c4d492f",
   "metadata": {},
   "outputs": [],
   "source": [
    "def extract_keywords(summary_text):\n",
    "    numbered = re.findall(r'^\\s*\\d+\\.\\s*(.+?)\\s*$', summary_text, flags=re.MULTILINE)\n",
    "    if numbered:\n",
    "        return numbered\n",
    "    m = re.search(r'(?i)keywords(?:\\s*for\\s*word\\s*cloud)?\\s*[:\\-]\\s*(.+)', summary_text, flags=re.S)\n",
    "    if m:\n",
    "        tail = m.group(1).strip()\n",
    "        if ',' in tail:\n",
    "            parts = [p.strip() for p in tail.split(',') if p.strip()]\n",
    "            if parts:\n",
    "                return parts\n",
    "        lines = [ln.strip() for ln in tail.splitlines() if ln.strip()]\n",
    "        parts = []\n",
    "        for ln in lines:\n",
    "            if re.match(r'^\\d+\\.', ln):\n",
    "                parts.append(re.sub(r'^\\d+\\.\\s*', '', ln).strip())\n",
    "            else:\n",
    "                parts.extend([p.strip() for p in re.split(r'[,;]\\s*|\\s{2,}', ln) if p.strip()])\n",
    "        if parts:\n",
    "            return parts\n",
    "    quoted = re.findall(r'\"([^\"]+)\"', summary_text)\n",
    "    if quoted:\n",
    "        return quoted\n",
    "    return []\n"
   ]
  },
  {
   "cell_type": "code",
   "execution_count": 71,
   "id": "68c3d9e1-8773-4f48-8721-462a09ed6592",
   "metadata": {},
   "outputs": [],
   "source": [
    "def clean_keyword(k):\n",
    "    k = k.strip().strip('\\'\"')\n",
    "    k = re.sub(r'^[^\\w\\d]+|[^\\w\\d]+$', '', k)\n",
    "    return k\n"
   ]
  },
  {
   "cell_type": "code",
   "execution_count": 87,
   "id": "28303f99-d576-4925-92b2-74f9bf51f938",
   "metadata": {},
   "outputs": [],
   "source": [
    "import re\n",
    "import os\n",
    "from wordcloud import WordCloud\n",
    "import matplotlib.pyplot as plt"
   ]
  },
  {
   "cell_type": "code",
   "execution_count": 101,
   "id": "f9d52f7b-cacc-476f-937e-402e5f39ee8f",
   "metadata": {},
   "outputs": [],
   "source": [
    "def local_summary_and_keywords(summary_stats, top_mean_terms):\n",
    "   \n",
    "    most_common = max(top_mean_terms, key=top_mean_terms.get)     # Pick the most frequent and least frequent terms\n",
    "    least_common = min(top_mean_terms, key=top_mean_terms.get)\n",
    "\n",
    "    summary = (\n",
    "        f\"Between 1800 and 2025, the usage of hygiene-related terms shows \"\n",
    "        f\"that '{most_common}' appeared most frequently on average, while \"\n",
    "        f\"'{least_common}' appeared the least. \"\n",
    "        f\"These patterns highlight changes in attention towards hygiene habits \"\n",
    "        f\"over time, with notable declines in some practices and rises in others.\"\n",
    "    )\n",
    "\n",
    "    # Generate 10 hygiene-related keywords manually or from data\n",
    "    keywords = [\"hygiene\", \"cleanliness\", \"sanitation\", \"washing\",\n",
    "                \"toothbrushing\", \"bathing\", \"soap\", \"grooming\",\n",
    "                \"health\", \"freshness\"]\n",
    "\n",
    "    return summary, keywords"
   ]
  },
  {
   "cell_type": "code",
   "execution_count": 91,
   "id": "d9755db4-114a-46e5-a7ac-3717394f159c",
   "metadata": {},
   "outputs": [
    {
     "name": "stdout",
     "output_type": "stream",
     "text": [
      "\n",
      "=== Local Generated Summary & Keywords ===\n",
      "\n",
      "Between 1800 and 2025, the usage of hygiene-related terms shows that 'poor hygiene' appeared most frequently on average, while 'neglecting hygiene' appeared the least. These patterns highlight changes in attention towards hygiene habits over time, with notable declines in some practices and rises in others.\n",
      "\n",
      "Keywords: ['hygiene', 'cleanliness', 'sanitation', 'washing', 'toothbrushing', 'bathing', 'soap', 'grooming', 'health', 'freshness']\n"
     ]
    }
   ],
   "source": [
    "summary, keywords = local_summary_and_keywords(summary_stats, top_mean_terms)\n",
    "\n",
    "print(\"\\n=== Local Generated Summary & Keywords ===\\n\")\n",
    "print(summary)\n",
    "print(\"\\nKeywords:\", keywords)"
   ]
  },
  {
   "cell_type": "code",
   "execution_count": 93,
   "id": "a5983b31-33a7-4200-9179-83230c73dc85",
   "metadata": {},
   "outputs": [
    {
     "name": "stdout",
     "output_type": "stream",
     "text": [
      "Cleaned Keywords: ['hygiene', 'cleanliness', 'sanitation', 'washing', 'toothbrushing', 'bathing', 'soap', 'grooming', 'health', 'freshness']\n"
     ]
    }
   ],
   "source": [
    "def clean_keyword(k):\n",
    "    k = k.strip().strip('\\'\"')\n",
    "    k = re.sub(r'^[^\\w\\d]+|[^\\w\\d]+$', '', k)\n",
    "    return k\n",
    "\n",
    "cleaned = [clean_keyword(k) for k in keywords if clean_keyword(k)]\n",
    "seen = set()\n",
    "keywords = []\n",
    "for k in cleaned:\n",
    "    key = k.lower()\n",
    "    if key not in seen:\n",
    "        seen.add(key)\n",
    "        keywords.append(k)\n",
    "\n",
    "print(\"Cleaned Keywords:\", keywords)"
   ]
  },
  {
   "cell_type": "code",
   "execution_count": 95,
   "id": "33fd802f-df83-47fc-b93d-57adcde8e107",
   "metadata": {},
   "outputs": [],
   "source": [
    "freqs = {}\n",
    "n = len(keywords)\n",
    "for i, k in enumerate(keywords):\n",
    "    freqs[k] = n - i  # higher weight for earlier items\n",
    "\n",
    "possible_fonts = [\n",
    "    \"/usr/share/fonts/truetype/dejavu/DejaVuSans.ttf\",         \n",
    "    \"/usr/share/fonts/truetype/liberation/LiberationSans-Regular.ttf\",\n",
    "    \"/Library/Fonts/Arial.ttf\",                               \n",
    "    \"C:\\\\Windows\\\\Fonts\\\\Arial.ttf\"                           \n",
    "]\n",
    "font_path = None\n",
    "for p in possible_fonts:\n",
    "    if os.path.exists(p):\n",
    "        font_path = p\n",
    "        break\n",
    "\n",
    "wc_kwargs = dict(width=800, height=400, background_color=\"white\", collocations=False)\n",
    "if font_path:\n",
    "    wc_kwargs['font_path'] = font_path"
   ]
  },
  {
   "cell_type": "code",
   "execution_count": null,
   "id": "1c60faef-4359-4fa5-9297-fa3c75941506",
   "metadata": {},
   "outputs": [],
   "source": [
    "wc = WordCloud(**wc_kwargs).generate_from_frequencies(freqs)\n",
    "\n",
    "output_file = \"wordcloud_hygiene.png\"\n",
    "wc.to_file(output_file)\n",
    "\n",
    "plt.figure(figsize=(10,5))\n",
    "plt.imshow(wc, interpolation=\"bilinear\")\n",
    "plt.axis(\"off\")\n",
    "plt.title(\"Word Cloud (Hygiene Keywords)\")\n",
    "plt.show()\n",
    "\n",
    "print(f\"Word cloud saved to: {os.path.abspath(output_file)}\")"
   ]
  },
  {
   "cell_type": "code",
   "execution_count": null,
   "id": "38eb10c6-d99f-48ac-9492-cd956bff7d35",
   "metadata": {},
   "outputs": [],
   "source": []
  }
 ],
 "metadata": {
  "kernelspec": {
   "display_name": ".venv",
   "language": "python",
   "name": "python3"
  },
  "language_info": {
   "codemirror_mode": {
    "name": "ipython",
    "version": 3
   },
   "file_extension": ".py",
   "mimetype": "text/x-python",
   "name": "python",
   "nbconvert_exporter": "python",
   "pygments_lexer": "ipython3",
   "version": "3.13.5"
  }
 },
 "nbformat": 4,
 "nbformat_minor": 5
}
