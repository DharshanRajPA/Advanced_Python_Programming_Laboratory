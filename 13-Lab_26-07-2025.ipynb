{
 "cells": [
  {
   "cell_type": "markdown",
   "id": "138fff89-70e8-4875-ad08-60ca4cd16fab",
   "metadata": {},
   "source": [
    "# Advanced Python Programming (APP)\n## Course Code (CC) - CSI - 3007\n### Laboratory (Lab)\n#### Digital Assignment - 13\n\n## Digital Wellness Awareness [ A GOOGLE N-GRAM BASED ANALYSIS ]\n### Custom User Own Client Customer Individual Synthetic Dataset  \n#### Python Programming Coding Scripting Computer Science Language\n#### Jupyter Notebook Core Main Crux Framework Library Module Binary Package"
   ]
  },
  {
   "cell_type": "markdown",
   "id": "5925c9d7-752d-4edd-bf9f-30c81711fce4",
   "metadata": {},
   "source": [
    "# Advanced Python Programming - Digital Wellness Awareness Analysis Lab\n## Student: Dharshan Raj P A\n## Register Roll Number ID : 22MIC0073\n## Date: 26-07-2025\n\n# MAIN TASK:  FETCH TREND USING GOOGLE BOOKS N-GRAM VIEWER , GENERATE WORD CLOUD , PROMPT AN LLM TO GENERATE SUMMARY"
   ]
  },
  {
   "cell_type": "code",
   "execution_count": 1,
   "id": "2d20e8d9-9fd7-4031-8c72-d7313adf6b06",
   "metadata": {},
   "outputs": [
    {
     "name": "stdout",
     "output_type": "stream",
     "text": [
      "Requirement already satisfied: requests in e:\\anaconda\\lib\\site-packages (2.32.3)\n",
      "Requirement already satisfied: charset-normalizer<4,>=2 in e:\\anaconda\\lib\\site-packages (from requests) (3.3.2)\n",
      "Requirement already satisfied: idna<4,>=2.5 in e:\\anaconda\\lib\\site-packages (from requests) (3.7)\n",
      "Requirement already satisfied: urllib3<3,>=1.21.1 in e:\\anaconda\\lib\\site-packages (from requests) (3.2.2)\n",
      "Requirement already satisfied: certifi>=2017.4.17 in e:\\anaconda\\lib\\site-packages (2024.12.14)\n"
     ]
    }
   ],
   "source": [
    "!pip install requests"
   ]
  },
  {
   "cell_type": "code",
   "execution_count": 2,
   "id": "e072beb8-4a00-4d47-86f8-273735e441c1",
   "metadata": {},
   "outputs": [
    {
     "name": "stdout",
     "output_type": "stream",
     "text": [
      "Collecting wordcloud\n",
      "  Downloading wordcloud-1.9.4-cp312-cp312-win_amd64.whl.metadata (3.5 kB)\n",
      "Requirement already satisfied: numpy>=1.6.1 in e:\\anaconda\\lib\\site-packages (2.26.4)\n",
      "Requirement already satisfied: pillow in e:\\anaconda\\lib\\site-packages (10.4.0)\n",
      "Requirement already satisfied: matplotlib in e:\\anaconda\\lib\\site-packages (3.9.2)\n",
      "Requirement already satisfied: contourpy>=1.0.1 in e:\\anaconda\\lib\\site-packages (from matplotlib) (3.2.0)\n",
      "Requirement already satisfied: cycler>=0.10 in e:\\anaconda\\lib\\site-packages (from matplotlib) (3.11.0)\n",
      "Requirement already satisfied: fonttools>=4.22.0 in e:\\anaconda\\lib\\site-packages (from matplotlib) (3.51.0)\n",
      "Requirement already satisfied: kiwisolver>=1.3.1 in e:\\anaconda\\lib\\site-packages (from matplotlib) (3.4.4)\n",
      "Requirement already satisfied: packaging>=20.0 in e:\\anaconda\\lib\\site-packages (from matplotlib) (24.1)\n",
      "Requirement already satisfied: pyparsing>=2.3.1 in e:\\anaconda\\lib\\site-packages (from matplotlib) (3.2.3)\n",
      "Requirement already satisfied: python-dateutil>=2.7 in e:\\anaconda\\lib\\site-packages (from matplotlib) (3.9.0.post0)\n",
      "Requirement already satisfied: six>=1.5 in e:\\anaconda\\lib\\site-packages (from matplotlib) (3.16.0)\n",
      "Downloading wordcloud-1.9.4-cp312-cp312-win_amd64.whl (301 kB)\n",
      "Installing collected packages: wordcloud\n",
      "Successfully installed wordcloud-1.9.4\n"
     ]
    }
   ],
   "source": [
    "!pip install wordcloud"
   ]
  },
  {
   "cell_type": "code",
   "execution_count": 3,
   "id": "ca67e9e0-9ec7-4c81-8cef-e41d7fbb2aca",
   "metadata": {},
   "outputs": [],
   "source": [
    "import requests\n",
    "import pandas as pd\n",
    "import numpy as np\n",
    "import matplotlib.pyplot as plt\n",
    "from wordcloud import WordCloud\n",
    "import json\n",
    "import sys"
   ]
  },
  {
   "cell_type": "code",
   "execution_count": 4,
   "id": "a158c9be-5e35-441e-9615-0c86d1caf123",
   "metadata": {},
   "outputs": [],
   "source": [
    "SEARCH_TERMS = [\"digital wellness\", \"screen time\", \"online safety\"]    # List of search terms (trends to analyze in Google Books Ngram Viewer)\n",
    "\n",
    "ANALYSIS_START_YEAR = 1800   # Start year of analysis\n",
    "\n",
    "ANALYSIS_END_YEAR = 2025     # End year of analysis\n",
    "\n",
    "LANGUAGE_CORPUS = 15    # Corpus: 15 = English (2019)\n",
    "\n",
    "SMOOTHING_FACTOR = 3 # Smoothing factor\n",
    "\n",
    "\n",
    "BROWSER_AGENT = \"Mozilla/5.0 (X11; Linux x86_64) AppleWebKit/537.36 (KHTML, like Gecko) Chrome/100 Safari/537.36\"       # HTTP User-Agent header\n",
    "\n",
    "\n",
    "RESULT_CSV_FILE = \"digital_wellness_ngrams_output.csv\"    # File paths\n",
    "CHART_PNG_FILE = \"digital_wellness_ngrams_plot.png\"\n",
    "WORDCLOUD_PNG_FILE = \"digital_wellness_ngrams_wordcloud.png\""
   ]
  },
  {
   "cell_type": "code",
   "execution_count": 5,
   "id": "658340cf-aca3-4609-8ad6-8c2110d99ac7",
   "metadata": {},
   "outputs": [],
   "source": [
    "def fetch_ngram_json(search_terms, year_start=ANALYSIS_START_YEAR, year_end=ANALYSIS_END_YEAR, corpus=LANGUAGE_CORPUS, smoothing=SMOOTHING_FACTOR):\n",
    "    \"\"\"\n",
    "    Fetch JSON data from Google Ngram Viewer.\n",
    "    \"\"\"\n",
    "    url = \"https://books.google.com/ngrams/json\"\n",
    "    params = {\n",
    "        \"content\": \",\".join(search_terms),\n",
    "        \"year_start\": year_start,\n",
    "        \"year_end\": year_end,\n",
    "        \"corpus\": corpus,\n",
    "        \"smoothing\": smoothing,\n",
    "    }\n",
    "    headers = {\"User-Agent\": BROWSER_AGENT}\n",
    "    response = requests.get(url, params=params, headers=headers, timeout=30)\n",
    "    response.raise_for_status()\n",
    "    return response.json()"
   ]
  },
  {
   "cell_type": "code",
   "execution_count": 6,
   "id": "d1817d6a-70cf-4891-9fe8-c1e3b3d29e0f",
   "metadata": {},
   "outputs": [],
   "source": [
    "def json_to_dataframe(ngram_json, year_start=ANALYSIS_START_YEAR, year_end=ANALYSIS_END_YEAR):\n",
    "    years = list(range(year_start, year_end + 1))\n",
    "    rows = []\n",
    "    for series in ngram_json:\n",
    "        ngram = series.get(\"ngram\")\n",
    "        timeseries = series.get(\"timeseries\", [])\n",
    "        if len(timeseries) != len(years):\n",
    "            timeseries = (timeseries + [0] * len(years))[:len(years)]\n",
    "        for y, v in zip(years, timeseries):\n",
    "            rows.append({\"year\": y, \"ngram\": ngram, \"freq\": float(v)})\n",
    "    df = pd.DataFrame(rows)\n",
    "    return df"
   ]
  },
  {
   "cell_type": "code",
   "execution_count": 7,
   "id": "0f1acbc9-0352-424f-93ca-005840394378",
   "metadata": {},
   "outputs": [],
   "source": [
    "def pivot_timeseries(df):\n",
    "    return df.pivot(index=\"year\", columns=\"ngram\", values=\"freq\").fillna(0)"
   ]
  },
  {
   "cell_type": "code",
   "execution_count": 8,
   "id": "d8501678-de43-4203-95e6-20348769f43f",
   "metadata": {},
   "outputs": [],
   "source": [
    "def save_csv(pivot_df, filename=RESULT_CSV_FILE):\n",
    "    pivot_df.to_csv(filename, index=True)\n",
    "    print(f\"[+] Saved CSV to {filename}\")"
   ]
  },
  {
   "cell_type": "code",
   "execution_count": 9,
   "id": "2b9503b5-7cea-4d27-8888-e9c1ebb0cbfa",
   "metadata": {},
   "outputs": [],
   "source": [
    "def plot_timeseries(pivot_df, filename=CHART_PNG_FILE):\n",
    "    plt.figure(figsize=(12,6))\n",
    "    ax = plt.gca()\n",
    "    pivot_df.plot(ax=ax, linewidth=2)\n",
    "    ax.set_xlabel(\"Year\")\n",
    "    ax.set_ylabel(\"Relative frequency (%)\")\n",
    "    ax.set_title(\"Google Books Ngram: Digital Wellness Awareness (1800–2025)\")\n",
    "    ax.grid(axis=\"y\", alpha=0.3)\n",
    "    plt.legend(title=\"ngram\", loc=\"upper right\")\n",
    "    plt.tight_layout()\n",
    "    plt.savefig(filename, dpi=150)\n",
    "    plt.close()\n",
    "    print(f\"[+] Saved time-series plot to {filename}\")"
   ]
  },
  {
   "cell_type": "code",
   "execution_count": 10,
   "id": "0f203d8b-8495-435b-91dd-a8bbe84fc74c",
   "metadata": {},
   "outputs": [],
   "source": [
    "def generate_wordcloud(pivot_df, filename=WORDCLOUD_PNG_FILE):\n",
    "    means = pivot_df.mean(axis=0).to_dict()\n",
    "    wc = WordCloud(width=800, height=400, background_color=\"white\")\n",
    "    wc.generate_from_frequencies(means)\n",
    "    wc.to_file(filename)\n",
    "    print(f\"[+] Saved word cloud to {filename}\")"
   ]
  },
  {
   "cell_type": "code",
   "execution_count": 11,
   "id": "ef8342db-7723-441d-abcd-f91b8ec880ed",
   "metadata": {},
   "outputs": [],
   "source": [
    "def compute_summary_stats(pivot_df):\n",
    "    \"\"\"Return a dict of helpful summary statistics for each ngram.\"\"\"\n",
    "    stats = {}\n",
    "    for col in pivot_df.columns:\n",
    "        series = pivot_df[col]\n",
    "        stats[col] = {\n",
    "            \"mean\": float(np.mean(series)),\n",
    "            \"median\": float(np.median(series)),\n",
    "            \"std\": float(np.std(series, ddof=0)),\n",
    "            \"max_value\": float(series.max()),\n",
    "            \"max_year\": int(series.idxmax()),\n",
    "            \"min_year\": int(series.idxmin())\n",
    "        }\n",
    "    return stats"
   ]
  },
  {
   "cell_type": "code",
   "execution_count": 12,
   "id": "0a14d4b6-fe50-40d2-ac60-36c85ab4b1dc",
   "metadata": {},
   "outputs": [],
   "source": [
    "def prepare_llm_prompt(summary_stats, pivot_df, top_n_years=5):\n",
    "    \"\"\"\n",
    "    Prepare a textual prompt to send to an LLM along with the CSV or summary.\n",
    "    The prompt asks the LLM for an interpretive summary and recommended\n",
    "    human-readable labels for the produced word cloud.\n",
    "    \"\"\"\n",
    "    short_table = pivot_df.mean(axis=0).sort_values(ascending=False).head(top_n_years).to_dict()\n",
    "    prompt = {\n",
    "        \"instruction\": \"You are given frequency time-series data (Google Ngram) for several terms \"\n",
    "                       \"about digital wellness (digital wellness, screen time, online safety). \"\n",
    "                       \"Please produce a concise (3-6 sentence) summary about the trends, \"\n",
    "                       \"mentioning which term rose or fell and notable years, and suggest 10 short keywords \"\n",
    "                       \"suitable for a word cloud. Use the summary statistics and CSV data below.\",\n",
    "        \"summary_stats\": summary_stats,\n",
    "        \"top_mean_terms\": short_table,\n",
    "        \"note\": \"CSV file attached separately (digital_wellness_ngrams_output.csv). Provide the textual summary and a 10-word list for the cloud.\"\n",
    "    }\n",
    "    return json.dumps(prompt, indent=2)"
   ]
  },
  {
   "cell_type": "code",
   "execution_count": 13,
   "id": "b81697a5-a287-45f1-981b-468f1e8a283b",
   "metadata": {},
   "outputs": [
    {
     "name": "stdout",
     "output_type": "stream",
     "text": [
      "[*] Fetching Ngram JSON for: ['digital wellness', 'screen time', 'online safety']\n",
      "[+] Successfully fetched Ngram data for 3 terms.\n"
     ]
    }
   ],
   "source": [
    "# Inform the user which terms are being fetched\n",
    "print(\"[*] Fetching Ngram JSON for:\", SEARCH_TERMS)\n",
    "\n",
    "try:\n",
    "    ngram_json = fetch_ngram_json(SEARCH_TERMS)\n",
    "    print(f\"[+] Successfully fetched Ngram data for {len(SEARCH_TERMS)} terms.\")\n",
    "except Exception as e:\n",
    "    print(\"[!] Error fetching Ngram JSON:\", e)\n",
    "    sys.exit(1)"
   ]
  },
  {
   "cell_type": "code",
   "execution_count": 14,
   "id": "f1e861ef-ac9c-4c39-a124-803bc1123c80",
   "metadata": {},
   "outputs": [],
   "source": [
    "df_long = json_to_dataframe(ngram_json)"
   ]
  },
  {
   "cell_type": "code",
   "execution_count": 15,
   "id": "e7e92e3e-eb98-4167-a939-4c4c821e03af",
   "metadata": {},
   "outputs": [],
   "source": [
    "pivot_df = pivot_timeseries(df_long)"
   ]
  },
  {
   "cell_type": "code",
   "execution_count": 16,
   "id": "55a759f6-0edf-479d-9361-2654fe09fb3c",
   "metadata": {},
   "outputs": [
    {
     "name": "stdout",
     "output_type": "stream",
     "text": [
      "[+] Saved CSV to digital_wellness_ngrams_output.csv\n"
     ]
    }
   ],
   "source": [
    "save_csv(pivot_df)"
   ]
  },
  {
   "cell_type": "code",
   "execution_count": 17,
   "id": "d8fb8b80-f4c6-4779-b454-a6e230eeaea7",
   "metadata": {},
   "outputs": [
    {
     "name": "stdout",
     "output_type": "stream",
     "text": [
      "[+] Saved time-series plot to digital_wellness_ngrams_plot.png\n"
     ]
    }
   ],
   "source": [
    "plot_timeseries(pivot_df)"
   ]
  },
  {
   "cell_type": "code",
   "execution_count": 18,
   "id": "7c3bd7a6-823c-45cd-9947-7f24c6a9d131",
   "metadata": {},
   "outputs": [
    {
     "name": "stdout",
     "output_type": "stream",
     "text": [
      "[+] Saved word cloud to digital_wellness_ngrams_wordcloud.png\n"
     ]
    }
   ],
   "source": [
    "generate_wordcloud(pivot_df)"
   ]
  },
  {
   "cell_type": "code",
   "execution_count": 19,
   "id": "accae522-24fa-4b68-a1b0-d0da0d99b2fa",
   "metadata": {},
   "outputs": [],
   "source": [
    "stats = compute_summary_stats(pivot_df)"
   ]
  },
  {
   "cell_type": "code",
   "execution_count": 20,
   "id": "a1419964-077f-41b2-aed4-5c1ef4160036",
   "metadata": {},
   "outputs": [
    {
     "name": "stdout",
     "output_type": "stream",
     "text": [
      "\n",
      "[Summary statistics (per-term)]:\n",
      "{\n",
      "  \"digital wellness\": {\n",
      "    \"mean\": 0.0,\n",
      "    \"median\": 0.0,\n",
      "    \"std\": 0.0,\n",
      "    \"max_value\": 0.0,\n",
      "    \"max_year\": 1800,\n",
      "    \"min_year\": 1800\n",
      "  },\n",
      "    \"online safety\": {\n",
      "    \"mean\": 0.0,\n",
      "    \"median\": 0.0,\n",
      "    \"std\": 0.0,\n",
      "    \"max_value\": 0.0,\n",
      "    \"max_year\": 1800,\n",
      "    \"min_year\": 1800\n",
      "  },\n",
      "  \"screen time\": {\n",
      "    \"mean\": 0.0,\n",
      "    \"median\": 0.0,\n",
      "    \"std\": 0.0,\n",
      "    \"max_value\": 0.0,\n",
      "    \"max_year\": 1800,\n",
      "    \"min_year\": 1800\n",
      "  }\n",
      "}\n"
     ]
    }
   ],
   "source": [
    "print(\"\\n[Summary statistics (per-term)]:\")\n",
    "print(json.dumps(stats, indent=2))"
   ]
  },
  {
   "cell_type": "code",
   "execution_count": 21,
   "id": "a328e1da-a19f-4906-846f-8dd78b365b14",
   "metadata": {},
   "outputs": [],
   "source": [
    "prompt = prepare_llm_prompt(stats, pivot_df)"
   ]
  },
  {
   "cell_type": "code",
   "execution_count": 22,
   "id": "3308c80d-7552-41b2-a976-f128b93798da",
   "metadata": {},
   "outputs": [
    {
     "name": "stdout",
     "output_type": "stream",
     "text": [
      "\n",
      "[LLM prompt you can send (JSON):]\n",
      "\n",
      "{\n",
      "  \"instruction\": \"You are given frequency time-series data (Google Ngram) for several terms about digital wellness (digital wellness, screen time, online safety). Please produce a concise (3-6 sentence) summary about the trends, mentioning which term rose or fell and notable years, and suggest 10 short keywords suitable for a word cloud. Use the summary statistics and CSV data below.\",\n",
      "  \"summary_stats\": {\n",
      "    \"digital wellness\": {\n",
      "      \"mean\": 0.0,\n",
      "      \"median\": 0.0,\n",
      "      \"std\": 0.0,\n",
      "      \"max_value\": 0.0,\n",
      "      \"max_year\": 1800,\n",
      "      \"min_year\": 1800\n",
      "    },\n",
      "    \"online safety\": {\n",
      "      \"mean\": 0.0,\n",
      "      \"median\": 0.0,\n",
      "      \"std\": 0.0,\n",
      "      \"max_value\": 0.0,\n",
      "      \"max_year\": 1800,\n",
      "      \"min_year\": 1800\n",
      "    },\n",
      "    \"screen time\": {\n",
      "      \"mean\": 0.0,\n",
      "      \"median\": 0.0,\n",
      "      \"std\": 0.0,\n",
      "      \"max_value\": 0.0,\n",
      "      \"max_year\": 1800,\n",
      "      \"min_year\": 1800\n",
      "    }\n",
      "  },\n",
      "  \"top_mean_terms\": {\n",
      "    \"digital wellness\": 0.0,\n",
      "    \"online safety\": 0.0,\n",
      "    \"screen time\": 0.0\n",
      "  },\n",
      "  \"note\": \"CSV file attached separately (digital_wellness_ngrams_output.csv). Provide the textual summary and a 10-word list for the cloud.\"\n",
      "}\n"
     ]
    }
   ],
   "source": [
    "print(\"\\n[LLM prompt you can send (JSON):]\\n\")\n",
    "print(prompt)"
   ]
  },
  {
   "cell_type": "code",
   "execution_count": 23,
   "id": "e2fb5cc5-ea9d-48e5-add9-8747bb2db8d4",
   "metadata": {},
   "outputs": [
    {
     "name": "stdout",
     "output_type": "stream",
     "text": [
      "\n",
      "[Done] Files:  digital_wellness_ngrams_output.csv digital_wellness_ngrams_plot.png digital_wellness_ngrams_wordcloud.png\n"
     ]
    }
   ],
   "source": [
    "print(\"\\n[Done] Files: \", RESULT_CSV_FILE, CHART_PNG_FILE, WORDCLOUD_PNG_FILE)"
   ]
  },
  {
   "cell_type": "code",
   "execution_count": 24,
   "id": "772976e8-93bd-4c1e-a3eb-fcf55b428281",
   "metadata": {},
   "outputs": [
    {
     "data": {
      "image/png": "iVBORw0KGgoAAAANSUhEUgAAAsAAAAJACAYAAACyqk+LAAAABHNCSVQICAgIfAhkiAAAAAlwSFlzAAALEgAACxIB0t1+/AAAADh0RVh0U29mdHdhcmUAbWF0cGxvdGxpYiB2ZXJzaW9uMy4yLjEsIGh0dHA6Ly9tYXRwbG90bGliLm9yZy8QZrvZAAAACXBIWXMAAAsTAAALEwEAmpwYAAEAAElEQVR4nOzdd3hU1fr38e+ZSSGNhBB6DyX0XqQXKQqCgIqKvXcUe0dFsaCIFRULKoqKDRUVRKQjvXcCSUglhfQy8/4xP4gKpM3Mnpn5vq5rLpKZ2WvWzJ7Zc+9nPc8xTqcTERERERERERERERERERERERERERERERERERERERERERERERERERERERERERERERERERERERERERERERERERERERERERERERERERERERERERERERERERERERERERERERERERERERERERERERERERERERERERERERERERERERERERERERERERERERERERERERERERERERERERERERERERERERERERERERERERERERERERERERERERERERERERERERERERERERERERERERERERERERERERERERERERERERERERERERERERERERERERERERERERERERERERERERERERERERERERERERERERERERERERERERERERERERERERERERERERERERERERERERERERERERERERERERERERERERERERERERERERERERERERERERERERERERERERERERERERERERERERERERERERERERERERERERERERERERERERERERERERERERERERERERERERERERERERERERERERERERERERERERERERERERERERERERERERERERERERERERERERERERERERERERERERERERERERERERERERERERERERERERERERERERERERERERERERERERERERERERERERERERERERERERERERERERERERERERERERERERERERERERERERERERERERERERERERERERERERERERERERERERERERERERERERERERERERERERERERERERERERERERERERERERERERERERERERERERERERERERERERERERERERERERERERERERERERERERERERERERERERERERERERERERERERERERERERERERERERERERERERERERERERERERERERERERERERERERERERERERERERERERERERERERERERERERERERERERERERERERERERERERERERERERERERERERERERERERERERERERERERERERERERERERERERERERERERERERERERERERERERERERERERERERERERERERERERERERERERERERERERERERERERERERERERERERERERERERERERERERERERERERERERERERERERERERERERERERERERERERERERERERERERERERERERERERERERERERERERERERERERERERERERERERERERERERERERERERERERERERERERERERERERERERERERERERERERERERERERERERERERERERERERERERERERERERERERERERERERERERERERERERERERERERERERERERERERERERERERERERERERERERERERERERERERERERERERERERERERERERERERERERERERERERERERERERERERERERERERERERERERERERERERERERERERERERERERERERERERERERERERERERERERERERERERERERERERERERERERERERERERERERERERERERERERERERERERERERERERERERERERERERERERERERERERERERERERERERERERERERERERERERERERERERERERERERERERERERERERERERERERERERERERERERERERERERERERERERERERERERERERERERERERERERERERERERERERERERERERERERERERERERERERERERERERERERERERERERERERERERERERERERERERERERERERERERERERERERERERERERERERERERERERERERERERERERERERERERERERERERERERERERERERERERERERERERERERERERERERERERERERERERERERERERERERERERERERERERERERERERERERERERERERERERERERERERERERERERERERERERERERERERERERERERERERERERERERERERERERERERERERERERERERERERERERERERERERERERERERERERERERERERERERERERERERERERERERERERERERERERERERERERERERERERERERERERERERERERERERERERERERERERERERERERERERERERERERERERERERERERERERERERERERERERERERERERERERERERERERERERERERERERERERERERERERERERERERERERERERERERERERERERERERERERERERERERERERERERERERERERERERERERERERERERERERERERERERERERERERERERERERERERERERERERERERERERERERERERERERERERERERERERERERERERERERERERERERERERERERERERERERERERERERERERERERERERERERERERERERERERERERERERERERERERERERERERERERERERERERERERERERERERERERERERERERERERERERERERERERERERERERERERERERERERERERERERERERERERERERERERERERERERERERERERERERERERERERERERERERERERERERERERERERERERERERERERERERERERERERERERERERERERERERERERERERERERERERERERERERERERERERERERERERERERERERERERERERERERERERERERERERERERERERERERERERERERERERERERERERERERERERERERERERERERERERERERERERERERERERERERERERERERERERERERERERERERERERERERERERERERERERERERERERERERERERERERERERERERERERERERERERERERERERERERERERERERERERERERERERERERERERERERERERERERERERERERERERERERERERERERERERERERERERERERERERERERERERERERERERERERERERERERERERERERERERERERERERERERERERERERERERERERERERERERERERERERERERERERERERERERERERERERERERERERERERERERERERERERERERERERERERERERERERERERERERERERERERERERERERERERERERERERERERERERERERERERERERERERERERERERERERERERERERERERERERERERERERERERERERERERERERERERERERERERERERERERERERERERERERERERERERERERERERERERERERERERERERERERERERERERERERERERERERERERERERERERERERERERERERERERERERERERERERERERERERERERERERERERERERERERERERERERERERERERERERERERERERERERERERERERERERERERERERERERERERERERERERERERERERERERERERERERERERERERERERERERERERERERERERERERERERERERERERERERERERERERERERERERERERERERERERERERERERERERERERERERERERERERERERERERERERERERERERERERERERERERERERERERERERERERERERERERERERERERERERERERERERERERERERERERERERERERERERERERERERERERERERERERERERERERERERERERERERERERERERERERERERERERERERERERERERERERERERERERERERERERERERERERERERERERERERERERERERERERERERERERERERERERERERERERERERERERERERERERERERERERERERERERERERERERERERERERERERERERERERERERERERERERERERERERERERERERERERERERERERERERERERERERERERERERERERERERERERERERERERERERERERERERERERERERERERERERERERERERERERERERERERERERERERERERERERERERERERERERERERERERERERERERERERERERERERERERERERERERERERERERERERERERERERERERERERERERERERERERERERERERERERERERERERERERERERERERERERERERERERERERERERERERERERERERERERERERERERERERERERERERERERERERERERERERERERERERERERERERERERERERERERERERERERERERERERERERERERERERERERERERERERERERERERERERERERERERERERERERERERERERERERERERERERERERERERERERERERERERERERERERERERERERERERERERERERERERERERERERERERERERERERERERERERERERERERERERERERERERERERERERERERERERERERERERERERERERERERERERERERERERERERERERERERERERERERERERERERERERERERERERERERERERERERERERERERERERERERERERERERERERERERERERERERERERERERERERERERERERERERERERERERERERERERERERERERERERERERERERERERERERERERERERERERERERERERERERERERERERERERERERERERERERERERERERERERERERERERERERERERERERERERERERERERERERERERERERERERERERERERERERERERERERERERERERERERERERERERERERERERERERERERERERERERERERERERERERERERERERERERERERERERERERERERERERERERERERERERERERERERERERERERERERERERERERERERERERERERERERERERERERERERERERERERERERERERERERERERERERERERERERERERERERERERERERERERERERERERERERERERERERERERERERERERERERERERERERERERERERERERERERERERERERERERERERERERERERERERERERERERERERERERERERERERERERERERERERERERERERERERERERERERERERERERERERERERERERERERERERERERERERERERERERERERERERERERERERERERERERERERERERERERERERERERERERERERERERERERERERERERERERERERERERERERERERERERERERERERERERERERERERERERERERERERERERERERERERERERERERERERERERERERERERERERERERERERERERERERERERERERERERERERERERERERERERERERERERERERERERERERERERERERERERERERERERERERERERERERERERERERERERERERERERERERERERERERERERERERERERERERERERERERERERERERERERERERERERERERERERERERERERERERERERERERERERERERERERERERERERERERERERERERERERERERERERERERERERERERERERERERERERERERERERERERERERERERERERERERERERERERERERERERERERERERERERERERERERERERERERERERERERERERERERERERERERERERERERERERERERERERERERERERERERERERERERERERERERERERERERERERERERERERERERERERERERERERERERERERERERERERERERERERERERERERERERERERERERERERERERERERERERERERERERERERERERERERERERERERERERERERERERERERERERERERERERERERERERERERERERERERERERERERERERERERERERERERERERERERERERERERERERERERERERERERERERERERERERERERERERERERERERERERERERERERERERERERERERERERERERERERERERERERERERERERERERERERERERERERERERERERERERERERERERERERERERERERERERERERERERERERERERERERERERERERERERERERERERERERERERERERERERERERERERERERERERERERERERERERERERERERERERERERERERERERERERERERERERERERERERERERERERERERERERERERERERERERERERERERERERERERERERERERERERERERERERERERERERERERERERERERERERERERERERERERERERERERERERERERERERERERERERERERERERERERERERERERERERERERERERERERERERERERERERERERERERERERERERERERERERERERERERERERERERERERERERERERERERERERERERERERERERERERERERERERERERERERERERERERERERERERERERERERERERERERERERERERERERERERERERERERERERERERERERERERERERERERERERERERERERERERERERERERERERERERERERERERERERERERERERERERERERERERERERERERERERERERERERERERERERERERERERERERERERERERERERERERERERERERERERERERERERERERERERERERERERERERERERERERERERERERERERERERERERERERERERERERERERERERERERERERERERERERERERERERERERERERERERERERERERERERERERERERERERERERERERERERERERERERERERERERERERERERERERERERERERERERERERERERERERERERERERERERERERERERERERERERERERERERERERERERERERERERERERERERERERERERERERERERERERERERERERERERERERERERERERERERERERERERERERERERERERERERERERERERERERERERERERERERERERERERERERERERERERERERERERERERERERERERERERERERERERERERERERERERERERERERERERERERERERERERERERERERERERERERERERERERERERERERERERERERERERERERERERERERERERERERERERERERERERERERERERERERERERERERERERERERERERERERERERERERERERERERERERERERERERERERERERERERERERERERERERERERERERERERERERERERERERERERERERERERERERERERERERERERERERERERERERERERERERERERERERERERERERERERERERERERERERERERERERERERERERERERERERERERERERERERERERERERERERERERER